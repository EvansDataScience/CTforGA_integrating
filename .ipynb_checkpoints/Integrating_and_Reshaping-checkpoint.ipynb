{
 "cells": [
  {
   "cell_type": "markdown",
   "metadata": {},
   "source": [
    "<center><img src=\"http://i.imgur.com/sSaOozN.png\" width=\"500\"></center>\n",
    "\n",
    "## Course: Computational Thinking for Governance Analytics\n",
    "\n",
    "### Prof. José Manuel Magallanes, PhD \n",
    "* Visiting Professor of Computational Policy at Evans School of Public Policy and Governance, and eScience Institute Senior Data Science Fellow, University of Washington.\n",
    "* Professor of Government and Political Methodology, Pontificia Universidad Católica del Perú. \n",
    "\n",
    "_____\n",
    "\n",
    "# Data Preprocessing in Python: Data Integration and Reshaping"
   ]
  },
  {
   "cell_type": "markdown",
   "metadata": {},
   "source": [
    "We all know collect data from different places. While the cleaning and formatting is done for each data source, we finally need to integrate all the sources into one to start the real analytical work."
   ]
  },
  {
   "cell_type": "markdown",
   "metadata": {},
   "source": [
    "I will use several data sets in this material. Let me start with the one from CIA on internet users:"
   ]
  },
  {
   "cell_type": "code",
   "execution_count": 1,
   "metadata": {},
   "outputs": [],
   "source": [
    "import pandas as pd\n",
    "\n",
    "demoLink=\"https://en.wikipedia.org/wiki/Democracy_Index\"\n",
    "\n",
    "demodata=pd.read_html(demoLink,header=0,flavor=\"bs4\",attrs={'class':\"wikitable sortable\"})"
   ]
  },
  {
   "cell_type": "markdown",
   "metadata": {},
   "source": [
    "You should remember by now that **demodata** is a _list_ of all the sortable tables from that URL. Let me recover the one we saw last week:"
   ]
  },
  {
   "cell_type": "code",
   "execution_count": 2,
   "metadata": {},
   "outputs": [],
   "source": [
    "demoVars=demodata[4].copy()"
   ]
  },
  {
   "cell_type": "markdown",
   "metadata": {},
   "source": [
    "Let's see some info:"
   ]
  },
  {
   "cell_type": "code",
   "execution_count": 3,
   "metadata": {},
   "outputs": [
    {
     "data": {
      "text/html": [
       "<div>\n",
       "<style scoped>\n",
       "    .dataframe tbody tr th:only-of-type {\n",
       "        vertical-align: middle;\n",
       "    }\n",
       "\n",
       "    .dataframe tbody tr th {\n",
       "        vertical-align: top;\n",
       "    }\n",
       "\n",
       "    .dataframe thead th {\n",
       "        text-align: right;\n",
       "    }\n",
       "</style>\n",
       "<table border=\"1\" class=\"dataframe\">\n",
       "  <thead>\n",
       "    <tr style=\"text-align: right;\">\n",
       "      <th></th>\n",
       "      <th>Rank</th>\n",
       "      <th>.mw-parser-output .tooltip-dotted{border-bottom:1px dotted;cursor:help}Δ Rank</th>\n",
       "      <th>Country</th>\n",
       "      <th>Regime type</th>\n",
       "      <th>Overall score</th>\n",
       "      <th>Δ Score</th>\n",
       "      <th>Elec­toral pro­cess and plura­lism</th>\n",
       "      <th>Func­tioning of govern­ment</th>\n",
       "      <th>Poli­tical partici­pation</th>\n",
       "      <th>Poli­tical cul­ture</th>\n",
       "      <th>Civil liber­ties</th>\n",
       "    </tr>\n",
       "  </thead>\n",
       "  <tbody>\n",
       "    <tr>\n",
       "      <th>0</th>\n",
       "      <td>Full democracies</td>\n",
       "      <td>Full democracies</td>\n",
       "      <td>Full democracies</td>\n",
       "      <td>Full democracies</td>\n",
       "      <td>Full democracies</td>\n",
       "      <td>Full democracies</td>\n",
       "      <td>Full democracies</td>\n",
       "      <td>Full democracies</td>\n",
       "      <td>Full democracies</td>\n",
       "      <td>Full democracies</td>\n",
       "      <td>Full democracies</td>\n",
       "    </tr>\n",
       "    <tr>\n",
       "      <th>1</th>\n",
       "      <td>1</td>\n",
       "      <td>NaN</td>\n",
       "      <td>Norway</td>\n",
       "      <td>Full democracy</td>\n",
       "      <td>9.81</td>\n",
       "      <td>0.06</td>\n",
       "      <td>10.00</td>\n",
       "      <td>9.64</td>\n",
       "      <td>10.00</td>\n",
       "      <td>10.00</td>\n",
       "      <td>9.41</td>\n",
       "    </tr>\n",
       "    <tr>\n",
       "      <th>2</th>\n",
       "      <td>2</td>\n",
       "      <td>NaN</td>\n",
       "      <td>Iceland</td>\n",
       "      <td>Full democracy</td>\n",
       "      <td>9.37</td>\n",
       "      <td>0.21</td>\n",
       "      <td>10.00</td>\n",
       "      <td>8.57</td>\n",
       "      <td>8.89</td>\n",
       "      <td>10.00</td>\n",
       "      <td>9.41</td>\n",
       "    </tr>\n",
       "    <tr>\n",
       "      <th>3</th>\n",
       "      <td>3</td>\n",
       "      <td>NaN</td>\n",
       "      <td>Sweden</td>\n",
       "      <td>Full democracy</td>\n",
       "      <td>9.26</td>\n",
       "      <td>0.13</td>\n",
       "      <td>9.58</td>\n",
       "      <td>9.29</td>\n",
       "      <td>8.33</td>\n",
       "      <td>10.00</td>\n",
       "      <td>9.12</td>\n",
       "    </tr>\n",
       "    <tr>\n",
       "      <th>4</th>\n",
       "      <td>4</td>\n",
       "      <td>NaN</td>\n",
       "      <td>New Zealand</td>\n",
       "      <td>Full democracy</td>\n",
       "      <td>9.25</td>\n",
       "      <td>0.01</td>\n",
       "      <td>10.00</td>\n",
       "      <td>8.93</td>\n",
       "      <td>8.89</td>\n",
       "      <td>8.75</td>\n",
       "      <td>9.71</td>\n",
       "    </tr>\n",
       "  </tbody>\n",
       "</table>\n",
       "</div>"
      ],
      "text/plain": [
       "               Rank  \\\n",
       "0  Full democracies   \n",
       "1                 1   \n",
       "2                 2   \n",
       "3                 3   \n",
       "4                 4   \n",
       "\n",
       "  .mw-parser-output .tooltip-dotted{border-bottom:1px dotted;cursor:help}Δ Rank  \\\n",
       "0                                   Full democracies                              \n",
       "1                                                NaN                              \n",
       "2                                                NaN                              \n",
       "3                                                NaN                              \n",
       "4                                                NaN                              \n",
       "\n",
       "            Country       Regime type     Overall score           Δ Score  \\\n",
       "0  Full democracies  Full democracies  Full democracies  Full democracies   \n",
       "1            Norway    Full democracy              9.81              0.06   \n",
       "2           Iceland    Full democracy              9.37              0.21   \n",
       "3            Sweden    Full democracy              9.26              0.13   \n",
       "4       New Zealand    Full democracy              9.25              0.01   \n",
       "\n",
       "  Elec­toral pro­cess and plura­lism Func­tioning of govern­ment  \\\n",
       "0                   Full democracies            Full democracies   \n",
       "1                              10.00                        9.64   \n",
       "2                              10.00                        8.57   \n",
       "3                               9.58                        9.29   \n",
       "4                              10.00                        8.93   \n",
       "\n",
       "  Poli­tical partici­pation Poli­tical cul­ture  Civil liber­ties  \n",
       "0          Full democracies    Full democracies  Full democracies  \n",
       "1                     10.00               10.00              9.41  \n",
       "2                      8.89               10.00              9.41  \n",
       "3                      8.33               10.00              9.12  \n",
       "4                      8.89                8.75              9.71  "
      ]
     },
     "execution_count": 3,
     "metadata": {},
     "output_type": "execute_result"
    }
   ],
   "source": [
    "demoVars.head()"
   ]
  },
  {
   "cell_type": "markdown",
   "metadata": {},
   "source": [
    "Let's keep the columns we will  use:"
   ]
  },
  {
   "cell_type": "code",
   "execution_count": 4,
   "metadata": {},
   "outputs": [],
   "source": [
    "whichToDrop=[0,1,5]\n",
    "demoVars.drop(labels=demoVars.columns[whichToDrop],axis=1,inplace=True)"
   ]
  },
  {
   "cell_type": "code",
   "execution_count": 5,
   "metadata": {},
   "outputs": [
    {
     "data": {
      "text/html": [
       "<div>\n",
       "<style scoped>\n",
       "    .dataframe tbody tr th:only-of-type {\n",
       "        vertical-align: middle;\n",
       "    }\n",
       "\n",
       "    .dataframe tbody tr th {\n",
       "        vertical-align: top;\n",
       "    }\n",
       "\n",
       "    .dataframe thead th {\n",
       "        text-align: right;\n",
       "    }\n",
       "</style>\n",
       "<table border=\"1\" class=\"dataframe\">\n",
       "  <thead>\n",
       "    <tr style=\"text-align: right;\">\n",
       "      <th></th>\n",
       "      <th>Country</th>\n",
       "      <th>Regime type</th>\n",
       "      <th>Overall score</th>\n",
       "      <th>Elec­toral pro­cess and plura­lism</th>\n",
       "      <th>Func­tioning of govern­ment</th>\n",
       "      <th>Poli­tical partici­pation</th>\n",
       "      <th>Poli­tical cul­ture</th>\n",
       "      <th>Civil liber­ties</th>\n",
       "    </tr>\n",
       "  </thead>\n",
       "  <tbody>\n",
       "    <tr>\n",
       "      <th>0</th>\n",
       "      <td>Full democracies</td>\n",
       "      <td>Full democracies</td>\n",
       "      <td>Full democracies</td>\n",
       "      <td>Full democracies</td>\n",
       "      <td>Full democracies</td>\n",
       "      <td>Full democracies</td>\n",
       "      <td>Full democracies</td>\n",
       "      <td>Full democracies</td>\n",
       "    </tr>\n",
       "    <tr>\n",
       "      <th>1</th>\n",
       "      <td>Norway</td>\n",
       "      <td>Full democracy</td>\n",
       "      <td>9.81</td>\n",
       "      <td>10.00</td>\n",
       "      <td>9.64</td>\n",
       "      <td>10.00</td>\n",
       "      <td>10.00</td>\n",
       "      <td>9.41</td>\n",
       "    </tr>\n",
       "    <tr>\n",
       "      <th>2</th>\n",
       "      <td>Iceland</td>\n",
       "      <td>Full democracy</td>\n",
       "      <td>9.37</td>\n",
       "      <td>10.00</td>\n",
       "      <td>8.57</td>\n",
       "      <td>8.89</td>\n",
       "      <td>10.00</td>\n",
       "      <td>9.41</td>\n",
       "    </tr>\n",
       "    <tr>\n",
       "      <th>3</th>\n",
       "      <td>Sweden</td>\n",
       "      <td>Full democracy</td>\n",
       "      <td>9.26</td>\n",
       "      <td>9.58</td>\n",
       "      <td>9.29</td>\n",
       "      <td>8.33</td>\n",
       "      <td>10.00</td>\n",
       "      <td>9.12</td>\n",
       "    </tr>\n",
       "    <tr>\n",
       "      <th>4</th>\n",
       "      <td>New Zealand</td>\n",
       "      <td>Full democracy</td>\n",
       "      <td>9.25</td>\n",
       "      <td>10.00</td>\n",
       "      <td>8.93</td>\n",
       "      <td>8.89</td>\n",
       "      <td>8.75</td>\n",
       "      <td>9.71</td>\n",
       "    </tr>\n",
       "    <tr>\n",
       "      <th>...</th>\n",
       "      <td>...</td>\n",
       "      <td>...</td>\n",
       "      <td>...</td>\n",
       "      <td>...</td>\n",
       "      <td>...</td>\n",
       "      <td>...</td>\n",
       "      <td>...</td>\n",
       "      <td>...</td>\n",
       "    </tr>\n",
       "    <tr>\n",
       "      <th>166</th>\n",
       "      <td>Chad</td>\n",
       "      <td>Authoritarian</td>\n",
       "      <td>1.55</td>\n",
       "      <td>0.00</td>\n",
       "      <td>0.00</td>\n",
       "      <td>1.67</td>\n",
       "      <td>3.75</td>\n",
       "      <td>2.35</td>\n",
       "    </tr>\n",
       "    <tr>\n",
       "      <th>167</th>\n",
       "      <td>Syria</td>\n",
       "      <td>Authoritarian</td>\n",
       "      <td>1.43</td>\n",
       "      <td>0.00</td>\n",
       "      <td>0.00</td>\n",
       "      <td>2.78</td>\n",
       "      <td>4.38</td>\n",
       "      <td>0.00</td>\n",
       "    </tr>\n",
       "    <tr>\n",
       "      <th>168</th>\n",
       "      <td>Central African Republic</td>\n",
       "      <td>Authoritarian</td>\n",
       "      <td>1.32</td>\n",
       "      <td>1.25</td>\n",
       "      <td>0.00</td>\n",
       "      <td>1.11</td>\n",
       "      <td>1.88</td>\n",
       "      <td>2.35</td>\n",
       "    </tr>\n",
       "    <tr>\n",
       "      <th>169</th>\n",
       "      <td>Democratic Republic of the Congo</td>\n",
       "      <td>Authoritarian</td>\n",
       "      <td>1.13</td>\n",
       "      <td>0.00</td>\n",
       "      <td>0.00</td>\n",
       "      <td>1.67</td>\n",
       "      <td>3.13</td>\n",
       "      <td>0.88</td>\n",
       "    </tr>\n",
       "    <tr>\n",
       "      <th>170</th>\n",
       "      <td>North Korea</td>\n",
       "      <td>Authoritarian</td>\n",
       "      <td>1.08</td>\n",
       "      <td>0.00</td>\n",
       "      <td>2.50</td>\n",
       "      <td>1.67</td>\n",
       "      <td>1.25</td>\n",
       "      <td>0.00</td>\n",
       "    </tr>\n",
       "  </tbody>\n",
       "</table>\n",
       "<p>171 rows × 8 columns</p>\n",
       "</div>"
      ],
      "text/plain": [
       "                              Country       Regime type     Overall score  \\\n",
       "0                    Full democracies  Full democracies  Full democracies   \n",
       "1                              Norway    Full democracy              9.81   \n",
       "2                             Iceland    Full democracy              9.37   \n",
       "3                              Sweden    Full democracy              9.26   \n",
       "4                         New Zealand    Full democracy              9.25   \n",
       "..                                ...               ...               ...   \n",
       "166                              Chad     Authoritarian              1.55   \n",
       "167                             Syria     Authoritarian              1.43   \n",
       "168          Central African Republic     Authoritarian              1.32   \n",
       "169  Democratic Republic of the Congo     Authoritarian              1.13   \n",
       "170                       North Korea     Authoritarian              1.08   \n",
       "\n",
       "    Elec­toral pro­cess and plura­lism Func­tioning of govern­ment  \\\n",
       "0                     Full democracies            Full democracies   \n",
       "1                                10.00                        9.64   \n",
       "2                                10.00                        8.57   \n",
       "3                                 9.58                        9.29   \n",
       "4                                10.00                        8.93   \n",
       "..                                 ...                         ...   \n",
       "166                               0.00                        0.00   \n",
       "167                               0.00                        0.00   \n",
       "168                               1.25                        0.00   \n",
       "169                               0.00                        0.00   \n",
       "170                               0.00                        2.50   \n",
       "\n",
       "    Poli­tical partici­pation Poli­tical cul­ture  Civil liber­ties  \n",
       "0            Full democracies    Full democracies  Full democracies  \n",
       "1                       10.00               10.00              9.41  \n",
       "2                        8.89               10.00              9.41  \n",
       "3                        8.33               10.00              9.12  \n",
       "4                        8.89                8.75              9.71  \n",
       "..                        ...                 ...               ...  \n",
       "166                      1.67                3.75              2.35  \n",
       "167                      2.78                4.38              0.00  \n",
       "168                      1.11                1.88              2.35  \n",
       "169                      1.67                3.13              0.88  \n",
       "170                      1.67                1.25              0.00  \n",
       "\n",
       "[171 rows x 8 columns]"
      ]
     },
     "execution_count": 5,
     "metadata": {},
     "output_type": "execute_result"
    }
   ],
   "source": [
    "demoVars"
   ]
  },
  {
   "cell_type": "markdown",
   "metadata": {},
   "source": [
    "Let's clean the columns names:"
   ]
  },
  {
   "cell_type": "code",
   "execution_count": 6,
   "metadata": {},
   "outputs": [
    {
     "data": {
      "text/plain": [
       "Index(['Country', 'Regime type', 'Overall score',\n",
       "       'Elec­toral pro­cess and plura­lism', 'Func­tioning of govern­ment',\n",
       "       'Poli­tical partici­pation', 'Poli­tical cul­ture', 'Civil liber­ties'],\n",
       "      dtype='object')"
      ]
     },
     "execution_count": 6,
     "metadata": {},
     "output_type": "execute_result"
    }
   ],
   "source": [
    "# these are:\n",
    "demoVars.columns"
   ]
  },
  {
   "cell_type": "markdown",
   "metadata": {},
   "source": [
    "Let's try one of those with a dash:"
   ]
  },
  {
   "cell_type": "code",
   "execution_count": 7,
   "metadata": {},
   "outputs": [
    {
     "data": {
      "text/plain": [
       "'Poli\\xadticalpartici\\xadpation'"
      ]
     },
     "execution_count": 7,
     "metadata": {},
     "output_type": "execute_result"
    }
   ],
   "source": [
    "import re\n",
    "re.sub(\"\\\\s\",\"\",demoVars.columns[5])"
   ]
  },
  {
   "cell_type": "markdown",
   "metadata": {},
   "source": [
    "The result shows you some hidden character. Let's use that info with the pandas replace:"
   ]
  },
  {
   "cell_type": "code",
   "execution_count": 8,
   "metadata": {},
   "outputs": [],
   "source": [
    "demoVars.columns=demoVars.columns.str.replace(\"\\\\s|\\\\xad\",\"\",regex=True)"
   ]
  },
  {
   "cell_type": "markdown",
   "metadata": {},
   "source": [
    "Let's clean the data contents. Notice that in the website some labels that are not needed are present in this case. Let's check the frequency table of \"Regime Type\" to try to identify the wrong labels that are affecting the data frame: "
   ]
  },
  {
   "cell_type": "code",
   "execution_count": 9,
   "metadata": {},
   "outputs": [
    {
     "data": {
      "text/plain": [
       "Authoritarian            57\n",
       "Flawed democracy         52\n",
       "Hybrid regime            35\n",
       "Full democracy           23\n",
       "Full democracies          1\n",
       "Flawed democracies        1\n",
       "Hybrid regimes            1\n",
       "Authoritarian regimes     1\n",
       "Name: Regimetype, dtype: int64"
      ]
     },
     "execution_count": 9,
     "metadata": {},
     "output_type": "execute_result"
    }
   ],
   "source": [
    "demoVars['Regimetype'].value_counts()"
   ]
  },
  {
   "cell_type": "code",
   "execution_count": 10,
   "metadata": {},
   "outputs": [
    {
     "data": {
      "text/plain": [
       "Index(['Full democracies', 'Flawed democracies', 'Hybrid regimes',\n",
       "       'Authoritarian regimes'],\n",
       "      dtype='object')"
      ]
     },
     "execution_count": 10,
     "metadata": {},
     "output_type": "execute_result"
    }
   ],
   "source": [
    "# these are the wrong ones:\n",
    "demoVars['Regimetype'].value_counts().index[4:]"
   ]
  },
  {
   "cell_type": "code",
   "execution_count": 11,
   "metadata": {},
   "outputs": [],
   "source": [
    "#saving the wrong ones:\n",
    "byeValues=demoVars['Regimetype'].value_counts().index[4:]"
   ]
  },
  {
   "cell_type": "markdown",
   "metadata": {},
   "source": [
    "Now that we know which ones are not needed, we can filter the data frame rows using pandas' **isnin**:"
   ]
  },
  {
   "cell_type": "code",
   "execution_count": 12,
   "metadata": {},
   "outputs": [
    {
     "data": {
      "text/html": [
       "<div>\n",
       "<style scoped>\n",
       "    .dataframe tbody tr th:only-of-type {\n",
       "        vertical-align: middle;\n",
       "    }\n",
       "\n",
       "    .dataframe tbody tr th {\n",
       "        vertical-align: top;\n",
       "    }\n",
       "\n",
       "    .dataframe thead th {\n",
       "        text-align: right;\n",
       "    }\n",
       "</style>\n",
       "<table border=\"1\" class=\"dataframe\">\n",
       "  <thead>\n",
       "    <tr style=\"text-align: right;\">\n",
       "      <th></th>\n",
       "      <th>Country</th>\n",
       "      <th>Regimetype</th>\n",
       "      <th>Overallscore</th>\n",
       "      <th>Electoralprocessandpluralism</th>\n",
       "      <th>Functioningofgovernment</th>\n",
       "      <th>Politicalparticipation</th>\n",
       "      <th>Politicalculture</th>\n",
       "      <th>Civilliberties</th>\n",
       "    </tr>\n",
       "  </thead>\n",
       "  <tbody>\n",
       "    <tr>\n",
       "      <th>1</th>\n",
       "      <td>Norway</td>\n",
       "      <td>Full democracy</td>\n",
       "      <td>9.81</td>\n",
       "      <td>10.00</td>\n",
       "      <td>9.64</td>\n",
       "      <td>10.00</td>\n",
       "      <td>10.00</td>\n",
       "      <td>9.41</td>\n",
       "    </tr>\n",
       "    <tr>\n",
       "      <th>2</th>\n",
       "      <td>Iceland</td>\n",
       "      <td>Full democracy</td>\n",
       "      <td>9.37</td>\n",
       "      <td>10.00</td>\n",
       "      <td>8.57</td>\n",
       "      <td>8.89</td>\n",
       "      <td>10.00</td>\n",
       "      <td>9.41</td>\n",
       "    </tr>\n",
       "    <tr>\n",
       "      <th>3</th>\n",
       "      <td>Sweden</td>\n",
       "      <td>Full democracy</td>\n",
       "      <td>9.26</td>\n",
       "      <td>9.58</td>\n",
       "      <td>9.29</td>\n",
       "      <td>8.33</td>\n",
       "      <td>10.00</td>\n",
       "      <td>9.12</td>\n",
       "    </tr>\n",
       "    <tr>\n",
       "      <th>4</th>\n",
       "      <td>New Zealand</td>\n",
       "      <td>Full democracy</td>\n",
       "      <td>9.25</td>\n",
       "      <td>10.00</td>\n",
       "      <td>8.93</td>\n",
       "      <td>8.89</td>\n",
       "      <td>8.75</td>\n",
       "      <td>9.71</td>\n",
       "    </tr>\n",
       "    <tr>\n",
       "      <th>5</th>\n",
       "      <td>Canada</td>\n",
       "      <td>Full democracy</td>\n",
       "      <td>9.24</td>\n",
       "      <td>9.58</td>\n",
       "      <td>8.93</td>\n",
       "      <td>8.89</td>\n",
       "      <td>9.38</td>\n",
       "      <td>9.41</td>\n",
       "    </tr>\n",
       "    <tr>\n",
       "      <th>...</th>\n",
       "      <td>...</td>\n",
       "      <td>...</td>\n",
       "      <td>...</td>\n",
       "      <td>...</td>\n",
       "      <td>...</td>\n",
       "      <td>...</td>\n",
       "      <td>...</td>\n",
       "      <td>...</td>\n",
       "    </tr>\n",
       "    <tr>\n",
       "      <th>166</th>\n",
       "      <td>Chad</td>\n",
       "      <td>Authoritarian</td>\n",
       "      <td>1.55</td>\n",
       "      <td>0.00</td>\n",
       "      <td>0.00</td>\n",
       "      <td>1.67</td>\n",
       "      <td>3.75</td>\n",
       "      <td>2.35</td>\n",
       "    </tr>\n",
       "    <tr>\n",
       "      <th>167</th>\n",
       "      <td>Syria</td>\n",
       "      <td>Authoritarian</td>\n",
       "      <td>1.43</td>\n",
       "      <td>0.00</td>\n",
       "      <td>0.00</td>\n",
       "      <td>2.78</td>\n",
       "      <td>4.38</td>\n",
       "      <td>0.00</td>\n",
       "    </tr>\n",
       "    <tr>\n",
       "      <th>168</th>\n",
       "      <td>Central African Republic</td>\n",
       "      <td>Authoritarian</td>\n",
       "      <td>1.32</td>\n",
       "      <td>1.25</td>\n",
       "      <td>0.00</td>\n",
       "      <td>1.11</td>\n",
       "      <td>1.88</td>\n",
       "      <td>2.35</td>\n",
       "    </tr>\n",
       "    <tr>\n",
       "      <th>169</th>\n",
       "      <td>Democratic Republic of the Congo</td>\n",
       "      <td>Authoritarian</td>\n",
       "      <td>1.13</td>\n",
       "      <td>0.00</td>\n",
       "      <td>0.00</td>\n",
       "      <td>1.67</td>\n",
       "      <td>3.13</td>\n",
       "      <td>0.88</td>\n",
       "    </tr>\n",
       "    <tr>\n",
       "      <th>170</th>\n",
       "      <td>North Korea</td>\n",
       "      <td>Authoritarian</td>\n",
       "      <td>1.08</td>\n",
       "      <td>0.00</td>\n",
       "      <td>2.50</td>\n",
       "      <td>1.67</td>\n",
       "      <td>1.25</td>\n",
       "      <td>0.00</td>\n",
       "    </tr>\n",
       "  </tbody>\n",
       "</table>\n",
       "<p>167 rows × 8 columns</p>\n",
       "</div>"
      ],
      "text/plain": [
       "                              Country      Regimetype Overallscore  \\\n",
       "1                              Norway  Full democracy         9.81   \n",
       "2                             Iceland  Full democracy         9.37   \n",
       "3                              Sweden  Full democracy         9.26   \n",
       "4                         New Zealand  Full democracy         9.25   \n",
       "5                              Canada  Full democracy         9.24   \n",
       "..                                ...             ...          ...   \n",
       "166                              Chad   Authoritarian         1.55   \n",
       "167                             Syria   Authoritarian         1.43   \n",
       "168          Central African Republic   Authoritarian         1.32   \n",
       "169  Democratic Republic of the Congo   Authoritarian         1.13   \n",
       "170                       North Korea   Authoritarian         1.08   \n",
       "\n",
       "    Electoralprocessandpluralism Functioningofgovernment  \\\n",
       "1                          10.00                    9.64   \n",
       "2                          10.00                    8.57   \n",
       "3                           9.58                    9.29   \n",
       "4                          10.00                    8.93   \n",
       "5                           9.58                    8.93   \n",
       "..                           ...                     ...   \n",
       "166                         0.00                    0.00   \n",
       "167                         0.00                    0.00   \n",
       "168                         1.25                    0.00   \n",
       "169                         0.00                    0.00   \n",
       "170                         0.00                    2.50   \n",
       "\n",
       "    Politicalparticipation Politicalculture Civilliberties  \n",
       "1                    10.00            10.00           9.41  \n",
       "2                     8.89            10.00           9.41  \n",
       "3                     8.33            10.00           9.12  \n",
       "4                     8.89             8.75           9.71  \n",
       "5                     8.89             9.38           9.41  \n",
       "..                     ...              ...            ...  \n",
       "166                   1.67             3.75           2.35  \n",
       "167                   2.78             4.38           0.00  \n",
       "168                   1.11             1.88           2.35  \n",
       "169                   1.67             3.13           0.88  \n",
       "170                   1.67             1.25           0.00  \n",
       "\n",
       "[167 rows x 8 columns]"
      ]
     },
     "execution_count": 12,
     "metadata": {},
     "output_type": "execute_result"
    }
   ],
   "source": [
    "demoVars = demoVars[~demoVars['Regimetype'].isin(byeValues)]\n",
    "demoVars"
   ]
  },
  {
   "cell_type": "markdown",
   "metadata": {},
   "source": [
    "Notice that the index **0** has dissapeared, and that even though you have 167 countries now, the last one has index **170**. When you filter rows that will happen; so it is better to reset the indexes of the data frame:"
   ]
  },
  {
   "cell_type": "code",
   "execution_count": 13,
   "metadata": {},
   "outputs": [
    {
     "data": {
      "text/html": [
       "<div>\n",
       "<style scoped>\n",
       "    .dataframe tbody tr th:only-of-type {\n",
       "        vertical-align: middle;\n",
       "    }\n",
       "\n",
       "    .dataframe tbody tr th {\n",
       "        vertical-align: top;\n",
       "    }\n",
       "\n",
       "    .dataframe thead th {\n",
       "        text-align: right;\n",
       "    }\n",
       "</style>\n",
       "<table border=\"1\" class=\"dataframe\">\n",
       "  <thead>\n",
       "    <tr style=\"text-align: right;\">\n",
       "      <th></th>\n",
       "      <th>Country</th>\n",
       "      <th>Regimetype</th>\n",
       "      <th>Overallscore</th>\n",
       "      <th>Electoralprocessandpluralism</th>\n",
       "      <th>Functioningofgovernment</th>\n",
       "      <th>Politicalparticipation</th>\n",
       "      <th>Politicalculture</th>\n",
       "      <th>Civilliberties</th>\n",
       "    </tr>\n",
       "  </thead>\n",
       "  <tbody>\n",
       "    <tr>\n",
       "      <th>0</th>\n",
       "      <td>Norway</td>\n",
       "      <td>Full democracy</td>\n",
       "      <td>9.81</td>\n",
       "      <td>10.00</td>\n",
       "      <td>9.64</td>\n",
       "      <td>10.00</td>\n",
       "      <td>10.00</td>\n",
       "      <td>9.41</td>\n",
       "    </tr>\n",
       "    <tr>\n",
       "      <th>1</th>\n",
       "      <td>Iceland</td>\n",
       "      <td>Full democracy</td>\n",
       "      <td>9.37</td>\n",
       "      <td>10.00</td>\n",
       "      <td>8.57</td>\n",
       "      <td>8.89</td>\n",
       "      <td>10.00</td>\n",
       "      <td>9.41</td>\n",
       "    </tr>\n",
       "    <tr>\n",
       "      <th>2</th>\n",
       "      <td>Sweden</td>\n",
       "      <td>Full democracy</td>\n",
       "      <td>9.26</td>\n",
       "      <td>9.58</td>\n",
       "      <td>9.29</td>\n",
       "      <td>8.33</td>\n",
       "      <td>10.00</td>\n",
       "      <td>9.12</td>\n",
       "    </tr>\n",
       "    <tr>\n",
       "      <th>3</th>\n",
       "      <td>New Zealand</td>\n",
       "      <td>Full democracy</td>\n",
       "      <td>9.25</td>\n",
       "      <td>10.00</td>\n",
       "      <td>8.93</td>\n",
       "      <td>8.89</td>\n",
       "      <td>8.75</td>\n",
       "      <td>9.71</td>\n",
       "    </tr>\n",
       "    <tr>\n",
       "      <th>4</th>\n",
       "      <td>Canada</td>\n",
       "      <td>Full democracy</td>\n",
       "      <td>9.24</td>\n",
       "      <td>9.58</td>\n",
       "      <td>8.93</td>\n",
       "      <td>8.89</td>\n",
       "      <td>9.38</td>\n",
       "      <td>9.41</td>\n",
       "    </tr>\n",
       "    <tr>\n",
       "      <th>...</th>\n",
       "      <td>...</td>\n",
       "      <td>...</td>\n",
       "      <td>...</td>\n",
       "      <td>...</td>\n",
       "      <td>...</td>\n",
       "      <td>...</td>\n",
       "      <td>...</td>\n",
       "      <td>...</td>\n",
       "    </tr>\n",
       "    <tr>\n",
       "      <th>162</th>\n",
       "      <td>Chad</td>\n",
       "      <td>Authoritarian</td>\n",
       "      <td>1.55</td>\n",
       "      <td>0.00</td>\n",
       "      <td>0.00</td>\n",
       "      <td>1.67</td>\n",
       "      <td>3.75</td>\n",
       "      <td>2.35</td>\n",
       "    </tr>\n",
       "    <tr>\n",
       "      <th>163</th>\n",
       "      <td>Syria</td>\n",
       "      <td>Authoritarian</td>\n",
       "      <td>1.43</td>\n",
       "      <td>0.00</td>\n",
       "      <td>0.00</td>\n",
       "      <td>2.78</td>\n",
       "      <td>4.38</td>\n",
       "      <td>0.00</td>\n",
       "    </tr>\n",
       "    <tr>\n",
       "      <th>164</th>\n",
       "      <td>Central African Republic</td>\n",
       "      <td>Authoritarian</td>\n",
       "      <td>1.32</td>\n",
       "      <td>1.25</td>\n",
       "      <td>0.00</td>\n",
       "      <td>1.11</td>\n",
       "      <td>1.88</td>\n",
       "      <td>2.35</td>\n",
       "    </tr>\n",
       "    <tr>\n",
       "      <th>165</th>\n",
       "      <td>Democratic Republic of the Congo</td>\n",
       "      <td>Authoritarian</td>\n",
       "      <td>1.13</td>\n",
       "      <td>0.00</td>\n",
       "      <td>0.00</td>\n",
       "      <td>1.67</td>\n",
       "      <td>3.13</td>\n",
       "      <td>0.88</td>\n",
       "    </tr>\n",
       "    <tr>\n",
       "      <th>166</th>\n",
       "      <td>North Korea</td>\n",
       "      <td>Authoritarian</td>\n",
       "      <td>1.08</td>\n",
       "      <td>0.00</td>\n",
       "      <td>2.50</td>\n",
       "      <td>1.67</td>\n",
       "      <td>1.25</td>\n",
       "      <td>0.00</td>\n",
       "    </tr>\n",
       "  </tbody>\n",
       "</table>\n",
       "<p>167 rows × 8 columns</p>\n",
       "</div>"
      ],
      "text/plain": [
       "                              Country      Regimetype Overallscore  \\\n",
       "0                              Norway  Full democracy         9.81   \n",
       "1                             Iceland  Full democracy         9.37   \n",
       "2                              Sweden  Full democracy         9.26   \n",
       "3                         New Zealand  Full democracy         9.25   \n",
       "4                              Canada  Full democracy         9.24   \n",
       "..                                ...             ...          ...   \n",
       "162                              Chad   Authoritarian         1.55   \n",
       "163                             Syria   Authoritarian         1.43   \n",
       "164          Central African Republic   Authoritarian         1.32   \n",
       "165  Democratic Republic of the Congo   Authoritarian         1.13   \n",
       "166                       North Korea   Authoritarian         1.08   \n",
       "\n",
       "    Electoralprocessandpluralism Functioningofgovernment  \\\n",
       "0                          10.00                    9.64   \n",
       "1                          10.00                    8.57   \n",
       "2                           9.58                    9.29   \n",
       "3                          10.00                    8.93   \n",
       "4                           9.58                    8.93   \n",
       "..                           ...                     ...   \n",
       "162                         0.00                    0.00   \n",
       "163                         0.00                    0.00   \n",
       "164                         1.25                    0.00   \n",
       "165                         0.00                    0.00   \n",
       "166                         0.00                    2.50   \n",
       "\n",
       "    Politicalparticipation Politicalculture Civilliberties  \n",
       "0                    10.00            10.00           9.41  \n",
       "1                     8.89            10.00           9.41  \n",
       "2                     8.33            10.00           9.12  \n",
       "3                     8.89             8.75           9.71  \n",
       "4                     8.89             9.38           9.41  \n",
       "..                     ...              ...            ...  \n",
       "162                   1.67             3.75           2.35  \n",
       "163                   2.78             4.38           0.00  \n",
       "164                   1.11             1.88           2.35  \n",
       "165                   1.67             3.13           0.88  \n",
       "166                   1.67             1.25           0.00  \n",
       "\n",
       "[167 rows x 8 columns]"
      ]
     },
     "execution_count": 13,
     "metadata": {},
     "output_type": "execute_result"
    }
   ],
   "source": [
    "demoVars.reset_index(drop=True,inplace=True)\n",
    "demoVars"
   ]
  },
  {
   "cell_type": "markdown",
   "metadata": {},
   "source": [
    "Let's see the data types:"
   ]
  },
  {
   "cell_type": "code",
   "execution_count": 14,
   "metadata": {},
   "outputs": [
    {
     "name": "stdout",
     "output_type": "stream",
     "text": [
      "<class 'pandas.core.frame.DataFrame'>\n",
      "RangeIndex: 167 entries, 0 to 166\n",
      "Data columns (total 8 columns):\n",
      " #   Column                        Non-Null Count  Dtype \n",
      "---  ------                        --------------  ----- \n",
      " 0   Country                       167 non-null    object\n",
      " 1   Regimetype                    167 non-null    object\n",
      " 2   Overallscore                  167 non-null    object\n",
      " 3   Electoralprocessandpluralism  167 non-null    object\n",
      " 4   Functioningofgovernment       167 non-null    object\n",
      " 5   Politicalparticipation        167 non-null    object\n",
      " 6   Politicalculture              167 non-null    object\n",
      " 7   Civilliberties                167 non-null    object\n",
      "dtypes: object(8)\n",
      "memory usage: 10.6+ KB\n"
     ]
    }
   ],
   "source": [
    "demoVars.info()"
   ]
  },
  {
   "cell_type": "markdown",
   "metadata": {},
   "source": [
    "The data types are wrong. In this situation, Python is not recognizing the numbers, so pandas will not offer basic stats:"
   ]
  },
  {
   "cell_type": "code",
   "execution_count": 15,
   "metadata": {},
   "outputs": [
    {
     "data": {
      "text/html": [
       "<div>\n",
       "<style scoped>\n",
       "    .dataframe tbody tr th:only-of-type {\n",
       "        vertical-align: middle;\n",
       "    }\n",
       "\n",
       "    .dataframe tbody tr th {\n",
       "        vertical-align: top;\n",
       "    }\n",
       "\n",
       "    .dataframe thead th {\n",
       "        text-align: right;\n",
       "    }\n",
       "</style>\n",
       "<table border=\"1\" class=\"dataframe\">\n",
       "  <thead>\n",
       "    <tr style=\"text-align: right;\">\n",
       "      <th></th>\n",
       "      <th>Country</th>\n",
       "      <th>Regimetype</th>\n",
       "      <th>Overallscore</th>\n",
       "      <th>Electoralprocessandpluralism</th>\n",
       "      <th>Functioningofgovernment</th>\n",
       "      <th>Politicalparticipation</th>\n",
       "      <th>Politicalculture</th>\n",
       "      <th>Civilliberties</th>\n",
       "    </tr>\n",
       "  </thead>\n",
       "  <tbody>\n",
       "    <tr>\n",
       "      <th>count</th>\n",
       "      <td>167</td>\n",
       "      <td>167</td>\n",
       "      <td>167</td>\n",
       "      <td>167</td>\n",
       "      <td>167</td>\n",
       "      <td>167</td>\n",
       "      <td>167</td>\n",
       "      <td>167</td>\n",
       "    </tr>\n",
       "    <tr>\n",
       "      <th>unique</th>\n",
       "      <td>167</td>\n",
       "      <td>4</td>\n",
       "      <td>155</td>\n",
       "      <td>48</td>\n",
       "      <td>44</td>\n",
       "      <td>18</td>\n",
       "      <td>15</td>\n",
       "      <td>33</td>\n",
       "    </tr>\n",
       "    <tr>\n",
       "      <th>top</th>\n",
       "      <td>Norway</td>\n",
       "      <td>Authoritarian</td>\n",
       "      <td>4.86</td>\n",
       "      <td>9.58</td>\n",
       "      <td>5.36</td>\n",
       "      <td>6.67</td>\n",
       "      <td>5.63</td>\n",
       "      <td>8.53</td>\n",
       "    </tr>\n",
       "    <tr>\n",
       "      <th>freq</th>\n",
       "      <td>1</td>\n",
       "      <td>57</td>\n",
       "      <td>2</td>\n",
       "      <td>26</td>\n",
       "      <td>16</td>\n",
       "      <td>23</td>\n",
       "      <td>31</td>\n",
       "      <td>11</td>\n",
       "    </tr>\n",
       "  </tbody>\n",
       "</table>\n",
       "</div>"
      ],
      "text/plain": [
       "       Country     Regimetype Overallscore Electoralprocessandpluralism  \\\n",
       "count      167            167          167                          167   \n",
       "unique     167              4          155                           48   \n",
       "top     Norway  Authoritarian         4.86                         9.58   \n",
       "freq         1             57            2                           26   \n",
       "\n",
       "       Functioningofgovernment Politicalparticipation Politicalculture  \\\n",
       "count                      167                    167              167   \n",
       "unique                      44                     18               15   \n",
       "top                       5.36                   6.67             5.63   \n",
       "freq                        16                     23               31   \n",
       "\n",
       "       Civilliberties  \n",
       "count             167  \n",
       "unique             33  \n",
       "top              8.53  \n",
       "freq               11  "
      ]
     },
     "execution_count": 15,
     "metadata": {},
     "output_type": "execute_result"
    }
   ],
   "source": [
    "demoVars.describe()"
   ]
  },
  {
   "cell_type": "code",
   "execution_count": 16,
   "metadata": {},
   "outputs": [
    {
     "name": "stderr",
     "output_type": "stream",
     "text": [
      "/Users/JoseManuel/anaconda3/envs/Evans_GovAnalytics/lib/python3.7/site-packages/pandas/core/frame.py:3641: SettingWithCopyWarning: \n",
      "A value is trying to be set on a copy of a slice from a DataFrame.\n",
      "Try using .loc[row_indexer,col_indexer] = value instead\n",
      "\n",
      "See the caveats in the documentation: https://pandas.pydata.org/pandas-docs/stable/user_guide/indexing.html#returning-a-view-versus-a-copy\n",
      "  self[k1] = value[k2]\n"
     ]
    }
   ],
   "source": [
    "toBeNumeric_Index=demoVars.columns[2:]\n",
    "\n",
    "demoVars[toBeNumeric_Index]=demoVars.loc[:,toBeNumeric_Index].apply(pd.to_numeric, errors='raise')"
   ]
  },
  {
   "cell_type": "code",
   "execution_count": 17,
   "metadata": {},
   "outputs": [
    {
     "name": "stdout",
     "output_type": "stream",
     "text": [
      "<class 'pandas.core.frame.DataFrame'>\n",
      "RangeIndex: 167 entries, 0 to 166\n",
      "Data columns (total 8 columns):\n",
      " #   Column                        Non-Null Count  Dtype  \n",
      "---  ------                        --------------  -----  \n",
      " 0   Country                       167 non-null    object \n",
      " 1   Regimetype                    167 non-null    object \n",
      " 2   Overallscore                  167 non-null    float64\n",
      " 3   Electoralprocessandpluralism  167 non-null    float64\n",
      " 4   Functioningofgovernment       167 non-null    float64\n",
      " 5   Politicalparticipation        167 non-null    float64\n",
      " 6   Politicalculture              167 non-null    float64\n",
      " 7   Civilliberties                167 non-null    float64\n",
      "dtypes: float64(6), object(2)\n",
      "memory usage: 10.6+ KB\n"
     ]
    }
   ],
   "source": [
    "demoVars.info()"
   ]
  },
  {
   "cell_type": "code",
   "execution_count": 18,
   "metadata": {},
   "outputs": [
    {
     "data": {
      "text/html": [
       "<div>\n",
       "<style scoped>\n",
       "    .dataframe tbody tr th:only-of-type {\n",
       "        vertical-align: middle;\n",
       "    }\n",
       "\n",
       "    .dataframe tbody tr th {\n",
       "        vertical-align: top;\n",
       "    }\n",
       "\n",
       "    .dataframe thead th {\n",
       "        text-align: right;\n",
       "    }\n",
       "</style>\n",
       "<table border=\"1\" class=\"dataframe\">\n",
       "  <thead>\n",
       "    <tr style=\"text-align: right;\">\n",
       "      <th></th>\n",
       "      <th>Country</th>\n",
       "      <th>Regimetype</th>\n",
       "      <th>Overallscore</th>\n",
       "      <th>Electoralprocessandpluralism</th>\n",
       "      <th>Functioningofgovernment</th>\n",
       "      <th>Politicalparticipation</th>\n",
       "      <th>Politicalculture</th>\n",
       "      <th>Civilliberties</th>\n",
       "    </tr>\n",
       "  </thead>\n",
       "  <tbody>\n",
       "    <tr>\n",
       "      <th>count</th>\n",
       "      <td>167</td>\n",
       "      <td>167</td>\n",
       "      <td>167.000000</td>\n",
       "      <td>167.000000</td>\n",
       "      <td>167.000000</td>\n",
       "      <td>167.000000</td>\n",
       "      <td>167.000000</td>\n",
       "      <td>167.000000</td>\n",
       "    </tr>\n",
       "    <tr>\n",
       "      <th>unique</th>\n",
       "      <td>167</td>\n",
       "      <td>4</td>\n",
       "      <td>NaN</td>\n",
       "      <td>NaN</td>\n",
       "      <td>NaN</td>\n",
       "      <td>NaN</td>\n",
       "      <td>NaN</td>\n",
       "      <td>NaN</td>\n",
       "    </tr>\n",
       "    <tr>\n",
       "      <th>top</th>\n",
       "      <td>Norway</td>\n",
       "      <td>Authoritarian</td>\n",
       "      <td>NaN</td>\n",
       "      <td>NaN</td>\n",
       "      <td>NaN</td>\n",
       "      <td>NaN</td>\n",
       "      <td>NaN</td>\n",
       "      <td>NaN</td>\n",
       "    </tr>\n",
       "    <tr>\n",
       "      <th>freq</th>\n",
       "      <td>1</td>\n",
       "      <td>57</td>\n",
       "      <td>NaN</td>\n",
       "      <td>NaN</td>\n",
       "      <td>NaN</td>\n",
       "      <td>NaN</td>\n",
       "      <td>NaN</td>\n",
       "      <td>NaN</td>\n",
       "    </tr>\n",
       "    <tr>\n",
       "      <th>mean</th>\n",
       "      <td>NaN</td>\n",
       "      <td>NaN</td>\n",
       "      <td>5.369760</td>\n",
       "      <td>5.762874</td>\n",
       "      <td>4.676467</td>\n",
       "      <td>5.389401</td>\n",
       "      <td>5.549042</td>\n",
       "      <td>5.494970</td>\n",
       "    </tr>\n",
       "    <tr>\n",
       "      <th>std</th>\n",
       "      <td>NaN</td>\n",
       "      <td>NaN</td>\n",
       "      <td>2.252275</td>\n",
       "      <td>3.698209</td>\n",
       "      <td>2.514419</td>\n",
       "      <td>1.911512</td>\n",
       "      <td>1.749007</td>\n",
       "      <td>2.655677</td>\n",
       "    </tr>\n",
       "    <tr>\n",
       "      <th>min</th>\n",
       "      <td>NaN</td>\n",
       "      <td>NaN</td>\n",
       "      <td>1.080000</td>\n",
       "      <td>0.000000</td>\n",
       "      <td>0.000000</td>\n",
       "      <td>0.560000</td>\n",
       "      <td>1.250000</td>\n",
       "      <td>0.000000</td>\n",
       "    </tr>\n",
       "    <tr>\n",
       "      <th>25%</th>\n",
       "      <td>NaN</td>\n",
       "      <td>NaN</td>\n",
       "      <td>3.265000</td>\n",
       "      <td>2.415000</td>\n",
       "      <td>2.860000</td>\n",
       "      <td>3.890000</td>\n",
       "      <td>4.380000</td>\n",
       "      <td>3.240000</td>\n",
       "    </tr>\n",
       "    <tr>\n",
       "      <th>50%</th>\n",
       "      <td>NaN</td>\n",
       "      <td>NaN</td>\n",
       "      <td>5.710000</td>\n",
       "      <td>7.000000</td>\n",
       "      <td>5.000000</td>\n",
       "      <td>5.560000</td>\n",
       "      <td>5.630000</td>\n",
       "      <td>5.590000</td>\n",
       "    </tr>\n",
       "    <tr>\n",
       "      <th>75%</th>\n",
       "      <td>NaN</td>\n",
       "      <td>NaN</td>\n",
       "      <td>7.130000</td>\n",
       "      <td>9.170000</td>\n",
       "      <td>6.430000</td>\n",
       "      <td>6.670000</td>\n",
       "      <td>6.250000</td>\n",
       "      <td>7.940000</td>\n",
       "    </tr>\n",
       "    <tr>\n",
       "      <th>max</th>\n",
       "      <td>NaN</td>\n",
       "      <td>NaN</td>\n",
       "      <td>9.810000</td>\n",
       "      <td>10.000000</td>\n",
       "      <td>9.640000</td>\n",
       "      <td>10.000000</td>\n",
       "      <td>10.000000</td>\n",
       "      <td>9.710000</td>\n",
       "    </tr>\n",
       "  </tbody>\n",
       "</table>\n",
       "</div>"
      ],
      "text/plain": [
       "       Country     Regimetype  Overallscore  Electoralprocessandpluralism  \\\n",
       "count      167            167    167.000000                    167.000000   \n",
       "unique     167              4           NaN                           NaN   \n",
       "top     Norway  Authoritarian           NaN                           NaN   \n",
       "freq         1             57           NaN                           NaN   \n",
       "mean       NaN            NaN      5.369760                      5.762874   \n",
       "std        NaN            NaN      2.252275                      3.698209   \n",
       "min        NaN            NaN      1.080000                      0.000000   \n",
       "25%        NaN            NaN      3.265000                      2.415000   \n",
       "50%        NaN            NaN      5.710000                      7.000000   \n",
       "75%        NaN            NaN      7.130000                      9.170000   \n",
       "max        NaN            NaN      9.810000                     10.000000   \n",
       "\n",
       "        Functioningofgovernment  Politicalparticipation  Politicalculture  \\\n",
       "count                167.000000              167.000000        167.000000   \n",
       "unique                      NaN                     NaN               NaN   \n",
       "top                         NaN                     NaN               NaN   \n",
       "freq                        NaN                     NaN               NaN   \n",
       "mean                   4.676467                5.389401          5.549042   \n",
       "std                    2.514419                1.911512          1.749007   \n",
       "min                    0.000000                0.560000          1.250000   \n",
       "25%                    2.860000                3.890000          4.380000   \n",
       "50%                    5.000000                5.560000          5.630000   \n",
       "75%                    6.430000                6.670000          6.250000   \n",
       "max                    9.640000               10.000000         10.000000   \n",
       "\n",
       "        Civilliberties  \n",
       "count       167.000000  \n",
       "unique             NaN  \n",
       "top                NaN  \n",
       "freq               NaN  \n",
       "mean          5.494970  \n",
       "std           2.655677  \n",
       "min           0.000000  \n",
       "25%           3.240000  \n",
       "50%           5.590000  \n",
       "75%           7.940000  \n",
       "max           9.710000  "
      ]
     },
     "execution_count": 18,
     "metadata": {},
     "output_type": "execute_result"
    }
   ],
   "source": [
    "demoVars.describe(include='all')"
   ]
  },
  {
   "cell_type": "markdown",
   "metadata": {},
   "source": [
    "Can you clean gather and clean  these tables?"
   ]
  },
  {
   "cell_type": "code",
   "execution_count": 19,
   "metadata": {},
   "outputs": [],
   "source": [
    "link2=\"https://en.wikipedia.org/wiki/List_of_ISO_3166_country_codes\"\n",
    "link3=\"https://en.wikipedia.org/wiki/List_of_countries_and_dependencies_by_population\""
   ]
  },
  {
   "cell_type": "markdown",
   "metadata": {},
   "source": [
    "## Merging"
   ]
  },
  {
   "cell_type": "markdown",
   "metadata": {},
   "source": [
    "Integrating data sets needs the following considerations:\n",
    "\n",
    "* Merging is done on two data frames (you can prepare a function to merge more).\n",
    "* You need a common column to be used in both data frames. The column names can be different.\n",
    "* The merge can keep the full coincidences, or also the values not matched, which will help you detect possible extra cleaning.\n",
    "* Pandas differentiates the **left** from the **right** data frames."
   ]
  },
  {
   "cell_type": "markdown",
   "metadata": {},
   "source": [
    "I will add two dataframes:"
   ]
  },
  {
   "cell_type": "code",
   "execution_count": 177,
   "metadata": {},
   "outputs": [],
   "source": [
    "linkDataIso='https://github.com/EvansDataScience/CTforGA_integrating/raw/main/isodata.csv'\n",
    "DataIso=pd.read_csv(linkDataIso)\n"
   ]
  },
  {
   "cell_type": "code",
   "execution_count": 178,
   "metadata": {},
   "outputs": [
    {
     "data": {
      "text/plain": [
       "Index(['Countryname', 'Officialstatename', 'InternetccTLD', 'iso2', 'iso3'], dtype='object')"
      ]
     },
     "execution_count": 178,
     "metadata": {},
     "output_type": "execute_result"
    }
   ],
   "source": [
    "#Remember the names:\n",
    "DataIso.columns\n",
    "#DataRegion.columns\n",
    "#demoVars.columns"
   ]
  },
  {
   "cell_type": "markdown",
   "metadata": {},
   "source": [
    "* **Option one**: merge only the coincidences:"
   ]
  },
  {
   "cell_type": "code",
   "execution_count": 179,
   "metadata": {},
   "outputs": [],
   "source": [
    "allData=demoVars.merge(DataIso,left_on=\"Country\",right_on=\"Countryname\") # keys are different\n",
    "allData=allData.merge(DataRegion)"
   ]
  },
  {
   "cell_type": "markdown",
   "metadata": {},
   "source": [
    "How many rows I kept after merging:"
   ]
  },
  {
   "cell_type": "code",
   "execution_count": 180,
   "metadata": {},
   "outputs": [
    {
     "data": {
      "text/plain": [
       "(137, 15)"
      ]
     },
     "execution_count": 180,
     "metadata": {},
     "output_type": "execute_result"
    }
   ],
   "source": [
    "allData.shape"
   ]
  },
  {
   "cell_type": "markdown",
   "metadata": {},
   "source": [
    "The previous merges just got rid of any row that could not find coincidences in the keys."
   ]
  },
  {
   "cell_type": "markdown",
   "metadata": {},
   "source": [
    "* **Option two**: you want to keep all the rows from **both** data frames:"
   ]
  },
  {
   "cell_type": "code",
   "execution_count": 181,
   "metadata": {},
   "outputs": [],
   "source": [
    "allDataFull=demoVars.merge(DataIso,left_on=\"Country\",right_on=\"Countryname\",how='outer',indicator='True')"
   ]
  },
  {
   "cell_type": "code",
   "execution_count": 182,
   "metadata": {},
   "outputs": [
    {
     "data": {
      "text/plain": [
       "Index(['Country', 'Regimetype', 'Overallscore', 'Electoralprocessandpluralism',\n",
       "       'Functioningofgovernment', 'Politicalparticipation', 'Politicalculture',\n",
       "       'Civilliberties', 'Countryname', 'Officialstatename', 'InternetccTLD',\n",
       "       'iso2', 'iso3', 'True'],\n",
       "      dtype='object')"
      ]
     },
     "execution_count": 182,
     "metadata": {},
     "output_type": "execute_result"
    }
   ],
   "source": [
    "allDataFull.columns"
   ]
  },
  {
   "cell_type": "code",
   "execution_count": 183,
   "metadata": {},
   "outputs": [
    {
     "data": {
      "text/plain": [
       "both          138\n",
       "right_only    111\n",
       "left_only      29\n",
       "Name: True, dtype: int64"
      ]
     },
     "execution_count": 183,
     "metadata": {},
     "output_type": "execute_result"
    }
   ],
   "source": [
    "allDataFull['True'].value_counts()"
   ]
  },
  {
   "cell_type": "code",
   "execution_count": 184,
   "metadata": {},
   "outputs": [
    {
     "data": {
      "text/html": [
       "<div>\n",
       "<style scoped>\n",
       "    .dataframe tbody tr th:only-of-type {\n",
       "        vertical-align: middle;\n",
       "    }\n",
       "\n",
       "    .dataframe tbody tr th {\n",
       "        vertical-align: top;\n",
       "    }\n",
       "\n",
       "    .dataframe thead th {\n",
       "        text-align: right;\n",
       "    }\n",
       "</style>\n",
       "<table border=\"1\" class=\"dataframe\">\n",
       "  <thead>\n",
       "    <tr style=\"text-align: right;\">\n",
       "      <th></th>\n",
       "      <th>Country</th>\n",
       "      <th>Regimetype</th>\n",
       "      <th>Overallscore</th>\n",
       "      <th>Electoralprocessandpluralism</th>\n",
       "      <th>Functioningofgovernment</th>\n",
       "      <th>Politicalparticipation</th>\n",
       "      <th>Politicalculture</th>\n",
       "      <th>Civilliberties</th>\n",
       "      <th>Countryname</th>\n",
       "      <th>Officialstatename</th>\n",
       "      <th>InternetccTLD</th>\n",
       "      <th>iso2</th>\n",
       "      <th>iso3</th>\n",
       "      <th>True</th>\n",
       "    </tr>\n",
       "  </thead>\n",
       "  <tbody>\n",
       "    <tr>\n",
       "      <th>167</th>\n",
       "      <td>NaN</td>\n",
       "      <td>NaN</td>\n",
       "      <td>NaN</td>\n",
       "      <td>NaN</td>\n",
       "      <td>NaN</td>\n",
       "      <td>NaN</td>\n",
       "      <td>NaN</td>\n",
       "      <td>NaN</td>\n",
       "      <td>Åland Islands</td>\n",
       "      <td>Åland</td>\n",
       "      <td>.ax</td>\n",
       "      <td>AX</td>\n",
       "      <td>ALA</td>\n",
       "      <td>right_only</td>\n",
       "    </tr>\n",
       "    <tr>\n",
       "      <th>168</th>\n",
       "      <td>NaN</td>\n",
       "      <td>NaN</td>\n",
       "      <td>NaN</td>\n",
       "      <td>NaN</td>\n",
       "      <td>NaN</td>\n",
       "      <td>NaN</td>\n",
       "      <td>NaN</td>\n",
       "      <td>NaN</td>\n",
       "      <td>American Samoa</td>\n",
       "      <td>The Territory of American Samoa</td>\n",
       "      <td>.as</td>\n",
       "      <td>AS</td>\n",
       "      <td>ASM</td>\n",
       "      <td>right_only</td>\n",
       "    </tr>\n",
       "    <tr>\n",
       "      <th>169</th>\n",
       "      <td>NaN</td>\n",
       "      <td>NaN</td>\n",
       "      <td>NaN</td>\n",
       "      <td>NaN</td>\n",
       "      <td>NaN</td>\n",
       "      <td>NaN</td>\n",
       "      <td>NaN</td>\n",
       "      <td>NaN</td>\n",
       "      <td>Andorra</td>\n",
       "      <td>The Principality of Andorra</td>\n",
       "      <td>.ad</td>\n",
       "      <td>AD</td>\n",
       "      <td>AND</td>\n",
       "      <td>right_only</td>\n",
       "    </tr>\n",
       "    <tr>\n",
       "      <th>170</th>\n",
       "      <td>NaN</td>\n",
       "      <td>NaN</td>\n",
       "      <td>NaN</td>\n",
       "      <td>NaN</td>\n",
       "      <td>NaN</td>\n",
       "      <td>NaN</td>\n",
       "      <td>NaN</td>\n",
       "      <td>NaN</td>\n",
       "      <td>Anguilla</td>\n",
       "      <td>Anguilla</td>\n",
       "      <td>.ai</td>\n",
       "      <td>AI</td>\n",
       "      <td>AIA</td>\n",
       "      <td>right_only</td>\n",
       "    </tr>\n",
       "    <tr>\n",
       "      <th>171</th>\n",
       "      <td>NaN</td>\n",
       "      <td>NaN</td>\n",
       "      <td>NaN</td>\n",
       "      <td>NaN</td>\n",
       "      <td>NaN</td>\n",
       "      <td>NaN</td>\n",
       "      <td>NaN</td>\n",
       "      <td>NaN</td>\n",
       "      <td>Antarctica</td>\n",
       "      <td>All land and ice shelves south of the 60th par...</td>\n",
       "      <td>.aq</td>\n",
       "      <td>AQ</td>\n",
       "      <td>ATA</td>\n",
       "      <td>right_only</td>\n",
       "    </tr>\n",
       "    <tr>\n",
       "      <th>...</th>\n",
       "      <td>...</td>\n",
       "      <td>...</td>\n",
       "      <td>...</td>\n",
       "      <td>...</td>\n",
       "      <td>...</td>\n",
       "      <td>...</td>\n",
       "      <td>...</td>\n",
       "      <td>...</td>\n",
       "      <td>...</td>\n",
       "      <td>...</td>\n",
       "      <td>...</td>\n",
       "      <td>...</td>\n",
       "      <td>...</td>\n",
       "      <td>...</td>\n",
       "    </tr>\n",
       "    <tr>\n",
       "      <th>273</th>\n",
       "      <td>NaN</td>\n",
       "      <td>NaN</td>\n",
       "      <td>NaN</td>\n",
       "      <td>NaN</td>\n",
       "      <td>NaN</td>\n",
       "      <td>NaN</td>\n",
       "      <td>NaN</td>\n",
       "      <td>NaN</td>\n",
       "      <td>Viet Nam</td>\n",
       "      <td>The Socialist Republic of Viet Nam</td>\n",
       "      <td>.vn</td>\n",
       "      <td>VN</td>\n",
       "      <td>VNM</td>\n",
       "      <td>right_only</td>\n",
       "    </tr>\n",
       "    <tr>\n",
       "      <th>274</th>\n",
       "      <td>NaN</td>\n",
       "      <td>NaN</td>\n",
       "      <td>NaN</td>\n",
       "      <td>NaN</td>\n",
       "      <td>NaN</td>\n",
       "      <td>NaN</td>\n",
       "      <td>NaN</td>\n",
       "      <td>NaN</td>\n",
       "      <td>Virgin Islands (British)</td>\n",
       "      <td>The Virgin Islands</td>\n",
       "      <td>.vg</td>\n",
       "      <td>VG</td>\n",
       "      <td>VGB</td>\n",
       "      <td>right_only</td>\n",
       "    </tr>\n",
       "    <tr>\n",
       "      <th>275</th>\n",
       "      <td>NaN</td>\n",
       "      <td>NaN</td>\n",
       "      <td>NaN</td>\n",
       "      <td>NaN</td>\n",
       "      <td>NaN</td>\n",
       "      <td>NaN</td>\n",
       "      <td>NaN</td>\n",
       "      <td>NaN</td>\n",
       "      <td>Virgin Islands (U.S.)</td>\n",
       "      <td>The Virgin Islands of the United States</td>\n",
       "      <td>.vi</td>\n",
       "      <td>VI</td>\n",
       "      <td>VIR</td>\n",
       "      <td>right_only</td>\n",
       "    </tr>\n",
       "    <tr>\n",
       "      <th>276</th>\n",
       "      <td>NaN</td>\n",
       "      <td>NaN</td>\n",
       "      <td>NaN</td>\n",
       "      <td>NaN</td>\n",
       "      <td>NaN</td>\n",
       "      <td>NaN</td>\n",
       "      <td>NaN</td>\n",
       "      <td>NaN</td>\n",
       "      <td>Wallis and Futuna</td>\n",
       "      <td>The Territory of the Wallis and Futuna Islands</td>\n",
       "      <td>.wf</td>\n",
       "      <td>WF</td>\n",
       "      <td>WLF</td>\n",
       "      <td>right_only</td>\n",
       "    </tr>\n",
       "    <tr>\n",
       "      <th>277</th>\n",
       "      <td>NaN</td>\n",
       "      <td>NaN</td>\n",
       "      <td>NaN</td>\n",
       "      <td>NaN</td>\n",
       "      <td>NaN</td>\n",
       "      <td>NaN</td>\n",
       "      <td>NaN</td>\n",
       "      <td>NaN</td>\n",
       "      <td>Western Sahara</td>\n",
       "      <td>The Sahrawi Arab Democratic Republic</td>\n",
       "      <td>NaN</td>\n",
       "      <td>EH</td>\n",
       "      <td>ESH</td>\n",
       "      <td>right_only</td>\n",
       "    </tr>\n",
       "  </tbody>\n",
       "</table>\n",
       "<p>111 rows × 14 columns</p>\n",
       "</div>"
      ],
      "text/plain": [
       "    Country Regimetype  Overallscore  Electoralprocessandpluralism  \\\n",
       "167     NaN        NaN           NaN                           NaN   \n",
       "168     NaN        NaN           NaN                           NaN   \n",
       "169     NaN        NaN           NaN                           NaN   \n",
       "170     NaN        NaN           NaN                           NaN   \n",
       "171     NaN        NaN           NaN                           NaN   \n",
       "..      ...        ...           ...                           ...   \n",
       "273     NaN        NaN           NaN                           NaN   \n",
       "274     NaN        NaN           NaN                           NaN   \n",
       "275     NaN        NaN           NaN                           NaN   \n",
       "276     NaN        NaN           NaN                           NaN   \n",
       "277     NaN        NaN           NaN                           NaN   \n",
       "\n",
       "     Functioningofgovernment  Politicalparticipation  Politicalculture  \\\n",
       "167                      NaN                     NaN               NaN   \n",
       "168                      NaN                     NaN               NaN   \n",
       "169                      NaN                     NaN               NaN   \n",
       "170                      NaN                     NaN               NaN   \n",
       "171                      NaN                     NaN               NaN   \n",
       "..                       ...                     ...               ...   \n",
       "273                      NaN                     NaN               NaN   \n",
       "274                      NaN                     NaN               NaN   \n",
       "275                      NaN                     NaN               NaN   \n",
       "276                      NaN                     NaN               NaN   \n",
       "277                      NaN                     NaN               NaN   \n",
       "\n",
       "     Civilliberties               Countryname  \\\n",
       "167             NaN             Åland Islands   \n",
       "168             NaN            American Samoa   \n",
       "169             NaN                   Andorra   \n",
       "170             NaN                  Anguilla   \n",
       "171             NaN                Antarctica   \n",
       "..              ...                       ...   \n",
       "273             NaN                  Viet Nam   \n",
       "274             NaN  Virgin Islands (British)   \n",
       "275             NaN     Virgin Islands (U.S.)   \n",
       "276             NaN         Wallis and Futuna   \n",
       "277             NaN            Western Sahara   \n",
       "\n",
       "                                     Officialstatename InternetccTLD iso2  \\\n",
       "167                                              Åland           .ax   AX   \n",
       "168                    The Territory of American Samoa           .as   AS   \n",
       "169                        The Principality of Andorra           .ad   AD   \n",
       "170                                           Anguilla           .ai   AI   \n",
       "171  All land and ice shelves south of the 60th par...           .aq   AQ   \n",
       "..                                                 ...           ...  ...   \n",
       "273                 The Socialist Republic of Viet Nam           .vn   VN   \n",
       "274                                 The Virgin Islands           .vg   VG   \n",
       "275            The Virgin Islands of the United States           .vi   VI   \n",
       "276     The Territory of the Wallis and Futuna Islands           .wf   WF   \n",
       "277               The Sahrawi Arab Democratic Republic           NaN   EH   \n",
       "\n",
       "    iso3        True  \n",
       "167  ALA  right_only  \n",
       "168  ASM  right_only  \n",
       "169  AND  right_only  \n",
       "170  AIA  right_only  \n",
       "171  ATA  right_only  \n",
       "..   ...         ...  \n",
       "273  VNM  right_only  \n",
       "274  VGB  right_only  \n",
       "275  VIR  right_only  \n",
       "276  WLF  right_only  \n",
       "277  ESH  right_only  \n",
       "\n",
       "[111 rows x 14 columns]"
      ]
     },
     "execution_count": 184,
     "metadata": {},
     "output_type": "execute_result"
    }
   ],
   "source": [
    "allDataFull[allDataFull['True']=='right_only']"
   ]
  },
  {
   "cell_type": "code",
   "execution_count": 105,
   "metadata": {},
   "outputs": [
    {
     "data": {
      "text/html": [
       "<div>\n",
       "<style scoped>\n",
       "    .dataframe tbody tr th:only-of-type {\n",
       "        vertical-align: middle;\n",
       "    }\n",
       "\n",
       "    .dataframe tbody tr th {\n",
       "        vertical-align: top;\n",
       "    }\n",
       "\n",
       "    .dataframe thead th {\n",
       "        text-align: right;\n",
       "    }\n",
       "</style>\n",
       "<table border=\"1\" class=\"dataframe\">\n",
       "  <thead>\n",
       "    <tr style=\"text-align: right;\">\n",
       "      <th></th>\n",
       "      <th>Country</th>\n",
       "      <th>Regimetype</th>\n",
       "      <th>Overallscore</th>\n",
       "      <th>Electoralprocessandpluralism</th>\n",
       "      <th>Functioningofgovernment</th>\n",
       "      <th>Politicalparticipation</th>\n",
       "      <th>Politicalculture</th>\n",
       "      <th>Civilliberties</th>\n",
       "      <th>Countryname</th>\n",
       "      <th>Officialstatename</th>\n",
       "      <th>InternetccTLD</th>\n",
       "      <th>iso2</th>\n",
       "      <th>iso3</th>\n",
       "      <th>True</th>\n",
       "    </tr>\n",
       "  </thead>\n",
       "  <tbody>\n",
       "    <tr>\n",
       "      <th>9</th>\n",
       "      <td>Netherlands</td>\n",
       "      <td>Full democracy</td>\n",
       "      <td>8.96</td>\n",
       "      <td>9.58</td>\n",
       "      <td>9.29</td>\n",
       "      <td>8.33</td>\n",
       "      <td>8.75</td>\n",
       "      <td>8.82</td>\n",
       "      <td>NaN</td>\n",
       "      <td>NaN</td>\n",
       "      <td>NaN</td>\n",
       "      <td>NaN</td>\n",
       "      <td>NaN</td>\n",
       "      <td>left_only</td>\n",
       "    </tr>\n",
       "    <tr>\n",
       "      <th>10</th>\n",
       "      <td>Taiwan</td>\n",
       "      <td>Full democracy</td>\n",
       "      <td>8.94</td>\n",
       "      <td>10.00</td>\n",
       "      <td>9.64</td>\n",
       "      <td>7.22</td>\n",
       "      <td>8.13</td>\n",
       "      <td>9.71</td>\n",
       "      <td>NaN</td>\n",
       "      <td>NaN</td>\n",
       "      <td>NaN</td>\n",
       "      <td>NaN</td>\n",
       "      <td>NaN</td>\n",
       "      <td>left_only</td>\n",
       "    </tr>\n",
       "    <tr>\n",
       "      <th>15</th>\n",
       "      <td>United Kingdom</td>\n",
       "      <td>Full democracy</td>\n",
       "      <td>8.54</td>\n",
       "      <td>10.00</td>\n",
       "      <td>7.50</td>\n",
       "      <td>8.89</td>\n",
       "      <td>7.50</td>\n",
       "      <td>8.82</td>\n",
       "      <td>NaN</td>\n",
       "      <td>NaN</td>\n",
       "      <td>NaN</td>\n",
       "      <td>NaN</td>\n",
       "      <td>NaN</td>\n",
       "      <td>left_only</td>\n",
       "    </tr>\n",
       "    <tr>\n",
       "      <th>22</th>\n",
       "      <td>South Korea</td>\n",
       "      <td>Full democracy</td>\n",
       "      <td>8.01</td>\n",
       "      <td>9.17</td>\n",
       "      <td>8.21</td>\n",
       "      <td>7.22</td>\n",
       "      <td>7.50</td>\n",
       "      <td>7.94</td>\n",
       "      <td>NaN</td>\n",
       "      <td>NaN</td>\n",
       "      <td>NaN</td>\n",
       "      <td>NaN</td>\n",
       "      <td>NaN</td>\n",
       "      <td>left_only</td>\n",
       "    </tr>\n",
       "    <tr>\n",
       "      <th>24</th>\n",
       "      <td>United States</td>\n",
       "      <td>Flawed democracy</td>\n",
       "      <td>7.92</td>\n",
       "      <td>9.17</td>\n",
       "      <td>6.79</td>\n",
       "      <td>8.89</td>\n",
       "      <td>6.25</td>\n",
       "      <td>8.53</td>\n",
       "      <td>NaN</td>\n",
       "      <td>NaN</td>\n",
       "      <td>NaN</td>\n",
       "      <td>NaN</td>\n",
       "      <td>NaN</td>\n",
       "      <td>left_only</td>\n",
       "    </tr>\n",
       "    <tr>\n",
       "      <th>30</th>\n",
       "      <td>Czech Republic</td>\n",
       "      <td>Flawed democracy</td>\n",
       "      <td>7.67</td>\n",
       "      <td>9.58</td>\n",
       "      <td>6.07</td>\n",
       "      <td>6.67</td>\n",
       "      <td>7.50</td>\n",
       "      <td>8.53</td>\n",
       "      <td>NaN</td>\n",
       "      <td>NaN</td>\n",
       "      <td>NaN</td>\n",
       "      <td>NaN</td>\n",
       "      <td>NaN</td>\n",
       "      <td>left_only</td>\n",
       "    </tr>\n",
       "    <tr>\n",
       "      <th>31</th>\n",
       "      <td>Cape Verde</td>\n",
       "      <td>Flawed democracy</td>\n",
       "      <td>7.65</td>\n",
       "      <td>9.17</td>\n",
       "      <td>7.00</td>\n",
       "      <td>6.67</td>\n",
       "      <td>6.88</td>\n",
       "      <td>8.53</td>\n",
       "      <td>NaN</td>\n",
       "      <td>NaN</td>\n",
       "      <td>NaN</td>\n",
       "      <td>NaN</td>\n",
       "      <td>NaN</td>\n",
       "      <td>left_only</td>\n",
       "    </tr>\n",
       "    <tr>\n",
       "      <th>54</th>\n",
       "      <td>Philippines</td>\n",
       "      <td>Flawed democracy</td>\n",
       "      <td>6.56</td>\n",
       "      <td>9.17</td>\n",
       "      <td>5.00</td>\n",
       "      <td>7.78</td>\n",
       "      <td>4.38</td>\n",
       "      <td>6.47</td>\n",
       "      <td>NaN</td>\n",
       "      <td>NaN</td>\n",
       "      <td>NaN</td>\n",
       "      <td>NaN</td>\n",
       "      <td>NaN</td>\n",
       "      <td>left_only</td>\n",
       "    </tr>\n",
       "    <tr>\n",
       "      <th>57</th>\n",
       "      <td>Namibia</td>\n",
       "      <td>Flawed democracy</td>\n",
       "      <td>6.52</td>\n",
       "      <td>7.00</td>\n",
       "      <td>5.36</td>\n",
       "      <td>6.67</td>\n",
       "      <td>5.63</td>\n",
       "      <td>7.94</td>\n",
       "      <td>NaN</td>\n",
       "      <td>NaN</td>\n",
       "      <td>NaN</td>\n",
       "      <td>NaN</td>\n",
       "      <td>NaN</td>\n",
       "      <td>left_only</td>\n",
       "    </tr>\n",
       "    <tr>\n",
       "      <th>62</th>\n",
       "      <td>Dominican Republic</td>\n",
       "      <td>Flawed democracy</td>\n",
       "      <td>6.32</td>\n",
       "      <td>9.17</td>\n",
       "      <td>4.29</td>\n",
       "      <td>6.11</td>\n",
       "      <td>5.00</td>\n",
       "      <td>7.06</td>\n",
       "      <td>NaN</td>\n",
       "      <td>NaN</td>\n",
       "      <td>NaN</td>\n",
       "      <td>NaN</td>\n",
       "      <td>NaN</td>\n",
       "      <td>left_only</td>\n",
       "    </tr>\n",
       "    <tr>\n",
       "      <th>79</th>\n",
       "      <td>Moldova</td>\n",
       "      <td>Hybrid regime</td>\n",
       "      <td>5.78</td>\n",
       "      <td>7.00</td>\n",
       "      <td>4.64</td>\n",
       "      <td>6.11</td>\n",
       "      <td>4.38</td>\n",
       "      <td>6.76</td>\n",
       "      <td>NaN</td>\n",
       "      <td>NaN</td>\n",
       "      <td>NaN</td>\n",
       "      <td>NaN</td>\n",
       "      <td>NaN</td>\n",
       "      <td>left_only</td>\n",
       "    </tr>\n",
       "    <tr>\n",
       "      <th>92</th>\n",
       "      <td>Tanzania</td>\n",
       "      <td>Hybrid regime</td>\n",
       "      <td>5.10</td>\n",
       "      <td>4.83</td>\n",
       "      <td>5.00</td>\n",
       "      <td>5.00</td>\n",
       "      <td>6.25</td>\n",
       "      <td>4.41</td>\n",
       "      <td>NaN</td>\n",
       "      <td>NaN</td>\n",
       "      <td>NaN</td>\n",
       "      <td>NaN</td>\n",
       "      <td>NaN</td>\n",
       "      <td>left_only</td>\n",
       "    </tr>\n",
       "    <tr>\n",
       "      <th>93</th>\n",
       "      <td>Bolivia</td>\n",
       "      <td>Hybrid regime</td>\n",
       "      <td>5.08</td>\n",
       "      <td>6.08</td>\n",
       "      <td>3.57</td>\n",
       "      <td>6.11</td>\n",
       "      <td>3.75</td>\n",
       "      <td>5.88</td>\n",
       "      <td>NaN</td>\n",
       "      <td>NaN</td>\n",
       "      <td>NaN</td>\n",
       "      <td>NaN</td>\n",
       "      <td>NaN</td>\n",
       "      <td>left_only</td>\n",
       "    </tr>\n",
       "    <tr>\n",
       "      <th>102</th>\n",
       "      <td>Gambia</td>\n",
       "      <td>Hybrid regime</td>\n",
       "      <td>4.49</td>\n",
       "      <td>4.00</td>\n",
       "      <td>4.29</td>\n",
       "      <td>4.44</td>\n",
       "      <td>5.63</td>\n",
       "      <td>4.12</td>\n",
       "      <td>NaN</td>\n",
       "      <td>NaN</td>\n",
       "      <td>NaN</td>\n",
       "      <td>NaN</td>\n",
       "      <td>NaN</td>\n",
       "      <td>left_only</td>\n",
       "    </tr>\n",
       "    <tr>\n",
       "      <th>108</th>\n",
       "      <td>Ivory Coast</td>\n",
       "      <td>Hybrid regime</td>\n",
       "      <td>4.11</td>\n",
       "      <td>4.33</td>\n",
       "      <td>2.86</td>\n",
       "      <td>3.89</td>\n",
       "      <td>5.63</td>\n",
       "      <td>3.82</td>\n",
       "      <td>NaN</td>\n",
       "      <td>NaN</td>\n",
       "      <td>NaN</td>\n",
       "      <td>NaN</td>\n",
       "      <td>NaN</td>\n",
       "      <td>left_only</td>\n",
       "    </tr>\n",
       "    <tr>\n",
       "      <th>112</th>\n",
       "      <td>Palestine</td>\n",
       "      <td>Authoritarian</td>\n",
       "      <td>3.83</td>\n",
       "      <td>3.33</td>\n",
       "      <td>0.14</td>\n",
       "      <td>7.78</td>\n",
       "      <td>4.38</td>\n",
       "      <td>3.53</td>\n",
       "      <td>NaN</td>\n",
       "      <td>NaN</td>\n",
       "      <td>NaN</td>\n",
       "      <td>NaN</td>\n",
       "      <td>NaN</td>\n",
       "      <td>left_only</td>\n",
       "    </tr>\n",
       "    <tr>\n",
       "      <th>123</th>\n",
       "      <td>Russia</td>\n",
       "      <td>Authoritarian</td>\n",
       "      <td>3.31</td>\n",
       "      <td>2.17</td>\n",
       "      <td>2.14</td>\n",
       "      <td>5.00</td>\n",
       "      <td>3.13</td>\n",
       "      <td>4.12</td>\n",
       "      <td>NaN</td>\n",
       "      <td>NaN</td>\n",
       "      <td>NaN</td>\n",
       "      <td>NaN</td>\n",
       "      <td>NaN</td>\n",
       "      <td>left_only</td>\n",
       "    </tr>\n",
       "    <tr>\n",
       "      <th>124</th>\n",
       "      <td>Niger</td>\n",
       "      <td>Authoritarian</td>\n",
       "      <td>3.29</td>\n",
       "      <td>2.92</td>\n",
       "      <td>1.14</td>\n",
       "      <td>3.33</td>\n",
       "      <td>4.38</td>\n",
       "      <td>4.71</td>\n",
       "      <td>NaN</td>\n",
       "      <td>NaN</td>\n",
       "      <td>NaN</td>\n",
       "      <td>NaN</td>\n",
       "      <td>NaN</td>\n",
       "      <td>left_only</td>\n",
       "    </tr>\n",
       "    <tr>\n",
       "      <th>128</th>\n",
       "      <td>Republic of the Congo</td>\n",
       "      <td>Authoritarian</td>\n",
       "      <td>3.11</td>\n",
       "      <td>2.17</td>\n",
       "      <td>2.50</td>\n",
       "      <td>3.89</td>\n",
       "      <td>3.75</td>\n",
       "      <td>3.24</td>\n",
       "      <td>NaN</td>\n",
       "      <td>NaN</td>\n",
       "      <td>NaN</td>\n",
       "      <td>NaN</td>\n",
       "      <td>NaN</td>\n",
       "      <td>left_only</td>\n",
       "    </tr>\n",
       "    <tr>\n",
       "      <th>131</th>\n",
       "      <td>Comoros</td>\n",
       "      <td>Authoritarian</td>\n",
       "      <td>3.09</td>\n",
       "      <td>2.08</td>\n",
       "      <td>2.21</td>\n",
       "      <td>3.89</td>\n",
       "      <td>3.75</td>\n",
       "      <td>3.53</td>\n",
       "      <td>NaN</td>\n",
       "      <td>NaN</td>\n",
       "      <td>NaN</td>\n",
       "      <td>NaN</td>\n",
       "      <td>NaN</td>\n",
       "      <td>left_only</td>\n",
       "    </tr>\n",
       "    <tr>\n",
       "      <th>136</th>\n",
       "      <td>Vietnam</td>\n",
       "      <td>Authoritarian</td>\n",
       "      <td>2.94</td>\n",
       "      <td>0.00</td>\n",
       "      <td>2.86</td>\n",
       "      <td>3.89</td>\n",
       "      <td>5.63</td>\n",
       "      <td>2.35</td>\n",
       "      <td>NaN</td>\n",
       "      <td>NaN</td>\n",
       "      <td>NaN</td>\n",
       "      <td>NaN</td>\n",
       "      <td>NaN</td>\n",
       "      <td>left_only</td>\n",
       "    </tr>\n",
       "    <tr>\n",
       "      <th>142</th>\n",
       "      <td>Venezuela</td>\n",
       "      <td>Authoritarian</td>\n",
       "      <td>2.76</td>\n",
       "      <td>0.00</td>\n",
       "      <td>1.79</td>\n",
       "      <td>5.00</td>\n",
       "      <td>4.38</td>\n",
       "      <td>2.65</td>\n",
       "      <td>NaN</td>\n",
       "      <td>NaN</td>\n",
       "      <td>NaN</td>\n",
       "      <td>NaN</td>\n",
       "      <td>NaN</td>\n",
       "      <td>left_only</td>\n",
       "    </tr>\n",
       "    <tr>\n",
       "      <th>144</th>\n",
       "      <td>United Arab Emirates</td>\n",
       "      <td>Authoritarian</td>\n",
       "      <td>2.70</td>\n",
       "      <td>0.00</td>\n",
       "      <td>3.93</td>\n",
       "      <td>2.22</td>\n",
       "      <td>5.00</td>\n",
       "      <td>2.65</td>\n",
       "      <td>NaN</td>\n",
       "      <td>NaN</td>\n",
       "      <td>NaN</td>\n",
       "      <td>NaN</td>\n",
       "      <td>NaN</td>\n",
       "      <td>left_only</td>\n",
       "    </tr>\n",
       "    <tr>\n",
       "      <th>148</th>\n",
       "      <td>Sudan</td>\n",
       "      <td>Authoritarian</td>\n",
       "      <td>2.54</td>\n",
       "      <td>0.00</td>\n",
       "      <td>1.79</td>\n",
       "      <td>4.44</td>\n",
       "      <td>5.00</td>\n",
       "      <td>1.47</td>\n",
       "      <td>NaN</td>\n",
       "      <td>NaN</td>\n",
       "      <td>NaN</td>\n",
       "      <td>NaN</td>\n",
       "      <td>NaN</td>\n",
       "      <td>left_only</td>\n",
       "    </tr>\n",
       "    <tr>\n",
       "      <th>151</th>\n",
       "      <td>Iran</td>\n",
       "      <td>Authoritarian</td>\n",
       "      <td>2.20</td>\n",
       "      <td>0.00</td>\n",
       "      <td>2.50</td>\n",
       "      <td>3.89</td>\n",
       "      <td>3.13</td>\n",
       "      <td>1.47</td>\n",
       "      <td>NaN</td>\n",
       "      <td>NaN</td>\n",
       "      <td>NaN</td>\n",
       "      <td>NaN</td>\n",
       "      <td>NaN</td>\n",
       "      <td>left_only</td>\n",
       "    </tr>\n",
       "    <tr>\n",
       "      <th>160</th>\n",
       "      <td>Laos</td>\n",
       "      <td>Authoritarian</td>\n",
       "      <td>1.77</td>\n",
       "      <td>0.00</td>\n",
       "      <td>2.86</td>\n",
       "      <td>1.67</td>\n",
       "      <td>3.75</td>\n",
       "      <td>0.59</td>\n",
       "      <td>NaN</td>\n",
       "      <td>NaN</td>\n",
       "      <td>NaN</td>\n",
       "      <td>NaN</td>\n",
       "      <td>NaN</td>\n",
       "      <td>left_only</td>\n",
       "    </tr>\n",
       "    <tr>\n",
       "      <th>163</th>\n",
       "      <td>Syria</td>\n",
       "      <td>Authoritarian</td>\n",
       "      <td>1.43</td>\n",
       "      <td>0.00</td>\n",
       "      <td>0.00</td>\n",
       "      <td>2.78</td>\n",
       "      <td>4.38</td>\n",
       "      <td>0.00</td>\n",
       "      <td>NaN</td>\n",
       "      <td>NaN</td>\n",
       "      <td>NaN</td>\n",
       "      <td>NaN</td>\n",
       "      <td>NaN</td>\n",
       "      <td>left_only</td>\n",
       "    </tr>\n",
       "    <tr>\n",
       "      <th>164</th>\n",
       "      <td>Central African Republic</td>\n",
       "      <td>Authoritarian</td>\n",
       "      <td>1.32</td>\n",
       "      <td>1.25</td>\n",
       "      <td>0.00</td>\n",
       "      <td>1.11</td>\n",
       "      <td>1.88</td>\n",
       "      <td>2.35</td>\n",
       "      <td>NaN</td>\n",
       "      <td>NaN</td>\n",
       "      <td>NaN</td>\n",
       "      <td>NaN</td>\n",
       "      <td>NaN</td>\n",
       "      <td>left_only</td>\n",
       "    </tr>\n",
       "    <tr>\n",
       "      <th>165</th>\n",
       "      <td>Democratic Republic of the Congo</td>\n",
       "      <td>Authoritarian</td>\n",
       "      <td>1.13</td>\n",
       "      <td>0.00</td>\n",
       "      <td>0.00</td>\n",
       "      <td>1.67</td>\n",
       "      <td>3.13</td>\n",
       "      <td>0.88</td>\n",
       "      <td>NaN</td>\n",
       "      <td>NaN</td>\n",
       "      <td>NaN</td>\n",
       "      <td>NaN</td>\n",
       "      <td>NaN</td>\n",
       "      <td>left_only</td>\n",
       "    </tr>\n",
       "    <tr>\n",
       "      <th>166</th>\n",
       "      <td>North Korea</td>\n",
       "      <td>Authoritarian</td>\n",
       "      <td>1.08</td>\n",
       "      <td>0.00</td>\n",
       "      <td>2.50</td>\n",
       "      <td>1.67</td>\n",
       "      <td>1.25</td>\n",
       "      <td>0.00</td>\n",
       "      <td>NaN</td>\n",
       "      <td>NaN</td>\n",
       "      <td>NaN</td>\n",
       "      <td>NaN</td>\n",
       "      <td>NaN</td>\n",
       "      <td>left_only</td>\n",
       "    </tr>\n",
       "  </tbody>\n",
       "</table>\n",
       "</div>"
      ],
      "text/plain": [
       "                              Country        Regimetype  Overallscore  \\\n",
       "9                         Netherlands    Full democracy          8.96   \n",
       "10                             Taiwan    Full democracy          8.94   \n",
       "15                     United Kingdom    Full democracy          8.54   \n",
       "22                        South Korea    Full democracy          8.01   \n",
       "24                      United States  Flawed democracy          7.92   \n",
       "30                     Czech Republic  Flawed democracy          7.67   \n",
       "31                         Cape Verde  Flawed democracy          7.65   \n",
       "54                        Philippines  Flawed democracy          6.56   \n",
       "57                            Namibia  Flawed democracy          6.52   \n",
       "62                 Dominican Republic  Flawed democracy          6.32   \n",
       "79                            Moldova     Hybrid regime          5.78   \n",
       "92                           Tanzania     Hybrid regime          5.10   \n",
       "93                            Bolivia     Hybrid regime          5.08   \n",
       "102                            Gambia     Hybrid regime          4.49   \n",
       "108                       Ivory Coast     Hybrid regime          4.11   \n",
       "112                         Palestine     Authoritarian          3.83   \n",
       "123                            Russia     Authoritarian          3.31   \n",
       "124                             Niger     Authoritarian          3.29   \n",
       "128             Republic of the Congo     Authoritarian          3.11   \n",
       "131                           Comoros     Authoritarian          3.09   \n",
       "136                           Vietnam     Authoritarian          2.94   \n",
       "142                         Venezuela     Authoritarian          2.76   \n",
       "144              United Arab Emirates     Authoritarian          2.70   \n",
       "148                             Sudan     Authoritarian          2.54   \n",
       "151                              Iran     Authoritarian          2.20   \n",
       "160                              Laos     Authoritarian          1.77   \n",
       "163                             Syria     Authoritarian          1.43   \n",
       "164          Central African Republic     Authoritarian          1.32   \n",
       "165  Democratic Republic of the Congo     Authoritarian          1.13   \n",
       "166                       North Korea     Authoritarian          1.08   \n",
       "\n",
       "     Electoralprocessandpluralism  Functioningofgovernment  \\\n",
       "9                            9.58                     9.29   \n",
       "10                          10.00                     9.64   \n",
       "15                          10.00                     7.50   \n",
       "22                           9.17                     8.21   \n",
       "24                           9.17                     6.79   \n",
       "30                           9.58                     6.07   \n",
       "31                           9.17                     7.00   \n",
       "54                           9.17                     5.00   \n",
       "57                           7.00                     5.36   \n",
       "62                           9.17                     4.29   \n",
       "79                           7.00                     4.64   \n",
       "92                           4.83                     5.00   \n",
       "93                           6.08                     3.57   \n",
       "102                          4.00                     4.29   \n",
       "108                          4.33                     2.86   \n",
       "112                          3.33                     0.14   \n",
       "123                          2.17                     2.14   \n",
       "124                          2.92                     1.14   \n",
       "128                          2.17                     2.50   \n",
       "131                          2.08                     2.21   \n",
       "136                          0.00                     2.86   \n",
       "142                          0.00                     1.79   \n",
       "144                          0.00                     3.93   \n",
       "148                          0.00                     1.79   \n",
       "151                          0.00                     2.50   \n",
       "160                          0.00                     2.86   \n",
       "163                          0.00                     0.00   \n",
       "164                          1.25                     0.00   \n",
       "165                          0.00                     0.00   \n",
       "166                          0.00                     2.50   \n",
       "\n",
       "     Politicalparticipation  Politicalculture  Civilliberties Countryname  \\\n",
       "9                      8.33              8.75            8.82         NaN   \n",
       "10                     7.22              8.13            9.71         NaN   \n",
       "15                     8.89              7.50            8.82         NaN   \n",
       "22                     7.22              7.50            7.94         NaN   \n",
       "24                     8.89              6.25            8.53         NaN   \n",
       "30                     6.67              7.50            8.53         NaN   \n",
       "31                     6.67              6.88            8.53         NaN   \n",
       "54                     7.78              4.38            6.47         NaN   \n",
       "57                     6.67              5.63            7.94         NaN   \n",
       "62                     6.11              5.00            7.06         NaN   \n",
       "79                     6.11              4.38            6.76         NaN   \n",
       "92                     5.00              6.25            4.41         NaN   \n",
       "93                     6.11              3.75            5.88         NaN   \n",
       "102                    4.44              5.63            4.12         NaN   \n",
       "108                    3.89              5.63            3.82         NaN   \n",
       "112                    7.78              4.38            3.53         NaN   \n",
       "123                    5.00              3.13            4.12         NaN   \n",
       "124                    3.33              4.38            4.71         NaN   \n",
       "128                    3.89              3.75            3.24         NaN   \n",
       "131                    3.89              3.75            3.53         NaN   \n",
       "136                    3.89              5.63            2.35         NaN   \n",
       "142                    5.00              4.38            2.65         NaN   \n",
       "144                    2.22              5.00            2.65         NaN   \n",
       "148                    4.44              5.00            1.47         NaN   \n",
       "151                    3.89              3.13            1.47         NaN   \n",
       "160                    1.67              3.75            0.59         NaN   \n",
       "163                    2.78              4.38            0.00         NaN   \n",
       "164                    1.11              1.88            2.35         NaN   \n",
       "165                    1.67              3.13            0.88         NaN   \n",
       "166                    1.67              1.25            0.00         NaN   \n",
       "\n",
       "    Officialstatename InternetccTLD iso2 iso3       True  \n",
       "9                 NaN           NaN  NaN  NaN  left_only  \n",
       "10                NaN           NaN  NaN  NaN  left_only  \n",
       "15                NaN           NaN  NaN  NaN  left_only  \n",
       "22                NaN           NaN  NaN  NaN  left_only  \n",
       "24                NaN           NaN  NaN  NaN  left_only  \n",
       "30                NaN           NaN  NaN  NaN  left_only  \n",
       "31                NaN           NaN  NaN  NaN  left_only  \n",
       "54                NaN           NaN  NaN  NaN  left_only  \n",
       "57                NaN           NaN  NaN  NaN  left_only  \n",
       "62                NaN           NaN  NaN  NaN  left_only  \n",
       "79                NaN           NaN  NaN  NaN  left_only  \n",
       "92                NaN           NaN  NaN  NaN  left_only  \n",
       "93                NaN           NaN  NaN  NaN  left_only  \n",
       "102               NaN           NaN  NaN  NaN  left_only  \n",
       "108               NaN           NaN  NaN  NaN  left_only  \n",
       "112               NaN           NaN  NaN  NaN  left_only  \n",
       "123               NaN           NaN  NaN  NaN  left_only  \n",
       "124               NaN           NaN  NaN  NaN  left_only  \n",
       "128               NaN           NaN  NaN  NaN  left_only  \n",
       "131               NaN           NaN  NaN  NaN  left_only  \n",
       "136               NaN           NaN  NaN  NaN  left_only  \n",
       "142               NaN           NaN  NaN  NaN  left_only  \n",
       "144               NaN           NaN  NaN  NaN  left_only  \n",
       "148               NaN           NaN  NaN  NaN  left_only  \n",
       "151               NaN           NaN  NaN  NaN  left_only  \n",
       "160               NaN           NaN  NaN  NaN  left_only  \n",
       "163               NaN           NaN  NaN  NaN  left_only  \n",
       "164               NaN           NaN  NaN  NaN  left_only  \n",
       "165               NaN           NaN  NaN  NaN  left_only  \n",
       "166               NaN           NaN  NaN  NaN  left_only  "
      ]
     },
     "execution_count": 105,
     "metadata": {},
     "output_type": "execute_result"
    }
   ],
   "source": [
    "allDataFull[allDataFull['True']=='left_only']"
   ]
  },
  {
   "cell_type": "code",
   "execution_count": null,
   "metadata": {},
   "outputs": [],
   "source": []
  },
  {
   "cell_type": "markdown",
   "metadata": {},
   "source": [
    "Fuzzy Merge using [TheFuzz](https://github.com/seatgeek/thefuzz)"
   ]
  },
  {
   "cell_type": "code",
   "execution_count": 185,
   "metadata": {},
   "outputs": [],
   "source": [
    "from thefuzz import process"
   ]
  },
  {
   "cell_type": "code",
   "execution_count": 186,
   "metadata": {},
   "outputs": [
    {
     "data": {
      "text/plain": [
       "['Netherlands',\n",
       " 'Taiwan',\n",
       " 'United Kingdom',\n",
       " 'South Korea',\n",
       " 'United States',\n",
       " 'Czech Republic',\n",
       " 'Cape Verde',\n",
       " 'Philippines',\n",
       " 'Dominican Republic',\n",
       " 'Moldova',\n",
       " 'Tanzania',\n",
       " 'Bolivia',\n",
       " 'Gambia',\n",
       " 'Ivory Coast',\n",
       " 'Palestine',\n",
       " 'Russia',\n",
       " 'Niger',\n",
       " 'Republic of the Congo',\n",
       " 'Comoros',\n",
       " 'Vietnam',\n",
       " 'Venezuela',\n",
       " 'United Arab Emirates',\n",
       " 'Sudan',\n",
       " 'Iran',\n",
       " 'Laos',\n",
       " 'Syria',\n",
       " 'Central African Republic',\n",
       " 'Democratic Republic of the Congo',\n",
       " 'North Korea']"
      ]
     },
     "execution_count": 186,
     "metadata": {},
     "output_type": "execute_result"
    }
   ],
   "source": [
    "UnmatchedLeft=allDataFull[allDataFull['True']=='left_only'].Country.to_list()\n",
    "UnmatchedLeft"
   ]
  },
  {
   "cell_type": "code",
   "execution_count": 187,
   "metadata": {},
   "outputs": [
    {
     "data": {
      "text/plain": [
       "['Åland Islands',\n",
       " 'American Samoa',\n",
       " 'Andorra',\n",
       " 'Anguilla',\n",
       " 'Antarctica',\n",
       " 'Antigua and Barbuda',\n",
       " 'Aruba',\n",
       " 'Bahamas (the)',\n",
       " 'Barbados',\n",
       " 'Belize',\n",
       " 'Bermuda',\n",
       " 'Bolivia (Plurinational State of)',\n",
       " 'Bonaire\\xa0Sint Eustatius\\xa0Saba',\n",
       " 'Bouvet Island',\n",
       " 'British Indian Ocean Territory (the)',\n",
       " 'Brunei Darussalam',\n",
       " 'Cabo Verde',\n",
       " 'Cayman Islands (the)',\n",
       " 'Central African Republic (the)',\n",
       " 'Christmas Island',\n",
       " 'Cocos (Keeling) Islands (the)',\n",
       " 'Comoros (the)',\n",
       " 'Congo (the Democratic Republic of the)',\n",
       " 'Congo (the)',\n",
       " 'Cook Islands (the)',\n",
       " \"Côte d'Ivoire\",\n",
       " 'Curaçao',\n",
       " 'Czechia',\n",
       " 'Dominica',\n",
       " 'Dominican Republic (the)',\n",
       " 'Falkland Islands (the)',\n",
       " 'Faroe Islands (the)',\n",
       " 'French Guiana',\n",
       " 'French Polynesia',\n",
       " 'French Southern Territories (the)',\n",
       " 'Gambia (the)',\n",
       " 'Gibraltar',\n",
       " 'Greenland',\n",
       " 'Grenada',\n",
       " 'Guadeloupe',\n",
       " 'Guam',\n",
       " 'Guernsey',\n",
       " 'Heard Island and McDonald Islands',\n",
       " 'Holy See (the)',\n",
       " 'Iran (Islamic Republic of)',\n",
       " 'Isle of Man',\n",
       " 'Jersey',\n",
       " 'Kiribati',\n",
       " \"Korea (the Democratic People's Republic of)\",\n",
       " 'Korea (the Republic of)',\n",
       " \"Lao People's Democratic Republic (the)\",\n",
       " 'Liechtenstein',\n",
       " 'Macao',\n",
       " 'Maldives',\n",
       " 'Marshall Islands (the)',\n",
       " 'Martinique',\n",
       " 'Mayotte',\n",
       " 'Micronesia (Federated States of)',\n",
       " 'Moldova (the Republic of)',\n",
       " 'Monaco',\n",
       " 'Montserrat',\n",
       " 'Nauru',\n",
       " 'Netherlands (the)',\n",
       " 'New Caledonia',\n",
       " 'Niger (the)',\n",
       " 'Niue',\n",
       " 'Norfolk Island',\n",
       " 'Northern Mariana Islands (the)',\n",
       " 'Palau',\n",
       " 'Palestine, State of',\n",
       " 'Philippines (the)',\n",
       " 'Pitcairn',\n",
       " 'Puerto Rico',\n",
       " 'Réunion',\n",
       " 'Russian Federation (the)',\n",
       " 'Saint Barthélemy',\n",
       " 'Saint Helena\\xa0Ascension Island\\xa0Tristan da Cunha',\n",
       " 'Saint Kitts and Nevis',\n",
       " 'Saint Lucia',\n",
       " 'Saint Martin (French part)',\n",
       " 'Saint Pierre and Miquelon',\n",
       " 'Saint Vincent and the Grenadines',\n",
       " 'Samoa',\n",
       " 'San Marino',\n",
       " 'Sao Tome and Principe',\n",
       " 'Seychelles',\n",
       " 'Sint Maarten (Dutch part)',\n",
       " 'Solomon Islands',\n",
       " 'Somalia',\n",
       " 'South Georgia and the South Sandwich Islands',\n",
       " 'South Sudan',\n",
       " 'Sudan (the)',\n",
       " 'Svalbard\\xa0Jan Mayen',\n",
       " 'Syrian Arab Republic (the)',\n",
       " 'Taiwan (Province of China)',\n",
       " 'Tanzania, the United Republic of',\n",
       " 'Tokelau',\n",
       " 'Tonga',\n",
       " 'Turks and Caicos Islands (the)',\n",
       " 'Tuvalu',\n",
       " 'United Arab Emirates (the)',\n",
       " 'United Kingdom of Great Britain and Northern Ireland (the)',\n",
       " 'United States Minor Outlying Islands (the)',\n",
       " 'United States of America (the)',\n",
       " 'Vanuatu',\n",
       " 'Venezuela (Bolivarian Republic of)',\n",
       " 'Viet Nam',\n",
       " 'Virgin Islands (British)',\n",
       " 'Virgin Islands (U.S.)',\n",
       " 'Wallis and Futuna',\n",
       " 'Western Sahara']"
      ]
     },
     "execution_count": 187,
     "metadata": {},
     "output_type": "execute_result"
    }
   ],
   "source": [
    "UnmatchedRight=allDataFull[allDataFull['True']=='right_only'].Countryname.to_list()\n",
    "UnmatchedRight"
   ]
  },
  {
   "cell_type": "code",
   "execution_count": 188,
   "metadata": {},
   "outputs": [
    {
     "data": {
      "text/plain": [
       "('Netherlands (the)', 95)"
      ]
     },
     "execution_count": 188,
     "metadata": {},
     "output_type": "execute_result"
    }
   ],
   "source": [
    "process.extractOne(UnmatchedLeft[0], UnmatchedRight)"
   ]
  },
  {
   "cell_type": "code",
   "execution_count": 189,
   "metadata": {},
   "outputs": [
    {
     "data": {
      "text/plain": [
       "[('Netherlands', ('Netherlands (the)', 95)),\n",
       " ('Taiwan', ('Taiwan (Province of China)', 90)),\n",
       " ('United Kingdom',\n",
       "  ('United Kingdom of Great Britain and Northern Ireland (the)', 90)),\n",
       " ('South Korea', (\"Korea (the Democratic People's Republic of)\", 86)),\n",
       " ('United States', ('United States Minor Outlying Islands (the)', 90)),\n",
       " ('Czech Republic', ('Central African Republic (the)', 86)),\n",
       " ('Cape Verde', ('Cabo Verde', 80)),\n",
       " ('Philippines', ('Philippines (the)', 95)),\n",
       " ('Dominican Republic', ('Dominican Republic (the)', 95)),\n",
       " ('Moldova', ('Moldova (the Republic of)', 90)),\n",
       " ('Tanzania', ('Tanzania, the United Republic of', 90)),\n",
       " ('Bolivia', ('Bolivia (Plurinational State of)', 90)),\n",
       " ('Gambia', ('Gambia (the)', 90)),\n",
       " ('Ivory Coast', (\"Côte d'Ivoire\", 58)),\n",
       " ('Palestine', ('Palestine, State of', 90)),\n",
       " ('Russia', ('Russian Federation (the)', 90)),\n",
       " ('Niger', ('Niger (the)', 90)),\n",
       " ('Republic of the Congo', ('Bahamas (the)', 86)),\n",
       " ('Comoros', ('Comoros (the)', 90)),\n",
       " ('Vietnam', ('Viet Nam', 93)),\n",
       " ('Venezuela', ('Venezuela (Bolivarian Republic of)', 90)),\n",
       " ('United Arab Emirates', ('United Arab Emirates (the)', 95)),\n",
       " ('Sudan', ('South Sudan', 90)),\n",
       " ('Iran', ('Iran (Islamic Republic of)', 90)),\n",
       " ('Laos', ('Barbados', 68)),\n",
       " ('Syria', ('Syrian Arab Republic (the)', 90)),\n",
       " ('Central African Republic', ('Central African Republic (the)', 95)),\n",
       " ('Democratic Republic of the Congo',\n",
       "  ('Congo (the Democratic Republic of the)', 95)),\n",
       " ('North Korea', (\"Korea (the Democratic People's Republic of)\", 86))]"
      ]
     },
     "execution_count": 189,
     "metadata": {},
     "output_type": "execute_result"
    }
   ],
   "source": [
    "[(left, process.extractOne(left, UnmatchedRight)) for left in UnmatchedLeft]"
   ]
  },
  {
   "cell_type": "code",
   "execution_count": 190,
   "metadata": {},
   "outputs": [],
   "source": [
    "omit=[('South Korea', (\"Korea (the Democratic People's Republic of)\", 86)),\n",
    "('United States', ('United States Minor Outlying Islands (the)', 90)),\n",
    "('Czech Republic', ('Central African Republic (the)', 86)),\n",
    "('Republic of the Congo', ('Bahamas (the)', 86)),\n",
    "('Sudan', ('South Sudan', 90)),\n",
    "('Laos', ('Barbados', 68))]\n",
    "# ,\n",
    "# ('Democratic Republic of the Congo',('Congo (the Democratic Republic of the)', 95)),\n",
    "# ('North Korea', (\"Korea (the Democratic People's Republic of)\", 86))]"
   ]
  },
  {
   "cell_type": "code",
   "execution_count": 191,
   "metadata": {},
   "outputs": [],
   "source": [
    "omitLeft=[x for x,y in omit]"
   ]
  },
  {
   "cell_type": "code",
   "execution_count": 192,
   "metadata": {},
   "outputs": [
    {
     "data": {
      "text/plain": [
       "[('Netherlands', ('Netherlands (the)', 95)),\n",
       " ('Taiwan', ('Taiwan (Province of China)', 90)),\n",
       " ('United Kingdom',\n",
       "  ('United Kingdom of Great Britain and Northern Ireland (the)', 90)),\n",
       " ('Cape Verde', ('Cabo Verde', 80)),\n",
       " ('Philippines', ('Philippines (the)', 95)),\n",
       " ('Dominican Republic', ('Dominican Republic (the)', 95)),\n",
       " ('Moldova', ('Moldova (the Republic of)', 90)),\n",
       " ('Tanzania', ('Tanzania, the United Republic of', 90)),\n",
       " ('Bolivia', ('Bolivia (Plurinational State of)', 90)),\n",
       " ('Gambia', ('Gambia (the)', 90)),\n",
       " ('Ivory Coast', (\"Côte d'Ivoire\", 58)),\n",
       " ('Palestine', ('Palestine, State of', 90)),\n",
       " ('Russia', ('Russian Federation (the)', 90)),\n",
       " ('Niger', ('Niger (the)', 90)),\n",
       " ('Comoros', ('Comoros (the)', 90)),\n",
       " ('Vietnam', ('Viet Nam', 93)),\n",
       " ('Venezuela', ('Venezuela (Bolivarian Republic of)', 90)),\n",
       " ('United Arab Emirates', ('United Arab Emirates (the)', 95)),\n",
       " ('Iran', ('Iran (Islamic Republic of)', 90)),\n",
       " ('Syria', ('Syrian Arab Republic (the)', 90)),\n",
       " ('Central African Republic', ('Central African Republic (the)', 95)),\n",
       " ('Democratic Republic of the Congo',\n",
       "  ('Congo (the Democratic Republic of the)', 95)),\n",
       " ('North Korea', (\"Korea (the Democratic People's Republic of)\", 86))]"
      ]
     },
     "execution_count": 192,
     "metadata": {},
     "output_type": "execute_result"
    }
   ],
   "source": [
    "[(left, process.extractOne(left, UnmatchedRight)) for left in UnmatchedLeft if left not in omitLeft]"
   ]
  },
  {
   "cell_type": "code",
   "execution_count": 193,
   "metadata": {},
   "outputs": [
    {
     "data": {
      "text/plain": [
       "[('Netherlands', 'Netherlands (the)'),\n",
       " ('Taiwan', 'Taiwan (Province of China)'),\n",
       " ('United Kingdom',\n",
       "  'United Kingdom of Great Britain and Northern Ireland (the)'),\n",
       " ('Cape Verde', 'Cabo Verde'),\n",
       " ('Philippines', 'Philippines (the)'),\n",
       " ('Dominican Republic', 'Dominican Republic (the)'),\n",
       " ('Moldova', 'Moldova (the Republic of)'),\n",
       " ('Tanzania', 'Tanzania, the United Republic of'),\n",
       " ('Bolivia', 'Bolivia (Plurinational State of)'),\n",
       " ('Gambia', 'Gambia (the)'),\n",
       " ('Ivory Coast', \"Côte d'Ivoire\"),\n",
       " ('Palestine', 'Palestine, State of'),\n",
       " ('Russia', 'Russian Federation (the)'),\n",
       " ('Niger', 'Niger (the)'),\n",
       " ('Comoros', 'Comoros (the)'),\n",
       " ('Vietnam', 'Viet Nam'),\n",
       " ('Venezuela', 'Venezuela (Bolivarian Republic of)'),\n",
       " ('United Arab Emirates', 'United Arab Emirates (the)'),\n",
       " ('Iran', 'Iran (Islamic Republic of)'),\n",
       " ('Syria', 'Syrian Arab Republic (the)'),\n",
       " ('Central African Republic', 'Central African Republic (the)'),\n",
       " ('Democratic Republic of the Congo',\n",
       "  'Congo (the Democratic Republic of the)'),\n",
       " ('North Korea', \"Korea (the Democratic People's Republic of)\")]"
      ]
     },
     "execution_count": 193,
     "metadata": {},
     "output_type": "execute_result"
    }
   ],
   "source": [
    "[(left, process.extractOne(left, UnmatchedRight)[0]) for left in UnmatchedLeft if left not in omitLeft]"
   ]
  },
  {
   "cell_type": "code",
   "execution_count": 194,
   "metadata": {},
   "outputs": [
    {
     "data": {
      "text/plain": [
       "{'Netherlands (the)': 'Netherlands',\n",
       " 'Taiwan (Province of China)': 'Taiwan',\n",
       " 'United Kingdom of Great Britain and Northern Ireland (the)': 'United Kingdom',\n",
       " 'Cabo Verde': 'Cape Verde',\n",
       " 'Philippines (the)': 'Philippines',\n",
       " 'Dominican Republic (the)': 'Dominican Republic',\n",
       " 'Moldova (the Republic of)': 'Moldova',\n",
       " 'Tanzania, the United Republic of': 'Tanzania',\n",
       " 'Bolivia (Plurinational State of)': 'Bolivia',\n",
       " 'Gambia (the)': 'Gambia',\n",
       " \"Côte d'Ivoire\": 'Ivory Coast',\n",
       " 'Palestine, State of': 'Palestine',\n",
       " 'Russian Federation (the)': 'Russia',\n",
       " 'Niger (the)': 'Niger',\n",
       " 'Comoros (the)': 'Comoros',\n",
       " 'Viet Nam': 'Vietnam',\n",
       " 'Venezuela (Bolivarian Republic of)': 'Venezuela',\n",
       " 'United Arab Emirates (the)': 'United Arab Emirates',\n",
       " 'Iran (Islamic Republic of)': 'Iran',\n",
       " 'Syrian Arab Republic (the)': 'Syria',\n",
       " 'Central African Republic (the)': 'Central African Republic',\n",
       " 'Congo (the Democratic Republic of the)': 'Democratic Republic of the Congo',\n",
       " \"Korea (the Democratic People's Republic of)\": 'North Korea'}"
      ]
     },
     "execution_count": 194,
     "metadata": {},
     "output_type": "execute_result"
    }
   ],
   "source": [
    "{process.extractOne(left, UnmatchedRight)[0]:left for left in UnmatchedLeft if left not in omitLeft}"
   ]
  },
  {
   "cell_type": "code",
   "execution_count": 195,
   "metadata": {},
   "outputs": [],
   "source": [
    "changesRight={process.extractOne(left, UnmatchedRight)[0]:left for left in UnmatchedLeft if left not in omitLeft}\n",
    "DataIso.Countryname.replace(changesRight,inplace=True)"
   ]
  },
  {
   "cell_type": "code",
   "execution_count": 196,
   "metadata": {},
   "outputs": [
    {
     "data": {
      "text/plain": [
       "both          161\n",
       "right_only     88\n",
       "left_only       6\n",
       "Name: True, dtype: int64"
      ]
     },
     "execution_count": 196,
     "metadata": {},
     "output_type": "execute_result"
    }
   ],
   "source": [
    "allDataFull=demoVars.merge(DataIso,left_on=\"Country\",right_on=\"Countryname\",how='outer',indicator='True')\n",
    "allDataFull['True'].value_counts()"
   ]
  },
  {
   "cell_type": "code",
   "execution_count": 197,
   "metadata": {},
   "outputs": [
    {
     "data": {
      "text/plain": [
       "['Åland Islands',\n",
       " 'American Samoa',\n",
       " 'Andorra',\n",
       " 'Anguilla',\n",
       " 'Antarctica',\n",
       " 'Antigua and Barbuda',\n",
       " 'Aruba',\n",
       " 'Bahamas (the)',\n",
       " 'Barbados',\n",
       " 'Belize',\n",
       " 'Bermuda',\n",
       " 'Bonaire\\xa0Sint Eustatius\\xa0Saba',\n",
       " 'Bouvet Island',\n",
       " 'British Indian Ocean Territory (the)',\n",
       " 'Brunei Darussalam',\n",
       " 'Cayman Islands (the)',\n",
       " 'Christmas Island',\n",
       " 'Cocos (Keeling) Islands (the)',\n",
       " 'Congo (the)',\n",
       " 'Cook Islands (the)',\n",
       " 'Curaçao',\n",
       " 'Czechia',\n",
       " 'Dominica',\n",
       " 'Falkland Islands (the)',\n",
       " 'Faroe Islands (the)',\n",
       " 'French Guiana',\n",
       " 'French Polynesia',\n",
       " 'French Southern Territories (the)',\n",
       " 'Gibraltar',\n",
       " 'Greenland',\n",
       " 'Grenada',\n",
       " 'Guadeloupe',\n",
       " 'Guam',\n",
       " 'Guernsey',\n",
       " 'Heard Island and McDonald Islands',\n",
       " 'Holy See (the)',\n",
       " 'Isle of Man',\n",
       " 'Jersey',\n",
       " 'Kiribati',\n",
       " 'Korea (the Republic of)',\n",
       " \"Lao People's Democratic Republic (the)\",\n",
       " 'Liechtenstein',\n",
       " 'Macao',\n",
       " 'Maldives',\n",
       " 'Marshall Islands (the)',\n",
       " 'Martinique',\n",
       " 'Mayotte',\n",
       " 'Micronesia (Federated States of)',\n",
       " 'Monaco',\n",
       " 'Montserrat',\n",
       " 'Nauru',\n",
       " 'New Caledonia',\n",
       " 'Niue',\n",
       " 'Norfolk Island',\n",
       " 'Northern Mariana Islands (the)',\n",
       " 'Palau',\n",
       " 'Pitcairn',\n",
       " 'Puerto Rico',\n",
       " 'Réunion',\n",
       " 'Saint Barthélemy',\n",
       " 'Saint Helena\\xa0Ascension Island\\xa0Tristan da Cunha',\n",
       " 'Saint Kitts and Nevis',\n",
       " 'Saint Lucia',\n",
       " 'Saint Martin (French part)',\n",
       " 'Saint Pierre and Miquelon',\n",
       " 'Saint Vincent and the Grenadines',\n",
       " 'Samoa',\n",
       " 'San Marino',\n",
       " 'Sao Tome and Principe',\n",
       " 'Seychelles',\n",
       " 'Sint Maarten (Dutch part)',\n",
       " 'Solomon Islands',\n",
       " 'Somalia',\n",
       " 'South Georgia and the South Sandwich Islands',\n",
       " 'South Sudan',\n",
       " 'Sudan (the)',\n",
       " 'Svalbard\\xa0Jan Mayen',\n",
       " 'Tokelau',\n",
       " 'Tonga',\n",
       " 'Turks and Caicos Islands (the)',\n",
       " 'Tuvalu',\n",
       " 'United States Minor Outlying Islands (the)',\n",
       " 'United States of America (the)',\n",
       " 'Vanuatu',\n",
       " 'Virgin Islands (British)',\n",
       " 'Virgin Islands (U.S.)',\n",
       " 'Wallis and Futuna',\n",
       " 'Western Sahara']"
      ]
     },
     "execution_count": 197,
     "metadata": {},
     "output_type": "execute_result"
    }
   ],
   "source": [
    "UnmatchedRight2=allDataFull[allDataFull['True']=='right_only'].Countryname.to_list()\n",
    "UnmatchedRight2"
   ]
  },
  {
   "cell_type": "code",
   "execution_count": 198,
   "metadata": {},
   "outputs": [
    {
     "data": {
      "text/plain": [
       "[('South Korea',\n",
       "  [('Korea (the Republic of)', 86),\n",
       "   ('South Georgia and the South Sandwich Islands', 86),\n",
       "   ('South Sudan', 64)]),\n",
       " ('United States',\n",
       "  [('United States Minor Outlying Islands (the)', 90),\n",
       "   ('United States of America (the)', 90),\n",
       "   ('Micronesia (Federated States of)', 86)]),\n",
       " ('Czech Republic',\n",
       "  [('Korea (the Republic of)', 86),\n",
       "   (\"Lao People's Democratic Republic (the)\", 86),\n",
       "   ('Czechia', 64)]),\n",
       " ('Republic of the Congo',\n",
       "  [('Bahamas (the)', 86),\n",
       "   ('British Indian Ocean Territory (the)', 86),\n",
       "   ('Congo (the)', 86)]),\n",
       " ('Sudan', [('South Sudan', 90), ('Sudan (the)', 90), ('Åland Islands', 54)]),\n",
       " ('Laos', [('Barbados', 68), ('Tokelau', 51), ('Åland Islands', 45)])]"
      ]
     },
     "execution_count": 198,
     "metadata": {},
     "output_type": "execute_result"
    }
   ],
   "source": [
    "[(left, process.extract(left, UnmatchedRight2,limit=3)) for left in omitLeft]"
   ]
  },
  {
   "cell_type": "code",
   "execution_count": 203,
   "metadata": {},
   "outputs": [],
   "source": [
    "lastChangesIso={'Korea (the Republic of)':'South Korea', \n",
    "                'United States of America (the)':'United States',\n",
    "                'Czechia':'Czech Republic', \n",
    "                'Congo (the)':'Republic of the Congo',\n",
    "                'Sudan (the)':'Sudan',\n",
    "                \"Lao People's Democratic Republic (the)\":'Laos'}\n"
   ]
  },
  {
   "cell_type": "code",
   "execution_count": 205,
   "metadata": {},
   "outputs": [
    {
     "data": {
      "text/plain": [
       "both          167\n",
       "right_only     82\n",
       "left_only       0\n",
       "Name: True, dtype: int64"
      ]
     },
     "execution_count": 205,
     "metadata": {},
     "output_type": "execute_result"
    }
   ],
   "source": [
    "DataIso.Countryname.replace(lastChangesIso,inplace=True)\n",
    "allDataFull=demoVars.merge(DataIso,left_on=\"Country\",right_on=\"Countryname\",how='outer',indicator='True')\n",
    "allDataFull['True'].value_counts()"
   ]
  },
  {
   "cell_type": "markdown",
   "metadata": {},
   "source": [
    "Notice that I included the argument **indicator=True**, which added a column telling if the row comes from both, or from the left or rigth data frame.\n",
    "\n",
    "### Looking for improvements after merging\n",
    "\n",
    "Let me pay attention to this result again:"
   ]
  },
  {
   "cell_type": "code",
   "execution_count": null,
   "metadata": {},
   "outputs": [],
   "source": []
  },
  {
   "cell_type": "code",
   "execution_count": null,
   "metadata": {},
   "outputs": [],
   "source": [
    "allRight=ciainter.merge(ciapop,left_on='Country',right_on='countries',how='left', indicator=True) \n",
    "allRight"
   ]
  },
  {
   "cell_type": "markdown",
   "metadata": {},
   "source": [
    "The previous result is different from this one:"
   ]
  },
  {
   "cell_type": "code",
   "execution_count": null,
   "metadata": {},
   "outputs": [],
   "source": [
    "ciainter.merge(ciapop,left_on='Country',right_on='countries')"
   ]
  },
  {
   "cell_type": "markdown",
   "metadata": {},
   "source": [
    "There is **one** row difference, let me see:"
   ]
  },
  {
   "cell_type": "code",
   "execution_count": null,
   "metadata": {},
   "outputs": [],
   "source": [
    "allRight[allRight._merge!='both']"
   ]
  },
  {
   "cell_type": "markdown",
   "metadata": {},
   "source": [
    "I have found the only country that is not present in 'ciapop'. Imagine you had **The Antarctica** in *ciapop*, you could replace it like this:"
   ]
  },
  {
   "cell_type": "code",
   "execution_count": null,
   "metadata": {},
   "outputs": [],
   "source": [
    "###dictionary of replacements:\n",
    "#replacementscia={'The Antarctica':'Antarctica'}\n",
    "\n",
    "### replacing\n",
    "#ciapop.countries.replace(replacementscia,inplace=True)"
   ]
  },
  {
   "cell_type": "markdown",
   "metadata": {},
   "source": [
    "...and you will need to redo the merge.\n",
    "\n",
    "Let me keep the **allRight** dataframe, erasing the irrelevant columns and rows:"
   ]
  },
  {
   "cell_type": "code",
   "execution_count": null,
   "metadata": {},
   "outputs": [],
   "source": [
    "# dropping columns\n",
    "byeCols=['countries','_merge']\n",
    "allRight.drop(columns=byeCols,inplace=True)"
   ]
  },
  {
   "cell_type": "code",
   "execution_count": null,
   "metadata": {},
   "outputs": [],
   "source": [
    "# dropping rows\n",
    "byeRows=[217]\n",
    "allRight.drop(index=byeRows,inplace=True)"
   ]
  },
  {
   "cell_type": "code",
   "execution_count": null,
   "metadata": {},
   "outputs": [],
   "source": [
    "When you erase "
   ]
  },
  {
   "cell_type": "markdown",
   "metadata": {},
   "source": [
    "____\n",
    "____\n",
    "\n",
    "\n",
    "### <font color=\"red\">Saving File to Disk</font>"
   ]
  },
  {
   "cell_type": "markdown",
   "metadata": {},
   "source": [
    "#### For future use in Python:"
   ]
  },
  {
   "cell_type": "code",
   "execution_count": null,
   "metadata": {},
   "outputs": [],
   "source": [
    "allRight.to_pickle(\"allRight.pkl\")\n",
    "# you will need: DF=pd.read_pickle(\"interhdi.pkl\")\n",
    "# or:\n",
    "# from urllib.request import urlopen\n",
    "# DF=pd.read_pickle(urlopen(\"https://..../interhdi.pkl\"),compression=None)"
   ]
  },
  {
   "cell_type": "markdown",
   "metadata": {},
   "source": [
    "#### For future  use in R:"
   ]
  },
  {
   "cell_type": "code",
   "execution_count": null,
   "metadata": {},
   "outputs": [],
   "source": [
    "from rpy2.robjects import pandas2ri\n",
    "pandas2ri.activate()\n",
    "\n",
    "from rpy2.robjects.packages import importr\n",
    "\n",
    "base = importr('base')\n",
    "base.saveRDS(allRight,file=\"allRight.RDS\")\n",
    "\n",
    "#In R, you call it with: DF = readRDS(\"interhdi.RDS\")\n",
    "#or, if iyou read from cloud: DF = readRDS(url(\"https://..../interhdi.RDS\")"
   ]
  },
  {
   "cell_type": "markdown",
   "metadata": {},
   "source": [
    "## RESHAPING\n",
    "\n",
    "### Wide and Long format\n",
    "\n",
    "The current format of **allRight** is known as the **WIDE** format. In this format, the variables are in every column, the most traditional one for spreadsheet users. Several functions are ready to use this format, for example:"
   ]
  },
  {
   "cell_type": "code",
   "execution_count": null,
   "metadata": {},
   "outputs": [],
   "source": [
    "# A scatter plot\n",
    "allRight.plot.scatter(x='intusers', y='pob',grid=True)"
   ]
  },
  {
   "cell_type": "code",
   "execution_count": null,
   "metadata": {},
   "outputs": [],
   "source": [
    "# a boxplot\n",
    "allRight.loc[:,['intusers','pob']].boxplot(vert=False,figsize=(15,5),grid=False)"
   ]
  },
  {
   "cell_type": "markdown",
   "metadata": {},
   "source": [
    "However, the wide format may be less efficient for some packages:"
   ]
  },
  {
   "cell_type": "code",
   "execution_count": null,
   "metadata": {},
   "outputs": [],
   "source": [
    "#!pip install plotnine"
   ]
  },
  {
   "cell_type": "code",
   "execution_count": null,
   "metadata": {},
   "outputs": [],
   "source": [
    "import plotnine as p9\n",
    "\n",
    "base=p9.ggplot(data=allRight)\n",
    "base + p9.geom_boxplot(p9.aes(x=1,y='intusers')) + p9.geom_boxplot(p9.aes(x=2,y='pob'))"
   ]
  },
  {
   "cell_type": "markdown",
   "metadata": {},
   "source": [
    "Let's see the **LONG** format:"
   ]
  },
  {
   "cell_type": "code",
   "execution_count": null,
   "metadata": {},
   "outputs": [],
   "source": [
    "allRight.melt(id_vars=['Country'])"
   ]
  },
  {
   "cell_type": "markdown",
   "metadata": {},
   "source": [
    "The amount of of rows multiplies, but **all** the variables in the wide format will use only **TWO** columns in the wide format (in its basic form). Notice the difference in this code:"
   ]
  },
  {
   "cell_type": "code",
   "execution_count": null,
   "metadata": {},
   "outputs": [],
   "source": [
    "allRightLONG=allRight.melt(id_vars=['Country'])\n",
    "base=p9.ggplot(data=allRightLONG)\n",
    "base + p9.geom_boxplot(p9.aes(x='variable',y='value'))"
   ]
  },
  {
   "cell_type": "markdown",
   "metadata": {},
   "source": [
    "### Transposing"
   ]
  },
  {
   "cell_type": "markdown",
   "metadata": {},
   "source": [
    "We have two data sets on information about race, one for California and one for Washington State. These are the links:"
   ]
  },
  {
   "cell_type": "code",
   "execution_count": null,
   "metadata": {},
   "outputs": [],
   "source": [
    "# California link\n",
    "linkCa='https://github.com/EvansDataScience/data/raw/master/CaliforniaRace.xlsx'\n",
    "\n",
    "# Washington link\n",
    "linkWa='https://github.com/EvansDataScience/data/raw/master/WAraceinfo.xlsx'"
   ]
  },
  {
   "cell_type": "markdown",
   "metadata": {},
   "source": [
    "You can realize from the links that both data are in Excel format ( _xlsx_ ). Let's fetch them:"
   ]
  },
  {
   "cell_type": "code",
   "execution_count": null,
   "metadata": {},
   "outputs": [],
   "source": [
    "raceca=pd.read_excel(linkCa,0) # first sheet\n",
    "racewa=pd.read_excel(linkWa,1) # second sheet"
   ]
  },
  {
   "cell_type": "markdown",
   "metadata": {},
   "source": [
    "Let me see what **racewa** has:"
   ]
  },
  {
   "cell_type": "code",
   "execution_count": null,
   "metadata": {},
   "outputs": [],
   "source": [
    "racewa"
   ]
  },
  {
   "cell_type": "markdown",
   "metadata": {},
   "source": [
    "The rows give you information on geographical units (the **unit of analysis** is the county). It apparently starts with information of the whole state (Washington), and then county by county. Notice that units of analysis repeat by group age and by year."
   ]
  },
  {
   "cell_type": "markdown",
   "metadata": {},
   "source": [
    "Now, let's see what **raceca** has:"
   ]
  },
  {
   "cell_type": "code",
   "execution_count": null,
   "metadata": {},
   "outputs": [],
   "source": [
    "raceca"
   ]
  },
  {
   "cell_type": "markdown",
   "metadata": {},
   "source": [
    "Notice that the data from California speaks of the same, but the **units of analysis** (counties) appear in the columns. Notice that while WA State only shows counts, CA State also shows percentages. \n",
    "\n",
    "The data from WA State is a standard format for data frames, while the one in CA State is not. However, a simple operation known as **transposing** will solve the situation:"
   ]
  },
  {
   "cell_type": "code",
   "execution_count": null,
   "metadata": {},
   "outputs": [],
   "source": [
    "raceca.transpose()"
   ]
  },
  {
   "cell_type": "code",
   "execution_count": null,
   "metadata": {},
   "outputs": [],
   "source": [
    "# Let's make the changes:\n",
    "raceca=raceca.transpose()"
   ]
  },
  {
   "cell_type": "markdown",
   "metadata": {},
   "source": [
    "The transposed data frame requires several cleaning steps:\n",
    "\n",
    "* Move first row as column names:"
   ]
  },
  {
   "cell_type": "code",
   "execution_count": null,
   "metadata": {},
   "outputs": [],
   "source": [
    "# first row, where the columns names are.\n",
    "raceca.columns=raceca.iloc[0,:].to_list()"
   ]
  },
  {
   "cell_type": "markdown",
   "metadata": {},
   "source": [
    "* Delete first row:"
   ]
  },
  {
   "cell_type": "code",
   "execution_count": null,
   "metadata": {},
   "outputs": [],
   "source": [
    "raceca.head()"
   ]
  },
  {
   "cell_type": "code",
   "execution_count": null,
   "metadata": {},
   "outputs": [],
   "source": [
    "# dropping first row effective immediatly\n",
    "raceca.drop(index='Unnamed: 0',inplace=True)"
   ]
  },
  {
   "cell_type": "markdown",
   "metadata": {},
   "source": [
    "* Keep the columns about **race**:"
   ]
  },
  {
   "cell_type": "code",
   "execution_count": null,
   "metadata": {},
   "outputs": [],
   "source": [
    "# finding positions:\n",
    "list(enumerate(raceca.columns))"
   ]
  },
  {
   "cell_type": "code",
   "execution_count": null,
   "metadata": {},
   "outputs": [],
   "source": [
    "# values needed:\n",
    "[0]+ list(range(23,31))"
   ]
  },
  {
   "cell_type": "code",
   "execution_count": null,
   "metadata": {},
   "outputs": [],
   "source": [
    "# keeping the ones I want:\n",
    "raceca=raceca.iloc[:,[0]+ list(range(23,31))]\n",
    "raceca"
   ]
  },
  {
   "cell_type": "markdown",
   "metadata": {},
   "source": [
    "* Drop rows with missing values:"
   ]
  },
  {
   "cell_type": "code",
   "execution_count": null,
   "metadata": {},
   "outputs": [],
   "source": [
    "raceca.dropna(subset=['Statistics'],inplace=True)"
   ]
  },
  {
   "cell_type": "markdown",
   "metadata": {},
   "source": [
    "When we drop rows, we reset indexes:"
   ]
  },
  {
   "cell_type": "code",
   "execution_count": null,
   "metadata": {},
   "outputs": [],
   "source": [
    "raceca.reset_index(drop=True,inplace=True)"
   ]
  },
  {
   "cell_type": "code",
   "execution_count": null,
   "metadata": {},
   "outputs": [],
   "source": [
    "# currently\n",
    "raceca"
   ]
  },
  {
   "cell_type": "markdown",
   "metadata": {},
   "source": [
    "This is a much  simpler data frame. "
   ]
  },
  {
   "cell_type": "markdown",
   "metadata": {},
   "source": [
    "### Aggregating"
   ]
  },
  {
   "cell_type": "markdown",
   "metadata": {},
   "source": [
    "The data from WA State has data from different years, while the one from CA is just from 2019. Let's keep that year for WA:"
   ]
  },
  {
   "cell_type": "code",
   "execution_count": null,
   "metadata": {},
   "outputs": [],
   "source": [
    "racewa.query('Year==2019',inplace=True)"
   ]
  },
  {
   "cell_type": "markdown",
   "metadata": {},
   "source": [
    "Now you have:"
   ]
  },
  {
   "cell_type": "code",
   "execution_count": null,
   "metadata": {},
   "outputs": [],
   "source": [
    "racewa"
   ]
  },
  {
   "cell_type": "markdown",
   "metadata": {},
   "source": [
    "Notice that the data is organized by age in WA:"
   ]
  },
  {
   "cell_type": "code",
   "execution_count": null,
   "metadata": {},
   "outputs": [],
   "source": [
    "racewa['Age Group'].to_list()"
   ]
  },
  {
   "cell_type": "markdown",
   "metadata": {},
   "source": [
    "There is a **Total** in **Age Group** that I will not use (that  makes this work simpler)."
   ]
  },
  {
   "cell_type": "code",
   "execution_count": null,
   "metadata": {},
   "outputs": [],
   "source": [
    "racewa=racewa[racewa['Age Group']!='Total']\n",
    "racewa"
   ]
  },
  {
   "cell_type": "markdown",
   "metadata": {},
   "source": [
    "The ages are organized in intervals, let's keep the consecutive ones:"
   ]
  },
  {
   "cell_type": "code",
   "execution_count": null,
   "metadata": {},
   "outputs": [],
   "source": [
    "stay=['0-19', '20-64', '65+']\n",
    "\n",
    "racewa=racewa[racewa['Age Group'].isin(stay)]\n",
    "racewa"
   ]
  },
  {
   "cell_type": "markdown",
   "metadata": {},
   "source": [
    "* We should keep the values that do not include '__Washington__'"
   ]
  },
  {
   "cell_type": "code",
   "execution_count": null,
   "metadata": {},
   "outputs": [],
   "source": [
    "racewa=racewa[racewa[\"Area Name\"]!='Washington']\n",
    "racewa"
   ]
  },
  {
   "cell_type": "markdown",
   "metadata": {},
   "source": [
    "The **aggregation** is used when you need to colapse rows. You can use different function for collapsing, in this case we will **sum** within each county, so I can get a total per county:"
   ]
  },
  {
   "cell_type": "code",
   "execution_count": null,
   "metadata": {},
   "outputs": [],
   "source": [
    "racewa=racewa.groupby(['Area Name','Area ID','Year']).sum()\n",
    "racewa"
   ]
  },
  {
   "cell_type": "markdown",
   "metadata": {},
   "source": [
    "The **Age Group** is not used in the aggreting function **groupby()**, but it is the only **non-numeric**  columns that is not used in this function. Notice that **Age Group** values have been concatenated, and the grouping variables are the **indexes** (row names).\n",
    "\n",
    "You can drop the age group now:"
   ]
  },
  {
   "cell_type": "code",
   "execution_count": null,
   "metadata": {},
   "outputs": [],
   "source": [
    "racewa.drop(columns=['Age Group'],inplace=True)\n",
    "racewa"
   ]
  },
  {
   "cell_type": "markdown",
   "metadata": {},
   "source": [
    "### Appending"
   ]
  },
  {
   "cell_type": "markdown",
   "metadata": {},
   "source": [
    "The units of analysis in both data frames are the same kind (counties) but they data from one data frame will not be a column for the other. In this situation, you do not **merge**, you **append**.\n",
    "\n",
    "The condition for appending is that both data frame have the same colum names. Let's see:"
   ]
  },
  {
   "cell_type": "code",
   "execution_count": null,
   "metadata": {},
   "outputs": [],
   "source": [
    "raceca.columns"
   ]
  },
  {
   "cell_type": "code",
   "execution_count": null,
   "metadata": {},
   "outputs": [],
   "source": [
    "racewa.columns"
   ]
  },
  {
   "cell_type": "markdown",
   "metadata": {},
   "source": [
    "The column 'Some Other Race Alone' in **raceca** has no similar value in **racewa**. Let's drop it:"
   ]
  },
  {
   "cell_type": "code",
   "execution_count": null,
   "metadata": {},
   "outputs": [],
   "source": [
    "raceca.drop(columns=['Some Other Race Alone'],inplace=True)"
   ]
  },
  {
   "cell_type": "markdown",
   "metadata": {},
   "source": [
    "The columns in WA State have values for male and female. Since CA State do not have that, we have to get rid of those:"
   ]
  },
  {
   "cell_type": "code",
   "execution_count": null,
   "metadata": {},
   "outputs": [],
   "source": [
    "# good names\n",
    "[name for name in racewa.columns if 'Total' in name]"
   ]
  },
  {
   "cell_type": "code",
   "execution_count": null,
   "metadata": {},
   "outputs": [],
   "source": [
    "# then\n",
    "racewa=racewa.loc[:,[name for name in racewa.columns if 'Total' in name]]\n",
    "racewa"
   ]
  },
  {
   "cell_type": "markdown",
   "metadata": {},
   "source": [
    "We need to reciver the county names in racewa. They are part of the indexes. Let me use the **reset_index** funtion, but using the argument **drop=False**:"
   ]
  },
  {
   "cell_type": "code",
   "execution_count": null,
   "metadata": {},
   "outputs": [],
   "source": [
    "racewa.reset_index(drop=False,inplace=True)"
   ]
  },
  {
   "cell_type": "code",
   "execution_count": null,
   "metadata": {},
   "outputs": [],
   "source": [
    "# you have\n",
    "racewa"
   ]
  },
  {
   "cell_type": "markdown",
   "metadata": {},
   "source": [
    "The columns \"Area ID\" and \"Year\" are not present in raceca, we should drop them:"
   ]
  },
  {
   "cell_type": "code",
   "execution_count": null,
   "metadata": {},
   "outputs": [],
   "source": [
    "racewa.drop(columns=[\"Area ID\", \"Year\"],inplace=True)\n",
    "racewa"
   ]
  },
  {
   "cell_type": "markdown",
   "metadata": {},
   "source": [
    "Let's see the names of both:"
   ]
  },
  {
   "cell_type": "code",
   "execution_count": null,
   "metadata": {},
   "outputs": [],
   "source": [
    "dict(zip(raceca.columns,racewa.columns))"
   ]
  },
  {
   "cell_type": "markdown",
   "metadata": {},
   "source": [
    "You can use that dictionary to alter the names in raceca:\n",
    "    "
   ]
  },
  {
   "cell_type": "code",
   "execution_count": null,
   "metadata": {},
   "outputs": [],
   "source": [
    "raceca.rename(columns=dict(zip(raceca.columns,racewa.columns)),inplace=True)\n",
    "raceca"
   ]
  },
  {
   "cell_type": "markdown",
   "metadata": {},
   "source": [
    "The **raceca** has the word \"California\"; since you are combining data from different states, it is better you keep that info:"
   ]
  },
  {
   "cell_type": "code",
   "execution_count": null,
   "metadata": {},
   "outputs": [],
   "source": [
    "# using 'expand'\n",
    "raceca['Area Name'].str.split(pat=\", \",expand=True)"
   ]
  },
  {
   "cell_type": "markdown",
   "metadata": {},
   "source": [
    "The fucntion **str.split** creates two columns, let me save them here:"
   ]
  },
  {
   "cell_type": "code",
   "execution_count": null,
   "metadata": {},
   "outputs": [],
   "source": [
    "twoCols=raceca['Area Name'].str.split(pat=\", \",expand=True)\n",
    "twoCols"
   ]
  },
  {
   "cell_type": "markdown",
   "metadata": {},
   "source": [
    "Use the columns to replace other columns:"
   ]
  },
  {
   "cell_type": "code",
   "execution_count": null,
   "metadata": {},
   "outputs": [],
   "source": [
    "raceca['Area Name']=twoCols[0]\n",
    "raceca['State']=twoCols[1]"
   ]
  },
  {
   "cell_type": "code",
   "execution_count": null,
   "metadata": {},
   "outputs": [],
   "source": [
    "# we have\n",
    "raceca"
   ]
  },
  {
   "cell_type": "markdown",
   "metadata": {},
   "source": [
    "Let's drop the las row (the 'TOTAL'):"
   ]
  },
  {
   "cell_type": "code",
   "execution_count": null,
   "metadata": {},
   "outputs": [],
   "source": [
    "raceca.drop(index=[41],axis=0,inplace=True)"
   ]
  },
  {
   "cell_type": "markdown",
   "metadata": {},
   "source": [
    "You can get rid of the 'County' string:"
   ]
  },
  {
   "cell_type": "code",
   "execution_count": null,
   "metadata": {},
   "outputs": [],
   "source": [
    "raceca['Area Name']=raceca['Area Name'].str.replace(\" County\",\"\")\n",
    "raceca"
   ]
  },
  {
   "cell_type": "markdown",
   "metadata": {},
   "source": [
    "The data frame  **racewa** does not have a \"State\" column, let me create it:"
   ]
  },
  {
   "cell_type": "code",
   "execution_count": null,
   "metadata": {},
   "outputs": [],
   "source": [
    "racewa['State']='Washington'"
   ]
  },
  {
   "cell_type": "markdown",
   "metadata": {},
   "source": [
    "Let's check the coincidences in  the column names:"
   ]
  },
  {
   "cell_type": "code",
   "execution_count": null,
   "metadata": {},
   "outputs": [],
   "source": [
    "racewa.columns==raceca.columns"
   ]
  },
  {
   "cell_type": "markdown",
   "metadata": {},
   "source": [
    "Now we can append:"
   ]
  },
  {
   "cell_type": "code",
   "execution_count": null,
   "metadata": {},
   "outputs": [],
   "source": [
    "racewaca=racewa.append(raceca, ignore_index=True)\n",
    "racewaca"
   ]
  },
  {
   "cell_type": "markdown",
   "metadata": {},
   "source": [
    "Let's check the data types:"
   ]
  },
  {
   "cell_type": "code",
   "execution_count": null,
   "metadata": {},
   "outputs": [],
   "source": [
    "#checking\n",
    "racewaca.info()"
   ]
  },
  {
   "cell_type": "markdown",
   "metadata": {},
   "source": [
    "There are several columns that are numeric, but they have the wrong Dtype. Let's solve this:"
   ]
  },
  {
   "cell_type": "code",
   "execution_count": null,
   "metadata": {},
   "outputs": [],
   "source": [
    "# this require formatting\n",
    "racewaca[racewaca.columns[1:-1]]"
   ]
  },
  {
   "cell_type": "code",
   "execution_count": null,
   "metadata": {},
   "outputs": [],
   "source": [
    "# let's do it:\n",
    "\n",
    "racewaca[racewaca.columns[1:-1]]=racewaca[racewaca.columns[1:-1]].astype('float')"
   ]
  },
  {
   "cell_type": "code",
   "execution_count": null,
   "metadata": {},
   "outputs": [],
   "source": [
    "# checking\n",
    "racewaca.info()"
   ]
  }
 ],
 "metadata": {
  "hide_input": false,
  "kernelspec": {
   "display_name": "Python 3",
   "language": "python",
   "name": "python3"
  },
  "language_info": {
   "codemirror_mode": {
    "name": "ipython",
    "version": 3
   },
   "file_extension": ".py",
   "mimetype": "text/x-python",
   "name": "python",
   "nbconvert_exporter": "python",
   "pygments_lexer": "ipython3",
   "version": "3.7.5"
  }
 },
 "nbformat": 4,
 "nbformat_minor": 2
}
