{
 "cells": [
  {
   "cell_type": "code",
   "execution_count": null,
   "id": "aboriginal-anchor",
   "metadata": {},
   "outputs": [],
   "source": [
    "link3=\"https://en.wikipedia.org/wiki/List_of_countries_and_dependencies_by_population\"\n",
    "data3=pd.read_html(link3,header=0,flavor=\"bs4\",attrs={'class':\"wikitable sortable\"})"
   ]
  },
  {
   "cell_type": "code",
   "execution_count": null,
   "id": "civil-launch",
   "metadata": {},
   "outputs": [],
   "source": [
    "regiondata=data3[0].copy()\n",
    "regiondata.head()"
   ]
  },
  {
   "cell_type": "code",
   "execution_count": null,
   "id": "contemporary-payday",
   "metadata": {},
   "outputs": [],
   "source": [
    "WhichToDrop=list(set(range(8))-set([1,2]))\n",
    "WhichToDrop"
   ]
  },
  {
   "cell_type": "code",
   "execution_count": null,
   "id": "lesser-truck",
   "metadata": {},
   "outputs": [],
   "source": [
    "regiondata.drop(labels=regiondata.columns[WhichToDrop],axis=1,inplace=True)\n",
    "regiondata"
   ]
  },
  {
   "cell_type": "code",
   "execution_count": null,
   "id": "military-speech",
   "metadata": {},
   "outputs": [],
   "source": [
    "regiondata.Region.value_counts()"
   ]
  },
  {
   "cell_type": "code",
   "execution_count": null,
   "id": "finnish-block",
   "metadata": {},
   "outputs": [],
   "source": [
    "regiondata=regiondata[regiondata.Region!=\"World\"]\n",
    "regiondata.reset_index(drop=True,inplace=True)\n",
    "regiondata"
   ]
  },
  {
   "cell_type": "code",
   "execution_count": null,
   "id": "pointed-pakistan",
   "metadata": {},
   "outputs": [],
   "source": [
    "regiondata.columns=[\"Country\",\"Region\"]"
   ]
  },
  {
   "cell_type": "code",
   "execution_count": null,
   "id": "known-round",
   "metadata": {},
   "outputs": [],
   "source": [
    "regiondata[regiondata[\"Country\"].str.endswith(\"]\")]"
   ]
  },
  {
   "cell_type": "code",
   "execution_count": null,
   "id": "unlike-alias",
   "metadata": {},
   "outputs": [],
   "source": [
    "regiondata.Country=regiondata.Country.str.replace(\"\\\\[.+?\\\\]\",\"\",regex=True)"
   ]
  },
  {
   "cell_type": "code",
   "execution_count": null,
   "id": "sacred-suggestion",
   "metadata": {},
   "outputs": [],
   "source": [
    "regiondata[['Country', 'CountryMain']] = regiondata['Country'].str.split('(', 1, expand=True)"
   ]
  },
  {
   "cell_type": "code",
   "execution_count": null,
   "id": "burning-category",
   "metadata": {},
   "outputs": [],
   "source": [
    "#regiondata[regiondata.CountryMain]\n",
    "regiondata[~pd.isna(regiondata.CountryMain)]"
   ]
  },
  {
   "cell_type": "code",
   "execution_count": null,
   "id": "capable-gabriel",
   "metadata": {},
   "outputs": [],
   "source": [
    "regiondata.CountryMain=regiondata.CountryMain.str.replace(\")\",\"\",regex=False)"
   ]
  },
  {
   "cell_type": "code",
   "execution_count": null,
   "id": "egyptian-retreat",
   "metadata": {},
   "outputs": [],
   "source": [
    "regiondata"
   ]
  },
  {
   "cell_type": "code",
   "execution_count": null,
   "id": "important-center",
   "metadata": {},
   "outputs": [],
   "source": [
    "regiondata.loc[239,\"Country\"]=\"Cocos Islands\""
   ]
  },
  {
   "cell_type": "code",
   "execution_count": null,
   "id": "going-diagnosis",
   "metadata": {},
   "outputs": [],
   "source": [
    "regiondata.iloc[239,0]"
   ]
  },
  {
   "cell_type": "code",
   "execution_count": null,
   "id": "utility-hostel",
   "metadata": {},
   "outputs": [],
   "source": [
    "regiondata.loc[239,\"CountryMain\"]=\"Australia\""
   ]
  },
  {
   "cell_type": "code",
   "execution_count": null,
   "id": "adopted-quantity",
   "metadata": {},
   "outputs": [],
   "source": [
    "regiondata.iloc[239,2]"
   ]
  },
  {
   "cell_type": "code",
   "execution_count": null,
   "id": "constitutional-inspiration",
   "metadata": {},
   "outputs": [],
   "source": [
    "regiondata.loc[229,\"Country\"]"
   ]
  },
  {
   "cell_type": "code",
   "execution_count": null,
   "id": "freelance-tattoo",
   "metadata": {},
   "outputs": [],
   "source": [
    "regiondata=regiondata.apply(lambda x: x.str.strip())"
   ]
  },
  {
   "cell_type": "code",
   "execution_count": null,
   "id": "black-anxiety",
   "metadata": {},
   "outputs": [],
   "source": [
    "regiondata.loc[236,\"Country\"]"
   ]
  },
  {
   "cell_type": "code",
   "execution_count": null,
   "id": "incomplete-milton",
   "metadata": {},
   "outputs": [],
   "source": [
    "regiondata.to_csv(\"regiondata.csv\",index=False)"
   ]
  },
  {
   "cell_type": "code",
   "execution_count": null,
   "id": "arctic-member",
   "metadata": {},
   "outputs": [],
   "source": []
  }
 ],
 "metadata": {
  "hide_input": false,
  "kernelspec": {
   "display_name": "Python 3",
   "language": "python",
   "name": "python3"
  },
  "language_info": {
   "codemirror_mode": {
    "name": "ipython",
    "version": 3
   },
   "file_extension": ".py",
   "mimetype": "text/x-python",
   "name": "python",
   "nbconvert_exporter": "python",
   "pygments_lexer": "ipython3",
   "version": "3.7.5"
  }
 },
 "nbformat": 4,
 "nbformat_minor": 5
}
