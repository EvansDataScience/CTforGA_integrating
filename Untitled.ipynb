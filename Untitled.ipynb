{
 "cells": [
  {
   "cell_type": "code",
   "execution_count": 6,
   "id": "senior-scientist",
   "metadata": {},
   "outputs": [],
   "source": [
    "original=[2011,2019,2020]\n",
    "text='CO2_'"
   ]
  },
  {
   "cell_type": "code",
   "execution_count": 7,
   "id": "sporting-tactics",
   "metadata": {},
   "outputs": [
    {
     "data": {
      "text/plain": [
       "['CO2_2011', 'CO2_2019', 'CO2_2020']"
      ]
     },
     "execution_count": 7,
     "metadata": {},
     "output_type": "execute_result"
    }
   ],
   "source": [
    "[text+str(y) for y in original]"
   ]
  },
  {
   "cell_type": "code",
   "execution_count": null,
   "id": "second-anderson",
   "metadata": {},
   "outputs": [],
   "source": []
  }
 ],
 "metadata": {
  "hide_input": false,
  "kernelspec": {
   "display_name": "Python 3",
   "language": "python",
   "name": "python3"
  },
  "language_info": {
   "codemirror_mode": {
    "name": "ipython",
    "version": 3
   },
   "file_extension": ".py",
   "mimetype": "text/x-python",
   "name": "python",
   "nbconvert_exporter": "python",
   "pygments_lexer": "ipython3",
   "version": "3.7.5"
  }
 },
 "nbformat": 4,
 "nbformat_minor": 5
}
