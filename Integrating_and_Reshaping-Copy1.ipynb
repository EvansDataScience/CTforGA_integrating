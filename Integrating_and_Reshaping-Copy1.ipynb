{
 "cells": [
  {
   "cell_type": "markdown",
   "metadata": {},
   "source": [
    "<center><img src=\"http://i.imgur.com/sSaOozN.png\" width=\"500\"></center>\n",
    "\n",
    "## Course: Computational Thinking for Governance Analytics\n",
    "\n",
    "### Prof. José Manuel Magallanes, PhD \n",
    "* Visiting Professor of Computational Policy at Evans School of Public Policy and Governance, and eScience Institute Senior Data Science Fellow, University of Washington.\n",
    "* Professor of Government and Political Methodology, Pontificia Universidad Católica del Perú. \n",
    "\n",
    "_____\n",
    "\n",
    "# Data Preprocessing in Python: Data Integration and Reshaping"
   ]
  },
  {
   "cell_type": "markdown",
   "metadata": {},
   "source": [
    "By now, we  know how to collect data from different places, and clean/format them as needed. While the cleaning and formatting is done for each data source, we finally need to integrate all the sources into one to start the real analytical work. Let's get the data on [democracy index](https://en.wikipedia.org/wiki/Democracy_Index) by _The Economist_:"
   ]
  },
  {
   "cell_type": "code",
   "execution_count": 1,
   "metadata": {},
   "outputs": [],
   "source": [
    "# importing pandas for the notebook\n",
    "import pandas as pd\n",
    "\n",
    "#link for the tables\n",
    "demoLink=\"https://en.wikipedia.org/wiki/Democracy_Index\"\n",
    "\n",
    "# fetching the tables\n",
    "demodata=pd.read_html(demoLink,header=0,flavor=\"bs4\",attrs={'class':\"wikitable sortable\"})"
   ]
  },
  {
   "cell_type": "markdown",
   "metadata": {},
   "source": [
    "You should remember by now that **demodata** is a _list_ of all the sortable tables from that URL. Let me recover the one we want:"
   ]
  },
  {
   "cell_type": "code",
   "execution_count": 2,
   "metadata": {},
   "outputs": [],
   "source": [
    "demoVars=demodata[4].copy()"
   ]
  },
  {
   "cell_type": "markdown",
   "metadata": {},
   "source": [
    "In this last session on Python, we want to prepare data on the world countries and their level of democracy. I will add some variables from other tables to this one later. Take a look at what you have now:"
   ]
  },
  {
   "cell_type": "code",
   "execution_count": 3,
   "metadata": {},
   "outputs": [
    {
     "data": {
      "text/html": [
       "<div>\n",
       "<style scoped>\n",
       "    .dataframe tbody tr th:only-of-type {\n",
       "        vertical-align: middle;\n",
       "    }\n",
       "\n",
       "    .dataframe tbody tr th {\n",
       "        vertical-align: top;\n",
       "    }\n",
       "\n",
       "    .dataframe thead th {\n",
       "        text-align: right;\n",
       "    }\n",
       "</style>\n",
       "<table border=\"1\" class=\"dataframe\">\n",
       "  <thead>\n",
       "    <tr style=\"text-align: right;\">\n",
       "      <th></th>\n",
       "      <th>Rank</th>\n",
       "      <th>.mw-parser-output .tooltip-dotted{border-bottom:1px dotted;cursor:help}Δ Rank</th>\n",
       "      <th>Country</th>\n",
       "      <th>Regime type</th>\n",
       "      <th>Overall score</th>\n",
       "      <th>Δ Score</th>\n",
       "      <th>Elec­toral pro­cess and plura­lism</th>\n",
       "      <th>Func­tioning of govern­ment</th>\n",
       "      <th>Poli­tical partici­pation</th>\n",
       "      <th>Poli­tical cul­ture</th>\n",
       "      <th>Civil liber­ties</th>\n",
       "    </tr>\n",
       "  </thead>\n",
       "  <tbody>\n",
       "    <tr>\n",
       "      <th>0</th>\n",
       "      <td>Full democracies</td>\n",
       "      <td>Full democracies</td>\n",
       "      <td>Full democracies</td>\n",
       "      <td>Full democracies</td>\n",
       "      <td>Full democracies</td>\n",
       "      <td>Full democracies</td>\n",
       "      <td>Full democracies</td>\n",
       "      <td>Full democracies</td>\n",
       "      <td>Full democracies</td>\n",
       "      <td>Full democracies</td>\n",
       "      <td>Full democracies</td>\n",
       "    </tr>\n",
       "    <tr>\n",
       "      <th>1</th>\n",
       "      <td>1</td>\n",
       "      <td>NaN</td>\n",
       "      <td>Norway</td>\n",
       "      <td>Full democracy</td>\n",
       "      <td>9.81</td>\n",
       "      <td>0.06</td>\n",
       "      <td>10.00</td>\n",
       "      <td>9.64</td>\n",
       "      <td>10.00</td>\n",
       "      <td>10.00</td>\n",
       "      <td>9.41</td>\n",
       "    </tr>\n",
       "    <tr>\n",
       "      <th>2</th>\n",
       "      <td>2</td>\n",
       "      <td>NaN</td>\n",
       "      <td>Iceland</td>\n",
       "      <td>Full democracy</td>\n",
       "      <td>9.37</td>\n",
       "      <td>0.21</td>\n",
       "      <td>10.00</td>\n",
       "      <td>8.57</td>\n",
       "      <td>8.89</td>\n",
       "      <td>10.00</td>\n",
       "      <td>9.41</td>\n",
       "    </tr>\n",
       "    <tr>\n",
       "      <th>3</th>\n",
       "      <td>3</td>\n",
       "      <td>NaN</td>\n",
       "      <td>Sweden</td>\n",
       "      <td>Full democracy</td>\n",
       "      <td>9.26</td>\n",
       "      <td>0.13</td>\n",
       "      <td>9.58</td>\n",
       "      <td>9.29</td>\n",
       "      <td>8.33</td>\n",
       "      <td>10.00</td>\n",
       "      <td>9.12</td>\n",
       "    </tr>\n",
       "    <tr>\n",
       "      <th>4</th>\n",
       "      <td>4</td>\n",
       "      <td>NaN</td>\n",
       "      <td>New Zealand</td>\n",
       "      <td>Full democracy</td>\n",
       "      <td>9.25</td>\n",
       "      <td>0.01</td>\n",
       "      <td>10.00</td>\n",
       "      <td>8.93</td>\n",
       "      <td>8.89</td>\n",
       "      <td>8.75</td>\n",
       "      <td>9.71</td>\n",
       "    </tr>\n",
       "  </tbody>\n",
       "</table>\n",
       "</div>"
      ],
      "text/plain": [
       "               Rank  \\\n",
       "0  Full democracies   \n",
       "1                 1   \n",
       "2                 2   \n",
       "3                 3   \n",
       "4                 4   \n",
       "\n",
       "  .mw-parser-output .tooltip-dotted{border-bottom:1px dotted;cursor:help}Δ Rank  \\\n",
       "0                                   Full democracies                              \n",
       "1                                                NaN                              \n",
       "2                                                NaN                              \n",
       "3                                                NaN                              \n",
       "4                                                NaN                              \n",
       "\n",
       "            Country       Regime type     Overall score           Δ Score  \\\n",
       "0  Full democracies  Full democracies  Full democracies  Full democracies   \n",
       "1            Norway    Full democracy              9.81              0.06   \n",
       "2           Iceland    Full democracy              9.37              0.21   \n",
       "3            Sweden    Full democracy              9.26              0.13   \n",
       "4       New Zealand    Full democracy              9.25              0.01   \n",
       "\n",
       "  Elec­toral pro­cess and plura­lism Func­tioning of govern­ment  \\\n",
       "0                   Full democracies            Full democracies   \n",
       "1                              10.00                        9.64   \n",
       "2                              10.00                        8.57   \n",
       "3                               9.58                        9.29   \n",
       "4                              10.00                        8.93   \n",
       "\n",
       "  Poli­tical partici­pation Poli­tical cul­ture  Civil liber­ties  \n",
       "0          Full democracies    Full democracies  Full democracies  \n",
       "1                     10.00               10.00              9.41  \n",
       "2                      8.89               10.00              9.41  \n",
       "3                      8.33               10.00              9.12  \n",
       "4                      8.89                8.75              9.71  "
      ]
     },
     "execution_count": 3,
     "metadata": {},
     "output_type": "execute_result"
    }
   ],
   "source": [
    "# first rows\n",
    "demoVars.head()"
   ]
  },
  {
   "cell_type": "markdown",
   "metadata": {},
   "source": [
    "Let's start by getting rid of the columns we will not use:"
   ]
  },
  {
   "cell_type": "code",
   "execution_count": 4,
   "metadata": {},
   "outputs": [],
   "source": [
    "#column positions to drop\n",
    "whichToDrop=[0,1,5]\n",
    "\n",
    "#dropping and updating the data frame\n",
    "demoVars.drop(labels=demoVars.columns[whichToDrop],axis=1,inplace=True)"
   ]
  },
  {
   "cell_type": "markdown",
   "metadata": {},
   "source": [
    "Let's take a look at the columns names:"
   ]
  },
  {
   "cell_type": "code",
   "execution_count": 5,
   "metadata": {},
   "outputs": [
    {
     "data": {
      "text/plain": [
       "Index(['Country', 'Regime type', 'Overall score',\n",
       "       'Elec­toral pro­cess and plura­lism', 'Func­tioning of govern­ment',\n",
       "       'Poli­tical partici­pation', 'Poli­tical cul­ture', 'Civil liber­ties'],\n",
       "      dtype='object')"
      ]
     },
     "execution_count": 5,
     "metadata": {},
     "output_type": "execute_result"
    }
   ],
   "source": [
    "# these are:\n",
    "demoVars.columns"
   ]
  },
  {
   "cell_type": "markdown",
   "metadata": {},
   "source": [
    "The previous result shows nothing relevant, but the pandas data frame shows _unneeded dashes_ in the column names. Let's **check the presence of special characters**:"
   ]
  },
  {
   "cell_type": "code",
   "execution_count": 6,
   "metadata": {},
   "outputs": [
    {
     "data": {
      "text/plain": [
       "'Poli\\xadticalpartici\\xadpation'"
      ]
     },
     "execution_count": 6,
     "metadata": {},
     "output_type": "execute_result"
    }
   ],
   "source": [
    "# this is a column name with dashes:\n",
    "import re\n",
    "re.sub(\"\\s\",\"\",demoVars.columns[5])"
   ]
  },
  {
   "cell_type": "markdown",
   "metadata": {},
   "source": [
    "The result shows you some **hidden characters**. Let's use that info with the pandas replace:"
   ]
  },
  {
   "cell_type": "code",
   "execution_count": 7,
   "metadata": {},
   "outputs": [
    {
     "data": {
      "text/plain": [
       "Index(['Country', 'Regimetype', 'Overallscore', 'Electoralprocessandpluralism',\n",
       "       'Functioningofgovernment', 'Politicalparticipation', 'Politicalculture',\n",
       "       'Civilliberties'],\n",
       "      dtype='object')"
      ]
     },
     "execution_count": 7,
     "metadata": {},
     "output_type": "execute_result"
    }
   ],
   "source": [
    "# using pandas own replace function\n",
    "demoVars.columns=demoVars.columns.str.replace(\"\\s|\\xad\",\"\",regex=True)\n",
    "\n",
    "# current colum names\n",
    "demoVars.columns"
   ]
  },
  {
   "cell_type": "markdown",
   "metadata": {},
   "source": [
    "Let's clean the data contents. Notice that in the website some labels that are not needed are present in this case. Let's check the frequency table of \"Regime Type\" to try to identify the wrong labels that are affecting the data frame to delete those *rows*: "
   ]
  },
  {
   "cell_type": "code",
   "execution_count": 8,
   "metadata": {},
   "outputs": [
    {
     "data": {
      "text/plain": [
       "Authoritarian            57\n",
       "Flawed democracy         52\n",
       "Hybrid regime            35\n",
       "Full democracy           23\n",
       "Full democracies          1\n",
       "Flawed democracies        1\n",
       "Hybrid regimes            1\n",
       "Authoritarian regimes     1\n",
       "Name: Regimetype, dtype: int64"
      ]
     },
     "execution_count": 8,
     "metadata": {},
     "output_type": "execute_result"
    }
   ],
   "source": [
    "# frequency table using \"value_counts\"\n",
    "demoVars['Regimetype'].value_counts()"
   ]
  },
  {
   "cell_type": "code",
   "execution_count": 9,
   "metadata": {},
   "outputs": [
    {
     "data": {
      "text/plain": [
       "Index(['Full democracies', 'Flawed democracies', 'Hybrid regimes',\n",
       "       'Authoritarian regimes'],\n",
       "      dtype='object')"
      ]
     },
     "execution_count": 9,
     "metadata": {},
     "output_type": "execute_result"
    }
   ],
   "source": [
    "# these are the wrong ones:\n",
    "demoVars['Regimetype'].value_counts().index[4:]"
   ]
  },
  {
   "cell_type": "code",
   "execution_count": 10,
   "metadata": {},
   "outputs": [],
   "source": [
    "#saving the wrong ones:\n",
    "byeValues=demoVars['Regimetype'].value_counts().index[4:]"
   ]
  },
  {
   "cell_type": "markdown",
   "metadata": {},
   "source": [
    "Now that we know which ones are not needed, we can **filter** the data frame **rows** using pandas' **isnin**:"
   ]
  },
  {
   "cell_type": "code",
   "execution_count": 11,
   "metadata": {
    "scrolled": true
   },
   "outputs": [
    {
     "data": {
      "text/html": [
       "<div>\n",
       "<style scoped>\n",
       "    .dataframe tbody tr th:only-of-type {\n",
       "        vertical-align: middle;\n",
       "    }\n",
       "\n",
       "    .dataframe tbody tr th {\n",
       "        vertical-align: top;\n",
       "    }\n",
       "\n",
       "    .dataframe thead th {\n",
       "        text-align: right;\n",
       "    }\n",
       "</style>\n",
       "<table border=\"1\" class=\"dataframe\">\n",
       "  <thead>\n",
       "    <tr style=\"text-align: right;\">\n",
       "      <th></th>\n",
       "      <th>Country</th>\n",
       "      <th>Regimetype</th>\n",
       "      <th>Overallscore</th>\n",
       "      <th>Electoralprocessandpluralism</th>\n",
       "      <th>Functioningofgovernment</th>\n",
       "      <th>Politicalparticipation</th>\n",
       "      <th>Politicalculture</th>\n",
       "      <th>Civilliberties</th>\n",
       "    </tr>\n",
       "  </thead>\n",
       "  <tbody>\n",
       "    <tr>\n",
       "      <th>1</th>\n",
       "      <td>Norway</td>\n",
       "      <td>Full democracy</td>\n",
       "      <td>9.81</td>\n",
       "      <td>10.00</td>\n",
       "      <td>9.64</td>\n",
       "      <td>10.00</td>\n",
       "      <td>10.00</td>\n",
       "      <td>9.41</td>\n",
       "    </tr>\n",
       "    <tr>\n",
       "      <th>2</th>\n",
       "      <td>Iceland</td>\n",
       "      <td>Full democracy</td>\n",
       "      <td>9.37</td>\n",
       "      <td>10.00</td>\n",
       "      <td>8.57</td>\n",
       "      <td>8.89</td>\n",
       "      <td>10.00</td>\n",
       "      <td>9.41</td>\n",
       "    </tr>\n",
       "    <tr>\n",
       "      <th>3</th>\n",
       "      <td>Sweden</td>\n",
       "      <td>Full democracy</td>\n",
       "      <td>9.26</td>\n",
       "      <td>9.58</td>\n",
       "      <td>9.29</td>\n",
       "      <td>8.33</td>\n",
       "      <td>10.00</td>\n",
       "      <td>9.12</td>\n",
       "    </tr>\n",
       "    <tr>\n",
       "      <th>4</th>\n",
       "      <td>New Zealand</td>\n",
       "      <td>Full democracy</td>\n",
       "      <td>9.25</td>\n",
       "      <td>10.00</td>\n",
       "      <td>8.93</td>\n",
       "      <td>8.89</td>\n",
       "      <td>8.75</td>\n",
       "      <td>9.71</td>\n",
       "    </tr>\n",
       "    <tr>\n",
       "      <th>5</th>\n",
       "      <td>Canada</td>\n",
       "      <td>Full democracy</td>\n",
       "      <td>9.24</td>\n",
       "      <td>9.58</td>\n",
       "      <td>8.93</td>\n",
       "      <td>8.89</td>\n",
       "      <td>9.38</td>\n",
       "      <td>9.41</td>\n",
       "    </tr>\n",
       "    <tr>\n",
       "      <th>...</th>\n",
       "      <td>...</td>\n",
       "      <td>...</td>\n",
       "      <td>...</td>\n",
       "      <td>...</td>\n",
       "      <td>...</td>\n",
       "      <td>...</td>\n",
       "      <td>...</td>\n",
       "      <td>...</td>\n",
       "    </tr>\n",
       "    <tr>\n",
       "      <th>166</th>\n",
       "      <td>Chad</td>\n",
       "      <td>Authoritarian</td>\n",
       "      <td>1.55</td>\n",
       "      <td>0.00</td>\n",
       "      <td>0.00</td>\n",
       "      <td>1.67</td>\n",
       "      <td>3.75</td>\n",
       "      <td>2.35</td>\n",
       "    </tr>\n",
       "    <tr>\n",
       "      <th>167</th>\n",
       "      <td>Syria</td>\n",
       "      <td>Authoritarian</td>\n",
       "      <td>1.43</td>\n",
       "      <td>0.00</td>\n",
       "      <td>0.00</td>\n",
       "      <td>2.78</td>\n",
       "      <td>4.38</td>\n",
       "      <td>0.00</td>\n",
       "    </tr>\n",
       "    <tr>\n",
       "      <th>168</th>\n",
       "      <td>Central African Republic</td>\n",
       "      <td>Authoritarian</td>\n",
       "      <td>1.32</td>\n",
       "      <td>1.25</td>\n",
       "      <td>0.00</td>\n",
       "      <td>1.11</td>\n",
       "      <td>1.88</td>\n",
       "      <td>2.35</td>\n",
       "    </tr>\n",
       "    <tr>\n",
       "      <th>169</th>\n",
       "      <td>Democratic Republic of the Congo</td>\n",
       "      <td>Authoritarian</td>\n",
       "      <td>1.13</td>\n",
       "      <td>0.00</td>\n",
       "      <td>0.00</td>\n",
       "      <td>1.67</td>\n",
       "      <td>3.13</td>\n",
       "      <td>0.88</td>\n",
       "    </tr>\n",
       "    <tr>\n",
       "      <th>170</th>\n",
       "      <td>North Korea</td>\n",
       "      <td>Authoritarian</td>\n",
       "      <td>1.08</td>\n",
       "      <td>0.00</td>\n",
       "      <td>2.50</td>\n",
       "      <td>1.67</td>\n",
       "      <td>1.25</td>\n",
       "      <td>0.00</td>\n",
       "    </tr>\n",
       "  </tbody>\n",
       "</table>\n",
       "<p>167 rows × 8 columns</p>\n",
       "</div>"
      ],
      "text/plain": [
       "                              Country      Regimetype Overallscore  \\\n",
       "1                              Norway  Full democracy         9.81   \n",
       "2                             Iceland  Full democracy         9.37   \n",
       "3                              Sweden  Full democracy         9.26   \n",
       "4                         New Zealand  Full democracy         9.25   \n",
       "5                              Canada  Full democracy         9.24   \n",
       "..                                ...             ...          ...   \n",
       "166                              Chad   Authoritarian         1.55   \n",
       "167                             Syria   Authoritarian         1.43   \n",
       "168          Central African Republic   Authoritarian         1.32   \n",
       "169  Democratic Republic of the Congo   Authoritarian         1.13   \n",
       "170                       North Korea   Authoritarian         1.08   \n",
       "\n",
       "    Electoralprocessandpluralism Functioningofgovernment  \\\n",
       "1                          10.00                    9.64   \n",
       "2                          10.00                    8.57   \n",
       "3                           9.58                    9.29   \n",
       "4                          10.00                    8.93   \n",
       "5                           9.58                    8.93   \n",
       "..                           ...                     ...   \n",
       "166                         0.00                    0.00   \n",
       "167                         0.00                    0.00   \n",
       "168                         1.25                    0.00   \n",
       "169                         0.00                    0.00   \n",
       "170                         0.00                    2.50   \n",
       "\n",
       "    Politicalparticipation Politicalculture Civilliberties  \n",
       "1                    10.00            10.00           9.41  \n",
       "2                     8.89            10.00           9.41  \n",
       "3                     8.33            10.00           9.12  \n",
       "4                     8.89             8.75           9.71  \n",
       "5                     8.89             9.38           9.41  \n",
       "..                     ...              ...            ...  \n",
       "166                   1.67             3.75           2.35  \n",
       "167                   2.78             4.38           0.00  \n",
       "168                   1.11             1.88           2.35  \n",
       "169                   1.67             3.13           0.88  \n",
       "170                   1.67             1.25           0.00  \n",
       "\n",
       "[167 rows x 8 columns]"
      ]
     },
     "execution_count": 11,
     "metadata": {},
     "output_type": "execute_result"
    }
   ],
   "source": [
    "# use \"~\" to request the \"opposite\" rows\n",
    "demoVars = demoVars[~demoVars['Regimetype'].isin(byeValues)]\n",
    "\n",
    "# data frame after\n",
    "demoVars"
   ]
  },
  {
   "cell_type": "markdown",
   "metadata": {},
   "source": [
    "Notice that the index **0** has dissapeared, and that even though you have 167 countries now, the last one has index **170**. When you filter rows that will happen; so it is better to **reset the indexes of the data frame**:"
   ]
  },
  {
   "cell_type": "code",
   "execution_count": 12,
   "metadata": {},
   "outputs": [],
   "source": [
    "# new indexes will appear\n",
    "demoVars.reset_index(drop=True,inplace=True)"
   ]
  },
  {
   "cell_type": "code",
   "execution_count": 13,
   "metadata": {},
   "outputs": [
    {
     "data": {
      "text/html": [
       "<div>\n",
       "<style scoped>\n",
       "    .dataframe tbody tr th:only-of-type {\n",
       "        vertical-align: middle;\n",
       "    }\n",
       "\n",
       "    .dataframe tbody tr th {\n",
       "        vertical-align: top;\n",
       "    }\n",
       "\n",
       "    .dataframe thead th {\n",
       "        text-align: right;\n",
       "    }\n",
       "</style>\n",
       "<table border=\"1\" class=\"dataframe\">\n",
       "  <thead>\n",
       "    <tr style=\"text-align: right;\">\n",
       "      <th></th>\n",
       "      <th>Country</th>\n",
       "      <th>Regimetype</th>\n",
       "      <th>Overallscore</th>\n",
       "      <th>Electoralprocessandpluralism</th>\n",
       "      <th>Functioningofgovernment</th>\n",
       "      <th>Politicalparticipation</th>\n",
       "      <th>Politicalculture</th>\n",
       "      <th>Civilliberties</th>\n",
       "    </tr>\n",
       "  </thead>\n",
       "  <tbody>\n",
       "    <tr>\n",
       "      <th>0</th>\n",
       "      <td>Norway</td>\n",
       "      <td>Full democracy</td>\n",
       "      <td>9.81</td>\n",
       "      <td>10.00</td>\n",
       "      <td>9.64</td>\n",
       "      <td>10.00</td>\n",
       "      <td>10.00</td>\n",
       "      <td>9.41</td>\n",
       "    </tr>\n",
       "    <tr>\n",
       "      <th>1</th>\n",
       "      <td>Iceland</td>\n",
       "      <td>Full democracy</td>\n",
       "      <td>9.37</td>\n",
       "      <td>10.00</td>\n",
       "      <td>8.57</td>\n",
       "      <td>8.89</td>\n",
       "      <td>10.00</td>\n",
       "      <td>9.41</td>\n",
       "    </tr>\n",
       "    <tr>\n",
       "      <th>2</th>\n",
       "      <td>Sweden</td>\n",
       "      <td>Full democracy</td>\n",
       "      <td>9.26</td>\n",
       "      <td>9.58</td>\n",
       "      <td>9.29</td>\n",
       "      <td>8.33</td>\n",
       "      <td>10.00</td>\n",
       "      <td>9.12</td>\n",
       "    </tr>\n",
       "    <tr>\n",
       "      <th>3</th>\n",
       "      <td>New Zealand</td>\n",
       "      <td>Full democracy</td>\n",
       "      <td>9.25</td>\n",
       "      <td>10.00</td>\n",
       "      <td>8.93</td>\n",
       "      <td>8.89</td>\n",
       "      <td>8.75</td>\n",
       "      <td>9.71</td>\n",
       "    </tr>\n",
       "    <tr>\n",
       "      <th>4</th>\n",
       "      <td>Canada</td>\n",
       "      <td>Full democracy</td>\n",
       "      <td>9.24</td>\n",
       "      <td>9.58</td>\n",
       "      <td>8.93</td>\n",
       "      <td>8.89</td>\n",
       "      <td>9.38</td>\n",
       "      <td>9.41</td>\n",
       "    </tr>\n",
       "    <tr>\n",
       "      <th>...</th>\n",
       "      <td>...</td>\n",
       "      <td>...</td>\n",
       "      <td>...</td>\n",
       "      <td>...</td>\n",
       "      <td>...</td>\n",
       "      <td>...</td>\n",
       "      <td>...</td>\n",
       "      <td>...</td>\n",
       "    </tr>\n",
       "    <tr>\n",
       "      <th>162</th>\n",
       "      <td>Chad</td>\n",
       "      <td>Authoritarian</td>\n",
       "      <td>1.55</td>\n",
       "      <td>0.00</td>\n",
       "      <td>0.00</td>\n",
       "      <td>1.67</td>\n",
       "      <td>3.75</td>\n",
       "      <td>2.35</td>\n",
       "    </tr>\n",
       "    <tr>\n",
       "      <th>163</th>\n",
       "      <td>Syria</td>\n",
       "      <td>Authoritarian</td>\n",
       "      <td>1.43</td>\n",
       "      <td>0.00</td>\n",
       "      <td>0.00</td>\n",
       "      <td>2.78</td>\n",
       "      <td>4.38</td>\n",
       "      <td>0.00</td>\n",
       "    </tr>\n",
       "    <tr>\n",
       "      <th>164</th>\n",
       "      <td>Central African Republic</td>\n",
       "      <td>Authoritarian</td>\n",
       "      <td>1.32</td>\n",
       "      <td>1.25</td>\n",
       "      <td>0.00</td>\n",
       "      <td>1.11</td>\n",
       "      <td>1.88</td>\n",
       "      <td>2.35</td>\n",
       "    </tr>\n",
       "    <tr>\n",
       "      <th>165</th>\n",
       "      <td>Democratic Republic of the Congo</td>\n",
       "      <td>Authoritarian</td>\n",
       "      <td>1.13</td>\n",
       "      <td>0.00</td>\n",
       "      <td>0.00</td>\n",
       "      <td>1.67</td>\n",
       "      <td>3.13</td>\n",
       "      <td>0.88</td>\n",
       "    </tr>\n",
       "    <tr>\n",
       "      <th>166</th>\n",
       "      <td>North Korea</td>\n",
       "      <td>Authoritarian</td>\n",
       "      <td>1.08</td>\n",
       "      <td>0.00</td>\n",
       "      <td>2.50</td>\n",
       "      <td>1.67</td>\n",
       "      <td>1.25</td>\n",
       "      <td>0.00</td>\n",
       "    </tr>\n",
       "  </tbody>\n",
       "</table>\n",
       "<p>167 rows × 8 columns</p>\n",
       "</div>"
      ],
      "text/plain": [
       "                              Country      Regimetype Overallscore  \\\n",
       "0                              Norway  Full democracy         9.81   \n",
       "1                             Iceland  Full democracy         9.37   \n",
       "2                              Sweden  Full democracy         9.26   \n",
       "3                         New Zealand  Full democracy         9.25   \n",
       "4                              Canada  Full democracy         9.24   \n",
       "..                                ...             ...          ...   \n",
       "162                              Chad   Authoritarian         1.55   \n",
       "163                             Syria   Authoritarian         1.43   \n",
       "164          Central African Republic   Authoritarian         1.32   \n",
       "165  Democratic Republic of the Congo   Authoritarian         1.13   \n",
       "166                       North Korea   Authoritarian         1.08   \n",
       "\n",
       "    Electoralprocessandpluralism Functioningofgovernment  \\\n",
       "0                          10.00                    9.64   \n",
       "1                          10.00                    8.57   \n",
       "2                           9.58                    9.29   \n",
       "3                          10.00                    8.93   \n",
       "4                           9.58                    8.93   \n",
       "..                           ...                     ...   \n",
       "162                         0.00                    0.00   \n",
       "163                         0.00                    0.00   \n",
       "164                         1.25                    0.00   \n",
       "165                         0.00                    0.00   \n",
       "166                         0.00                    2.50   \n",
       "\n",
       "    Politicalparticipation Politicalculture Civilliberties  \n",
       "0                    10.00            10.00           9.41  \n",
       "1                     8.89            10.00           9.41  \n",
       "2                     8.33            10.00           9.12  \n",
       "3                     8.89             8.75           9.71  \n",
       "4                     8.89             9.38           9.41  \n",
       "..                     ...              ...            ...  \n",
       "162                   1.67             3.75           2.35  \n",
       "163                   2.78             4.38           0.00  \n",
       "164                   1.11             1.88           2.35  \n",
       "165                   1.67             3.13           0.88  \n",
       "166                   1.67             1.25           0.00  \n",
       "\n",
       "[167 rows x 8 columns]"
      ]
     },
     "execution_count": 13,
     "metadata": {},
     "output_type": "execute_result"
    }
   ],
   "source": [
    "demoVars"
   ]
  },
  {
   "cell_type": "markdown",
   "metadata": {},
   "source": [
    "Let's save the file as in CSV format:"
   ]
  },
  {
   "cell_type": "code",
   "execution_count": null,
   "metadata": {},
   "outputs": [],
   "source": [
    "demoVars.to_csv(\"demoVars.csv\",index=False)"
   ]
  },
  {
   "cell_type": "markdown",
   "metadata": {},
   "source": [
    "## Exercise 1:\n",
    "\n",
    "- Go to this link: [https://en.wikipedia.org/wiki/List_of_ISO_3166_country_codes](https://en.wikipedia.org/wiki/List_of_ISO_3166_country_codes).\n",
    "- Scrap the table of countries, and keep country names, **ISO codes** and **Internet codes**.\n",
    "- Prepare a CSV file with the clean and formatted data, and upload that file into GitHub.\n",
    "- Read the file from Github and add the ISO codes and internet codes to the table of democracy index."
   ]
  },
  {
   "cell_type": "markdown",
   "metadata": {},
   "source": [
    "# Integrating Data Frames"
   ]
  },
  {
   "cell_type": "markdown",
   "metadata": {},
   "source": [
    "Integrating data sets needs the following considerations:\n",
    "\n",
    "* Merging is done on two data frames.\n",
    "* You need a column in each data frame with that share the same exact and unique values. The column names or titles need not be the same.\n",
    "* The merged table shows by default the mutual coincidences; but you can also request the values not matched, which will help you detect possible extra cleaning.\n",
    "* Pandas differentiates the **left** from the **right** data frames."
   ]
  },
  {
   "cell_type": "markdown",
   "metadata": {},
   "source": [
    "Let me bring the new data frame with ISO codes and internet codes:"
   ]
  },
  {
   "cell_type": "code",
   "execution_count": 14,
   "metadata": {},
   "outputs": [],
   "source": [
    "# link to the data in CSV format\n",
    "linkDataIso='https://github.com/EvansDataScience/CTforGA_integrating/raw/main/isodata.csv'\n",
    "\n",
    "# using 'read_csv' with a link\n",
    "DataIso=pd.read_csv(linkDataIso)"
   ]
  },
  {
   "cell_type": "code",
   "execution_count": 15,
   "metadata": {},
   "outputs": [
    {
     "data": {
      "text/plain": [
       "Index(['Countryname', 'Officialstatename', 'InternetccTLD', 'iso2', 'iso3'], dtype='object')"
      ]
     },
     "execution_count": 15,
     "metadata": {},
     "output_type": "execute_result"
    }
   ],
   "source": [
    "#Check the current names:\n",
    "DataIso.columns"
   ]
  },
  {
   "cell_type": "markdown",
   "metadata": {},
   "source": [
    "* **Option one**(default): merge only the coincidences:"
   ]
  },
  {
   "cell_type": "code",
   "execution_count": 16,
   "metadata": {},
   "outputs": [],
   "source": [
    "# notice the key column are country names, but the column names are different:\n",
    "allData=demoVars.merge(DataIso,left_on=\"Country\",right_on=\"Countryname\") "
   ]
  },
  {
   "cell_type": "markdown",
   "metadata": {},
   "source": [
    "Once the merged has taken place, check the differences:"
   ]
  },
  {
   "cell_type": "code",
   "execution_count": 17,
   "metadata": {},
   "outputs": [
    {
     "data": {
      "text/plain": [
       "(167, 8)"
      ]
     },
     "execution_count": 17,
     "metadata": {},
     "output_type": "execute_result"
    }
   ],
   "source": [
    "# number of rows (countries) before merge\n",
    "demoVars.shape"
   ]
  },
  {
   "cell_type": "code",
   "execution_count": 18,
   "metadata": {},
   "outputs": [
    {
     "data": {
      "text/plain": [
       "(138, 13)"
      ]
     },
     "execution_count": 18,
     "metadata": {},
     "output_type": "execute_result"
    }
   ],
   "source": [
    "# number of rows after merge\n",
    "allData.shape"
   ]
  },
  {
   "cell_type": "markdown",
   "metadata": {},
   "source": [
    "The previous merge has **lost several rows** (countries)."
   ]
  },
  {
   "cell_type": "markdown",
   "metadata": {},
   "source": [
    "* **Option two**: you want to keep all the rows, matched and unmatched, from **both** data frames:"
   ]
  },
  {
   "cell_type": "code",
   "execution_count": 19,
   "metadata": {},
   "outputs": [],
   "source": [
    "# merge 'outer' keeps all matched and unmatched\n",
    "# merge 'indicator' will tell you if the key was found in 'both' or only in one of them\n",
    "allData=demoVars.merge(DataIso,left_on=\"Country\",right_on=\"Countryname\",how='outer',indicator='True')"
   ]
  },
  {
   "cell_type": "markdown",
   "metadata": {},
   "source": [
    "The _allData_ dataframe has now a  column named 'True', the **indicator**:"
   ]
  },
  {
   "cell_type": "code",
   "execution_count": 20,
   "metadata": {},
   "outputs": [
    {
     "data": {
      "text/plain": [
       "Index(['Country', 'Regimetype', 'Overallscore', 'Electoralprocessandpluralism',\n",
       "       'Functioningofgovernment', 'Politicalparticipation', 'Politicalculture',\n",
       "       'Civilliberties', 'Countryname', 'Officialstatename', 'InternetccTLD',\n",
       "       'iso2', 'iso3', 'True'],\n",
       "      dtype='object')"
      ]
     },
     "execution_count": 20,
     "metadata": {},
     "output_type": "execute_result"
    }
   ],
   "source": [
    "allData.columns"
   ]
  },
  {
   "cell_type": "code",
   "execution_count": 21,
   "metadata": {},
   "outputs": [
    {
     "data": {
      "text/plain": [
       "both          138\n",
       "right_only    111\n",
       "left_only      29\n",
       "Name: True, dtype: int64"
      ]
     },
     "execution_count": 21,
     "metadata": {},
     "output_type": "execute_result"
    }
   ],
   "source": [
    "# explore matched and unmatched counts:\n",
    "allData['True'].value_counts()"
   ]
  },
  {
   "cell_type": "markdown",
   "metadata": {},
   "source": [
    "Our main task is to add columns to the Democracy Index data. So these are the countries from The Economist that did not find a match:"
   ]
  },
  {
   "cell_type": "code",
   "execution_count": 22,
   "metadata": {},
   "outputs": [
    {
     "data": {
      "text/plain": [
       "9                           Netherlands\n",
       "10                               Taiwan\n",
       "15                       United Kingdom\n",
       "22                          South Korea\n",
       "24                        United States\n",
       "30                       Czech Republic\n",
       "31                           Cape Verde\n",
       "54                          Philippines\n",
       "62                   Dominican Republic\n",
       "79                              Moldova\n",
       "92                             Tanzania\n",
       "93                              Bolivia\n",
       "102                              Gambia\n",
       "108                         Ivory Coast\n",
       "112                           Palestine\n",
       "123                              Russia\n",
       "124                               Niger\n",
       "128               Republic of the Congo\n",
       "131                             Comoros\n",
       "136                             Vietnam\n",
       "142                           Venezuela\n",
       "144                United Arab Emirates\n",
       "148                               Sudan\n",
       "151                                Iran\n",
       "160                                Laos\n",
       "163                               Syria\n",
       "164            Central African Republic\n",
       "165    Democratic Republic of the Congo\n",
       "166                         North Korea\n",
       "Name: Country, dtype: object"
      ]
     },
     "execution_count": 22,
     "metadata": {},
     "output_type": "execute_result"
    }
   ],
   "source": [
    "allData[allData['True']=='left_only'].Country"
   ]
  },
  {
   "cell_type": "markdown",
   "metadata": {},
   "source": [
    "Those names should be here, but written differently:"
   ]
  },
  {
   "cell_type": "code",
   "execution_count": 23,
   "metadata": {},
   "outputs": [
    {
     "data": {
      "text/plain": [
       "167               Åland Islands\n",
       "168              American Samoa\n",
       "169                     Andorra\n",
       "170                    Anguilla\n",
       "171                  Antarctica\n",
       "                 ...           \n",
       "273                    Viet Nam\n",
       "274    Virgin Islands (British)\n",
       "275       Virgin Islands (U.S.)\n",
       "276           Wallis and Futuna\n",
       "277              Western Sahara\n",
       "Name: Countryname, Length: 111, dtype: object"
      ]
     },
     "execution_count": 23,
     "metadata": {},
     "output_type": "execute_result"
    }
   ],
   "source": [
    "allData[allData['True']=='right_only'].Countryname"
   ]
  },
  {
   "cell_type": "markdown",
   "metadata": {},
   "source": [
    "The next steps might seem a little laborious, combining computational thinking adn finally some brute force. The first tool we need is another library allows fuzzy merging: [TheFuzz](https://github.com/seatgeek/thefuzz).\n",
    "\n",
    "The library has two functions of interest:_extractOne_ and _extract_. Let me show you how they work:"
   ]
  },
  {
   "cell_type": "code",
   "execution_count": null,
   "metadata": {},
   "outputs": [],
   "source": [
    "#!pip install thefuzz"
   ]
  },
  {
   "cell_type": "code",
   "execution_count": 24,
   "metadata": {},
   "outputs": [],
   "source": [
    "# The countries unmatched\n",
    "UnmatchedLeft=allData[allData['True']=='left_only'].Country.to_list()\n",
    "UnmatchedRight=allData[allData['True']=='right_only'].Countryname.to_list()"
   ]
  },
  {
   "cell_type": "markdown",
   "metadata": {},
   "source": [
    "This is a country name fro the economist that did not get a match in the ISO data:"
   ]
  },
  {
   "cell_type": "code",
   "execution_count": 25,
   "metadata": {},
   "outputs": [
    {
     "data": {
      "text/plain": [
       "'Netherlands'"
      ]
     },
     "execution_count": 25,
     "metadata": {},
     "output_type": "execute_result"
    }
   ],
   "source": [
    "UnmatchedLeft[0]"
   ]
  },
  {
   "cell_type": "markdown",
   "metadata": {},
   "source": [
    "Let's find the best match from the ISO data:"
   ]
  },
  {
   "cell_type": "code",
   "execution_count": 26,
   "metadata": {},
   "outputs": [
    {
     "data": {
      "text/plain": [
       "('Netherlands (the)', 95)"
      ]
     },
     "execution_count": 26,
     "metadata": {},
     "output_type": "execute_result"
    }
   ],
   "source": [
    "from thefuzz import process\n",
    "\n",
    "process.extractOne(UnmatchedLeft[0], UnmatchedRight)"
   ]
  },
  {
   "cell_type": "markdown",
   "metadata": {},
   "source": [
    "Let's find the three best matches from the ISO data:"
   ]
  },
  {
   "cell_type": "code",
   "execution_count": 27,
   "metadata": {},
   "outputs": [
    {
     "data": {
      "text/plain": [
       "[('Netherlands (the)', 95),\n",
       " ('Greenland', 60),\n",
       " ('Saint Helena\\xa0Ascension Island\\xa0Tristan da Cunha', 58)]"
      ]
     },
     "execution_count": 27,
     "metadata": {},
     "output_type": "execute_result"
    }
   ],
   "source": [
    "process.extract(UnmatchedLeft[0], UnmatchedRight,limit=3)"
   ]
  },
  {
   "cell_type": "markdown",
   "metadata": {},
   "source": [
    "These operations will not be done blindly. We will need to see what matches are done:"
   ]
  },
  {
   "cell_type": "code",
   "execution_count": 28,
   "metadata": {},
   "outputs": [
    {
     "data": {
      "text/plain": [
       "['Netherlands',\n",
       " 'Taiwan',\n",
       " 'United Kingdom',\n",
       " 'South Korea',\n",
       " 'United States',\n",
       " 'Czech Republic',\n",
       " 'Cape Verde',\n",
       " 'Philippines',\n",
       " 'Dominican Republic',\n",
       " 'Moldova',\n",
       " 'Tanzania',\n",
       " 'Bolivia',\n",
       " 'Gambia',\n",
       " 'Ivory Coast',\n",
       " 'Palestine',\n",
       " 'Russia',\n",
       " 'Niger',\n",
       " 'Republic of the Congo',\n",
       " 'Comoros',\n",
       " 'Vietnam',\n",
       " 'Venezuela',\n",
       " 'United Arab Emirates',\n",
       " 'Sudan',\n",
       " 'Iran',\n",
       " 'Laos',\n",
       " 'Syria',\n",
       " 'Central African Republic',\n",
       " 'Democratic Republic of the Congo',\n",
       " 'North Korea']"
      ]
     },
     "execution_count": 28,
     "metadata": {},
     "output_type": "execute_result"
    }
   ],
   "source": [
    "UnmatchedLeft=allData[allData['True']=='left_only'].Country.to_list()\n",
    "UnmatchedLeft"
   ]
  },
  {
   "cell_type": "code",
   "execution_count": 29,
   "metadata": {},
   "outputs": [
    {
     "data": {
      "text/plain": [
       "[('Bolivia', ('Bolivia (Plurinational State of)', 90)),\n",
       " ('Cape Verde', ('Cabo Verde', 80)),\n",
       " ('Central African Republic', ('Central African Republic (the)', 95)),\n",
       " ('Comoros', ('Comoros (the)', 90)),\n",
       " ('Czech Republic', ('Central African Republic (the)', 86)),\n",
       " ('Democratic Republic of the Congo',\n",
       "  ('Congo (the Democratic Republic of the)', 95)),\n",
       " ('Dominican Republic', ('Dominican Republic (the)', 95)),\n",
       " ('Gambia', ('Gambia (the)', 90)),\n",
       " ('Iran', ('Iran (Islamic Republic of)', 90)),\n",
       " ('Ivory Coast', (\"Côte d'Ivoire\", 58)),\n",
       " ('Laos', ('Barbados', 68)),\n",
       " ('Moldova', ('Moldova (the Republic of)', 90)),\n",
       " ('Netherlands', ('Netherlands (the)', 95)),\n",
       " ('Niger', ('Niger (the)', 90)),\n",
       " ('North Korea', (\"Korea (the Democratic People's Republic of)\", 86)),\n",
       " ('Palestine', ('Palestine, State of', 90)),\n",
       " ('Philippines', ('Philippines (the)', 95)),\n",
       " ('Republic of the Congo', ('Bahamas (the)', 86)),\n",
       " ('Russia', ('Russian Federation (the)', 90)),\n",
       " ('South Korea', (\"Korea (the Democratic People's Republic of)\", 86)),\n",
       " ('Sudan', ('South Sudan', 90)),\n",
       " ('Syria', ('Syrian Arab Republic (the)', 90)),\n",
       " ('Taiwan', ('Taiwan (Province of China)', 90)),\n",
       " ('Tanzania', ('Tanzania, the United Republic of', 90)),\n",
       " ('United Arab Emirates', ('United Arab Emirates (the)', 95)),\n",
       " ('United Kingdom',\n",
       "  ('United Kingdom of Great Britain and Northern Ireland (the)', 90)),\n",
       " ('United States', ('United States Minor Outlying Islands (the)', 90)),\n",
       " ('Venezuela', ('Venezuela (Bolivarian Republic of)', 90)),\n",
       " ('Vietnam', ('Viet Nam', 93))]"
      ]
     },
     "execution_count": 29,
     "metadata": {},
     "output_type": "execute_result"
    }
   ],
   "source": [
    "[(left, process.extractOne(left, UnmatchedRight)) for left in sorted(UnmatchedLeft)]"
   ]
  },
  {
   "cell_type": "markdown",
   "metadata": {},
   "source": [
    "These are the totally wrong matches:"
   ]
  },
  {
   "cell_type": "code",
   "execution_count": 31,
   "metadata": {},
   "outputs": [],
   "source": [
    "# this is a list of tuples:\n",
    "TotallyWrong=[('Czech Republic', ('Central African Republic (the)', 86)),\n",
    "              ('Laos', ('Barbados', 68)),\n",
    "              ('Republic of the Congo', ('Bahamas (the)', 86)),\n",
    "              ('South Korea', (\"Korea (the Democratic People's Republic of)\", 86)),\n",
    "              ('Sudan', ('South Sudan', 90)),\n",
    "              ('United States', ('United States Minor Outlying Islands (the)', 90))]"
   ]
  },
  {
   "cell_type": "markdown",
   "metadata": {},
   "source": [
    "Let me make a list with all the names in the democracy index countries that must be omitted currently:"
   ]
  },
  {
   "cell_type": "code",
   "execution_count": 32,
   "metadata": {},
   "outputs": [
    {
     "data": {
      "text/plain": [
       "['Czech Republic',\n",
       " 'Laos',\n",
       " 'Republic of the Congo',\n",
       " 'South Korea',\n",
       " 'Sudan',\n",
       " 'United States']"
      ]
     },
     "execution_count": 32,
     "metadata": {},
     "output_type": "execute_result"
    }
   ],
   "source": [
    "omitLeft=[leftName for (leftName,rightFuzzy) in TotallyWrong] #parenthesis not needed\n",
    "omitLeft"
   ]
  },
  {
   "cell_type": "markdown",
   "metadata": {},
   "source": [
    "Create a dictionary with the changes that will be done:"
   ]
  },
  {
   "cell_type": "code",
   "execution_count": 33,
   "metadata": {},
   "outputs": [
    {
     "data": {
      "text/plain": [
       "{'Netherlands (the)': 'Netherlands',\n",
       " 'Taiwan (Province of China)': 'Taiwan',\n",
       " 'United Kingdom of Great Britain and Northern Ireland (the)': 'United Kingdom',\n",
       " 'Cabo Verde': 'Cape Verde',\n",
       " 'Philippines (the)': 'Philippines',\n",
       " 'Dominican Republic (the)': 'Dominican Republic',\n",
       " 'Moldova (the Republic of)': 'Moldova',\n",
       " 'Tanzania, the United Republic of': 'Tanzania',\n",
       " 'Bolivia (Plurinational State of)': 'Bolivia',\n",
       " 'Gambia (the)': 'Gambia',\n",
       " \"Côte d'Ivoire\": 'Ivory Coast',\n",
       " 'Palestine, State of': 'Palestine',\n",
       " 'Russian Federation (the)': 'Russia',\n",
       " 'Niger (the)': 'Niger',\n",
       " 'Comoros (the)': 'Comoros',\n",
       " 'Viet Nam': 'Vietnam',\n",
       " 'Venezuela (Bolivarian Republic of)': 'Venezuela',\n",
       " 'United Arab Emirates (the)': 'United Arab Emirates',\n",
       " 'Iran (Islamic Republic of)': 'Iran',\n",
       " 'Syrian Arab Republic (the)': 'Syria',\n",
       " 'Central African Republic (the)': 'Central African Republic',\n",
       " 'Congo (the Democratic Republic of the)': 'Democratic Republic of the Congo',\n",
       " \"Korea (the Democratic People's Republic of)\": 'North Korea'}"
      ]
     },
     "execution_count": 33,
     "metadata": {},
     "output_type": "execute_result"
    }
   ],
   "source": [
    "# process.extractOne(left, UnmatchedRight)[0] IS JUST THE COUNTRY NAME TO THE RIGHT\n",
    "# [0] just took first element in tuple.\n",
    "\n",
    "# left for left in UnmatchedLeft IS JUST EVERY COUNTRY NAME TO THE LEFT\n",
    "\n",
    "# if left not in omitLeft IS A CONDITION\n",
    "\n",
    "{process.extractOne(left, UnmatchedRight)[0]:left for left in UnmatchedLeft if left not in omitLeft}"
   ]
  },
  {
   "cell_type": "markdown",
   "metadata": {},
   "source": [
    "Let's save the dict above and use it to replace:"
   ]
  },
  {
   "cell_type": "code",
   "execution_count": 34,
   "metadata": {},
   "outputs": [],
   "source": [
    "changesRight={process.extractOne(left, UnmatchedRight)[0]:left for left in UnmatchedLeft if left not in omitLeft}\n",
    "DataIso.Countryname.replace(changesRight,inplace=True)"
   ]
  },
  {
   "cell_type": "markdown",
   "metadata": {},
   "source": [
    "DataIso has new country names. Let's prepare manually the remaining changes:"
   ]
  },
  {
   "cell_type": "code",
   "execution_count": 35,
   "metadata": {},
   "outputs": [],
   "source": [
    "# dict of manual changes\n",
    "bruteForceChanges={'Korea (the Republic of)':'South Korea', \n",
    "                'United States of America (the)':'United States',\n",
    "                'Czechia':'Czech Republic', \n",
    "                'Congo (the)':'Republic of the Congo',\n",
    "                'Sudan (the)':'Sudan',\n",
    "                \"Lao People's Democratic Republic (the)\":'Laos'}\n",
    "\n",
    "# replacing\n",
    "DataIso.Countryname.replace(bruteForceChanges,inplace=True)"
   ]
  },
  {
   "cell_type": "code",
   "execution_count": 37,
   "metadata": {},
   "outputs": [
    {
     "data": {
      "text/plain": [
       "['Afghanistan',\n",
       " 'Åland Islands',\n",
       " 'Albania',\n",
       " 'Algeria',\n",
       " 'American Samoa',\n",
       " 'Andorra',\n",
       " 'Angola',\n",
       " 'Anguilla',\n",
       " 'Antarctica',\n",
       " 'Antigua and Barbuda',\n",
       " 'Argentina',\n",
       " 'Armenia',\n",
       " 'Aruba',\n",
       " 'Australia',\n",
       " 'Austria',\n",
       " 'Azerbaijan',\n",
       " 'Bahamas (the)',\n",
       " 'Bahrain',\n",
       " 'Bangladesh',\n",
       " 'Barbados',\n",
       " 'Belarus',\n",
       " 'Belgium',\n",
       " 'Belize',\n",
       " 'Benin',\n",
       " 'Bermuda',\n",
       " 'Bhutan',\n",
       " 'Bolivia',\n",
       " 'Bonaire\\xa0Sint Eustatius\\xa0Saba',\n",
       " 'Bosnia and Herzegovina',\n",
       " 'Botswana',\n",
       " 'Bouvet Island',\n",
       " 'Brazil',\n",
       " 'British Indian Ocean Territory (the)',\n",
       " 'Brunei Darussalam',\n",
       " 'Bulgaria',\n",
       " 'Burkina Faso',\n",
       " 'Burundi',\n",
       " 'Cape Verde',\n",
       " 'Cambodia',\n",
       " 'Cameroon',\n",
       " 'Canada',\n",
       " 'Cayman Islands (the)',\n",
       " 'Central African Republic',\n",
       " 'Chad',\n",
       " 'Chile',\n",
       " 'China',\n",
       " 'Christmas Island',\n",
       " 'Cocos (Keeling) Islands (the)',\n",
       " 'Colombia',\n",
       " 'Comoros',\n",
       " 'Democratic Republic of the Congo',\n",
       " 'Republic of the Congo',\n",
       " 'Cook Islands (the)',\n",
       " 'Costa Rica',\n",
       " 'Ivory Coast',\n",
       " 'Croatia',\n",
       " 'Cuba',\n",
       " 'Curaçao',\n",
       " 'Cyprus',\n",
       " 'Czech Republic',\n",
       " 'Denmark',\n",
       " 'Djibouti',\n",
       " 'Dominica',\n",
       " 'Dominican Republic',\n",
       " 'Ecuador',\n",
       " 'Egypt',\n",
       " 'El Salvador',\n",
       " 'Equatorial Guinea',\n",
       " 'Eritrea',\n",
       " 'Estonia',\n",
       " 'Eswatini',\n",
       " 'Ethiopia',\n",
       " 'Falkland Islands (the)',\n",
       " 'Faroe Islands (the)',\n",
       " 'Fiji',\n",
       " 'Finland',\n",
       " 'France',\n",
       " 'French Guiana',\n",
       " 'French Polynesia',\n",
       " 'French Southern Territories (the)',\n",
       " 'Gabon',\n",
       " 'Gambia',\n",
       " 'Georgia',\n",
       " 'Germany',\n",
       " 'Ghana',\n",
       " 'Gibraltar',\n",
       " 'Greece',\n",
       " 'Greenland',\n",
       " 'Grenada',\n",
       " 'Guadeloupe',\n",
       " 'Guam',\n",
       " 'Guatemala',\n",
       " 'Guernsey',\n",
       " 'Guinea',\n",
       " 'Guinea-Bissau',\n",
       " 'Guyana',\n",
       " 'Haiti',\n",
       " 'Heard Island and McDonald Islands',\n",
       " 'Holy See (the)',\n",
       " 'Honduras',\n",
       " 'Hong Kong',\n",
       " 'Hungary',\n",
       " 'Iceland',\n",
       " 'India',\n",
       " 'Indonesia',\n",
       " 'Iran',\n",
       " 'Iraq',\n",
       " 'Ireland',\n",
       " 'Isle of Man',\n",
       " 'Israel',\n",
       " 'Italy',\n",
       " 'Jamaica',\n",
       " 'Japan',\n",
       " 'Jersey',\n",
       " 'Jordan',\n",
       " 'Kazakhstan',\n",
       " 'Kenya',\n",
       " 'Kiribati',\n",
       " 'North Korea',\n",
       " 'South Korea',\n",
       " 'Kuwait',\n",
       " 'Kyrgyzstan',\n",
       " 'Laos',\n",
       " 'Latvia',\n",
       " 'Lebanon',\n",
       " 'Lesotho',\n",
       " 'Liberia',\n",
       " 'Libya',\n",
       " 'Liechtenstein',\n",
       " 'Lithuania',\n",
       " 'Luxembourg',\n",
       " 'Macao',\n",
       " 'North Macedonia',\n",
       " 'Madagascar',\n",
       " 'Malawi',\n",
       " 'Malaysia',\n",
       " 'Maldives',\n",
       " 'Mali',\n",
       " 'Malta',\n",
       " 'Marshall Islands (the)',\n",
       " 'Martinique',\n",
       " 'Mauritania',\n",
       " 'Mauritius',\n",
       " 'Mayotte',\n",
       " 'Mexico',\n",
       " 'Micronesia (Federated States of)',\n",
       " 'Moldova',\n",
       " 'Monaco',\n",
       " 'Mongolia',\n",
       " 'Montenegro',\n",
       " 'Montserrat',\n",
       " 'Morocco',\n",
       " 'Mozambique',\n",
       " 'Myanmar',\n",
       " 'Namibia',\n",
       " 'Nauru',\n",
       " 'Nepal',\n",
       " 'Netherlands',\n",
       " 'New Caledonia',\n",
       " 'New Zealand',\n",
       " 'Nicaragua',\n",
       " 'Niger',\n",
       " 'Nigeria',\n",
       " 'Niue',\n",
       " 'Norfolk Island',\n",
       " 'Northern Mariana Islands (the)',\n",
       " 'Norway',\n",
       " 'Oman',\n",
       " 'Pakistan',\n",
       " 'Palau',\n",
       " 'Palestine',\n",
       " 'Panama',\n",
       " 'Papua New Guinea',\n",
       " 'Paraguay',\n",
       " 'Peru',\n",
       " 'Philippines',\n",
       " 'Pitcairn',\n",
       " 'Poland',\n",
       " 'Portugal',\n",
       " 'Puerto Rico',\n",
       " 'Qatar',\n",
       " 'Réunion',\n",
       " 'Romania',\n",
       " 'Russia',\n",
       " 'Rwanda',\n",
       " 'Saint Barthélemy',\n",
       " 'Saint Helena\\xa0Ascension Island\\xa0Tristan da Cunha',\n",
       " 'Saint Kitts and Nevis',\n",
       " 'Saint Lucia',\n",
       " 'Saint Martin (French part)',\n",
       " 'Saint Pierre and Miquelon',\n",
       " 'Saint Vincent and the Grenadines',\n",
       " 'Samoa',\n",
       " 'San Marino',\n",
       " 'Sao Tome and Principe',\n",
       " 'Saudi Arabia',\n",
       " 'Senegal',\n",
       " 'Serbia',\n",
       " 'Seychelles',\n",
       " 'Sierra Leone',\n",
       " 'Singapore',\n",
       " 'Sint Maarten (Dutch part)',\n",
       " 'Slovakia',\n",
       " 'Slovenia',\n",
       " 'Solomon Islands',\n",
       " 'Somalia',\n",
       " 'South Africa',\n",
       " 'South Georgia and the South Sandwich Islands',\n",
       " 'South Sudan',\n",
       " 'Spain',\n",
       " 'Sri Lanka',\n",
       " 'Sudan',\n",
       " 'Suriname',\n",
       " 'Svalbard\\xa0Jan Mayen',\n",
       " 'Sweden',\n",
       " 'Switzerland',\n",
       " 'Syria',\n",
       " 'Taiwan',\n",
       " 'Tajikistan',\n",
       " 'Tanzania',\n",
       " 'Thailand',\n",
       " 'Timor-Leste',\n",
       " 'Togo',\n",
       " 'Tokelau',\n",
       " 'Tonga',\n",
       " 'Trinidad and Tobago',\n",
       " 'Tunisia',\n",
       " 'Turkey',\n",
       " 'Turkmenistan',\n",
       " 'Turks and Caicos Islands (the)',\n",
       " 'Tuvalu',\n",
       " 'Uganda',\n",
       " 'Ukraine',\n",
       " 'United Arab Emirates',\n",
       " 'United Kingdom',\n",
       " 'United States Minor Outlying Islands (the)',\n",
       " 'United States',\n",
       " 'Uruguay',\n",
       " 'Uzbekistan',\n",
       " 'Vanuatu',\n",
       " 'Venezuela',\n",
       " 'Vietnam',\n",
       " 'Virgin Islands (British)',\n",
       " 'Virgin Islands (U.S.)',\n",
       " 'Wallis and Futuna',\n",
       " 'Western Sahara',\n",
       " 'Yemen',\n",
       " 'Zambia',\n",
       " 'Zimbabwe']"
      ]
     },
     "execution_count": 37,
     "metadata": {},
     "output_type": "execute_result"
    }
   ],
   "source": [
    "DataIso.Countryname.to_list()"
   ]
  },
  {
   "cell_type": "markdown",
   "metadata": {},
   "source": [
    "Let's redo the merging with full coincidences (option 1):"
   ]
  },
  {
   "cell_type": "code",
   "execution_count": 38,
   "metadata": {},
   "outputs": [
    {
     "data": {
      "text/plain": [
       "(167, 13)"
      ]
     },
     "execution_count": 38,
     "metadata": {},
     "output_type": "execute_result"
    }
   ],
   "source": [
    "# redoing merge\n",
    "allData=demoVars.merge(DataIso,left_on=\"Country\",right_on=\"Countryname\")\n",
    "\n",
    "# current dimension\n",
    "allData.shape"
   ]
  },
  {
   "cell_type": "code",
   "execution_count": 39,
   "metadata": {},
   "outputs": [
    {
     "data": {
      "text/html": [
       "<div>\n",
       "<style scoped>\n",
       "    .dataframe tbody tr th:only-of-type {\n",
       "        vertical-align: middle;\n",
       "    }\n",
       "\n",
       "    .dataframe tbody tr th {\n",
       "        vertical-align: top;\n",
       "    }\n",
       "\n",
       "    .dataframe thead th {\n",
       "        text-align: right;\n",
       "    }\n",
       "</style>\n",
       "<table border=\"1\" class=\"dataframe\">\n",
       "  <thead>\n",
       "    <tr style=\"text-align: right;\">\n",
       "      <th></th>\n",
       "      <th>Country</th>\n",
       "      <th>Regimetype</th>\n",
       "      <th>Overallscore</th>\n",
       "      <th>Electoralprocessandpluralism</th>\n",
       "      <th>Functioningofgovernment</th>\n",
       "      <th>Politicalparticipation</th>\n",
       "      <th>Politicalculture</th>\n",
       "      <th>Civilliberties</th>\n",
       "      <th>Countryname</th>\n",
       "      <th>Officialstatename</th>\n",
       "      <th>InternetccTLD</th>\n",
       "      <th>iso2</th>\n",
       "      <th>iso3</th>\n",
       "    </tr>\n",
       "  </thead>\n",
       "  <tbody>\n",
       "    <tr>\n",
       "      <th>0</th>\n",
       "      <td>Norway</td>\n",
       "      <td>Full democracy</td>\n",
       "      <td>9.81</td>\n",
       "      <td>10.00</td>\n",
       "      <td>9.64</td>\n",
       "      <td>10.00</td>\n",
       "      <td>10.00</td>\n",
       "      <td>9.41</td>\n",
       "      <td>Norway</td>\n",
       "      <td>The Kingdom of Norway</td>\n",
       "      <td>.no</td>\n",
       "      <td>NO</td>\n",
       "      <td>NOR</td>\n",
       "    </tr>\n",
       "    <tr>\n",
       "      <th>1</th>\n",
       "      <td>Iceland</td>\n",
       "      <td>Full democracy</td>\n",
       "      <td>9.37</td>\n",
       "      <td>10.00</td>\n",
       "      <td>8.57</td>\n",
       "      <td>8.89</td>\n",
       "      <td>10.00</td>\n",
       "      <td>9.41</td>\n",
       "      <td>Iceland</td>\n",
       "      <td>Iceland</td>\n",
       "      <td>.is</td>\n",
       "      <td>IS</td>\n",
       "      <td>ISL</td>\n",
       "    </tr>\n",
       "    <tr>\n",
       "      <th>2</th>\n",
       "      <td>Sweden</td>\n",
       "      <td>Full democracy</td>\n",
       "      <td>9.26</td>\n",
       "      <td>9.58</td>\n",
       "      <td>9.29</td>\n",
       "      <td>8.33</td>\n",
       "      <td>10.00</td>\n",
       "      <td>9.12</td>\n",
       "      <td>Sweden</td>\n",
       "      <td>The Kingdom of Sweden</td>\n",
       "      <td>.se</td>\n",
       "      <td>SE</td>\n",
       "      <td>SWE</td>\n",
       "    </tr>\n",
       "    <tr>\n",
       "      <th>3</th>\n",
       "      <td>New Zealand</td>\n",
       "      <td>Full democracy</td>\n",
       "      <td>9.25</td>\n",
       "      <td>10.00</td>\n",
       "      <td>8.93</td>\n",
       "      <td>8.89</td>\n",
       "      <td>8.75</td>\n",
       "      <td>9.71</td>\n",
       "      <td>New Zealand</td>\n",
       "      <td>New Zealand</td>\n",
       "      <td>.nz</td>\n",
       "      <td>NZ</td>\n",
       "      <td>NZL</td>\n",
       "    </tr>\n",
       "    <tr>\n",
       "      <th>4</th>\n",
       "      <td>Canada</td>\n",
       "      <td>Full democracy</td>\n",
       "      <td>9.24</td>\n",
       "      <td>9.58</td>\n",
       "      <td>8.93</td>\n",
       "      <td>8.89</td>\n",
       "      <td>9.38</td>\n",
       "      <td>9.41</td>\n",
       "      <td>Canada</td>\n",
       "      <td>Canada</td>\n",
       "      <td>.ca</td>\n",
       "      <td>CA</td>\n",
       "      <td>CAN</td>\n",
       "    </tr>\n",
       "    <tr>\n",
       "      <th>...</th>\n",
       "      <td>...</td>\n",
       "      <td>...</td>\n",
       "      <td>...</td>\n",
       "      <td>...</td>\n",
       "      <td>...</td>\n",
       "      <td>...</td>\n",
       "      <td>...</td>\n",
       "      <td>...</td>\n",
       "      <td>...</td>\n",
       "      <td>...</td>\n",
       "      <td>...</td>\n",
       "      <td>...</td>\n",
       "      <td>...</td>\n",
       "    </tr>\n",
       "    <tr>\n",
       "      <th>162</th>\n",
       "      <td>Chad</td>\n",
       "      <td>Authoritarian</td>\n",
       "      <td>1.55</td>\n",
       "      <td>0.00</td>\n",
       "      <td>0.00</td>\n",
       "      <td>1.67</td>\n",
       "      <td>3.75</td>\n",
       "      <td>2.35</td>\n",
       "      <td>Chad</td>\n",
       "      <td>The Republic of Chad</td>\n",
       "      <td>.td</td>\n",
       "      <td>TD</td>\n",
       "      <td>TCD</td>\n",
       "    </tr>\n",
       "    <tr>\n",
       "      <th>163</th>\n",
       "      <td>Syria</td>\n",
       "      <td>Authoritarian</td>\n",
       "      <td>1.43</td>\n",
       "      <td>0.00</td>\n",
       "      <td>0.00</td>\n",
       "      <td>2.78</td>\n",
       "      <td>4.38</td>\n",
       "      <td>0.00</td>\n",
       "      <td>Syria</td>\n",
       "      <td>The Syrian Arab Republic</td>\n",
       "      <td>.sy</td>\n",
       "      <td>SY</td>\n",
       "      <td>SYR</td>\n",
       "    </tr>\n",
       "    <tr>\n",
       "      <th>164</th>\n",
       "      <td>Central African Republic</td>\n",
       "      <td>Authoritarian</td>\n",
       "      <td>1.32</td>\n",
       "      <td>1.25</td>\n",
       "      <td>0.00</td>\n",
       "      <td>1.11</td>\n",
       "      <td>1.88</td>\n",
       "      <td>2.35</td>\n",
       "      <td>Central African Republic</td>\n",
       "      <td>The Central African Republic</td>\n",
       "      <td>.cf</td>\n",
       "      <td>CF</td>\n",
       "      <td>CAF</td>\n",
       "    </tr>\n",
       "    <tr>\n",
       "      <th>165</th>\n",
       "      <td>Democratic Republic of the Congo</td>\n",
       "      <td>Authoritarian</td>\n",
       "      <td>1.13</td>\n",
       "      <td>0.00</td>\n",
       "      <td>0.00</td>\n",
       "      <td>1.67</td>\n",
       "      <td>3.13</td>\n",
       "      <td>0.88</td>\n",
       "      <td>Democratic Republic of the Congo</td>\n",
       "      <td>The Democratic Republic of the Congo</td>\n",
       "      <td>.cd</td>\n",
       "      <td>CD</td>\n",
       "      <td>COD</td>\n",
       "    </tr>\n",
       "    <tr>\n",
       "      <th>166</th>\n",
       "      <td>North Korea</td>\n",
       "      <td>Authoritarian</td>\n",
       "      <td>1.08</td>\n",
       "      <td>0.00</td>\n",
       "      <td>2.50</td>\n",
       "      <td>1.67</td>\n",
       "      <td>1.25</td>\n",
       "      <td>0.00</td>\n",
       "      <td>North Korea</td>\n",
       "      <td>The Democratic People's Republic of Korea</td>\n",
       "      <td>.kp</td>\n",
       "      <td>KP</td>\n",
       "      <td>PRK</td>\n",
       "    </tr>\n",
       "  </tbody>\n",
       "</table>\n",
       "<p>167 rows × 13 columns</p>\n",
       "</div>"
      ],
      "text/plain": [
       "                              Country      Regimetype Overallscore  \\\n",
       "0                              Norway  Full democracy         9.81   \n",
       "1                             Iceland  Full democracy         9.37   \n",
       "2                              Sweden  Full democracy         9.26   \n",
       "3                         New Zealand  Full democracy         9.25   \n",
       "4                              Canada  Full democracy         9.24   \n",
       "..                                ...             ...          ...   \n",
       "162                              Chad   Authoritarian         1.55   \n",
       "163                             Syria   Authoritarian         1.43   \n",
       "164          Central African Republic   Authoritarian         1.32   \n",
       "165  Democratic Republic of the Congo   Authoritarian         1.13   \n",
       "166                       North Korea   Authoritarian         1.08   \n",
       "\n",
       "    Electoralprocessandpluralism Functioningofgovernment  \\\n",
       "0                          10.00                    9.64   \n",
       "1                          10.00                    8.57   \n",
       "2                           9.58                    9.29   \n",
       "3                          10.00                    8.93   \n",
       "4                           9.58                    8.93   \n",
       "..                           ...                     ...   \n",
       "162                         0.00                    0.00   \n",
       "163                         0.00                    0.00   \n",
       "164                         1.25                    0.00   \n",
       "165                         0.00                    0.00   \n",
       "166                         0.00                    2.50   \n",
       "\n",
       "    Politicalparticipation Politicalculture Civilliberties  \\\n",
       "0                    10.00            10.00           9.41   \n",
       "1                     8.89            10.00           9.41   \n",
       "2                     8.33            10.00           9.12   \n",
       "3                     8.89             8.75           9.71   \n",
       "4                     8.89             9.38           9.41   \n",
       "..                     ...              ...            ...   \n",
       "162                   1.67             3.75           2.35   \n",
       "163                   2.78             4.38           0.00   \n",
       "164                   1.11             1.88           2.35   \n",
       "165                   1.67             3.13           0.88   \n",
       "166                   1.67             1.25           0.00   \n",
       "\n",
       "                          Countryname  \\\n",
       "0                              Norway   \n",
       "1                             Iceland   \n",
       "2                              Sweden   \n",
       "3                         New Zealand   \n",
       "4                              Canada   \n",
       "..                                ...   \n",
       "162                              Chad   \n",
       "163                             Syria   \n",
       "164          Central African Republic   \n",
       "165  Democratic Republic of the Congo   \n",
       "166                       North Korea   \n",
       "\n",
       "                             Officialstatename InternetccTLD iso2 iso3  \n",
       "0                        The Kingdom of Norway           .no   NO  NOR  \n",
       "1                                      Iceland           .is   IS  ISL  \n",
       "2                        The Kingdom of Sweden           .se   SE  SWE  \n",
       "3                                  New Zealand           .nz   NZ  NZL  \n",
       "4                                       Canada           .ca   CA  CAN  \n",
       "..                                         ...           ...  ...  ...  \n",
       "162                       The Republic of Chad           .td   TD  TCD  \n",
       "163                   The Syrian Arab Republic           .sy   SY  SYR  \n",
       "164               The Central African Republic           .cf   CF  CAF  \n",
       "165       The Democratic Republic of the Congo           .cd   CD  COD  \n",
       "166  The Democratic People's Republic of Korea           .kp   KP  PRK  \n",
       "\n",
       "[167 rows x 13 columns]"
      ]
     },
     "execution_count": 39,
     "metadata": {},
     "output_type": "execute_result"
    }
   ],
   "source": [
    "allData"
   ]
  },
  {
   "cell_type": "markdown",
   "metadata": {},
   "source": [
    "Here, we could drop the columns that are not needed:"
   ]
  },
  {
   "cell_type": "code",
   "execution_count": 40,
   "metadata": {},
   "outputs": [
    {
     "data": {
      "text/html": [
       "<div>\n",
       "<style scoped>\n",
       "    .dataframe tbody tr th:only-of-type {\n",
       "        vertical-align: middle;\n",
       "    }\n",
       "\n",
       "    .dataframe tbody tr th {\n",
       "        vertical-align: top;\n",
       "    }\n",
       "\n",
       "    .dataframe thead th {\n",
       "        text-align: right;\n",
       "    }\n",
       "</style>\n",
       "<table border=\"1\" class=\"dataframe\">\n",
       "  <thead>\n",
       "    <tr style=\"text-align: right;\">\n",
       "      <th></th>\n",
       "      <th>Country</th>\n",
       "      <th>Regimetype</th>\n",
       "      <th>Overallscore</th>\n",
       "      <th>Electoralprocessandpluralism</th>\n",
       "      <th>Functioningofgovernment</th>\n",
       "      <th>Politicalparticipation</th>\n",
       "      <th>Politicalculture</th>\n",
       "      <th>Civilliberties</th>\n",
       "      <th>Officialstatename</th>\n",
       "      <th>InternetccTLD</th>\n",
       "      <th>iso2</th>\n",
       "      <th>iso3</th>\n",
       "    </tr>\n",
       "  </thead>\n",
       "  <tbody>\n",
       "    <tr>\n",
       "      <th>0</th>\n",
       "      <td>Norway</td>\n",
       "      <td>Full democracy</td>\n",
       "      <td>9.81</td>\n",
       "      <td>10.00</td>\n",
       "      <td>9.64</td>\n",
       "      <td>10.00</td>\n",
       "      <td>10.00</td>\n",
       "      <td>9.41</td>\n",
       "      <td>The Kingdom of Norway</td>\n",
       "      <td>.no</td>\n",
       "      <td>NO</td>\n",
       "      <td>NOR</td>\n",
       "    </tr>\n",
       "    <tr>\n",
       "      <th>1</th>\n",
       "      <td>Iceland</td>\n",
       "      <td>Full democracy</td>\n",
       "      <td>9.37</td>\n",
       "      <td>10.00</td>\n",
       "      <td>8.57</td>\n",
       "      <td>8.89</td>\n",
       "      <td>10.00</td>\n",
       "      <td>9.41</td>\n",
       "      <td>Iceland</td>\n",
       "      <td>.is</td>\n",
       "      <td>IS</td>\n",
       "      <td>ISL</td>\n",
       "    </tr>\n",
       "    <tr>\n",
       "      <th>2</th>\n",
       "      <td>Sweden</td>\n",
       "      <td>Full democracy</td>\n",
       "      <td>9.26</td>\n",
       "      <td>9.58</td>\n",
       "      <td>9.29</td>\n",
       "      <td>8.33</td>\n",
       "      <td>10.00</td>\n",
       "      <td>9.12</td>\n",
       "      <td>The Kingdom of Sweden</td>\n",
       "      <td>.se</td>\n",
       "      <td>SE</td>\n",
       "      <td>SWE</td>\n",
       "    </tr>\n",
       "    <tr>\n",
       "      <th>3</th>\n",
       "      <td>New Zealand</td>\n",
       "      <td>Full democracy</td>\n",
       "      <td>9.25</td>\n",
       "      <td>10.00</td>\n",
       "      <td>8.93</td>\n",
       "      <td>8.89</td>\n",
       "      <td>8.75</td>\n",
       "      <td>9.71</td>\n",
       "      <td>New Zealand</td>\n",
       "      <td>.nz</td>\n",
       "      <td>NZ</td>\n",
       "      <td>NZL</td>\n",
       "    </tr>\n",
       "    <tr>\n",
       "      <th>4</th>\n",
       "      <td>Canada</td>\n",
       "      <td>Full democracy</td>\n",
       "      <td>9.24</td>\n",
       "      <td>9.58</td>\n",
       "      <td>8.93</td>\n",
       "      <td>8.89</td>\n",
       "      <td>9.38</td>\n",
       "      <td>9.41</td>\n",
       "      <td>Canada</td>\n",
       "      <td>.ca</td>\n",
       "      <td>CA</td>\n",
       "      <td>CAN</td>\n",
       "    </tr>\n",
       "    <tr>\n",
       "      <th>...</th>\n",
       "      <td>...</td>\n",
       "      <td>...</td>\n",
       "      <td>...</td>\n",
       "      <td>...</td>\n",
       "      <td>...</td>\n",
       "      <td>...</td>\n",
       "      <td>...</td>\n",
       "      <td>...</td>\n",
       "      <td>...</td>\n",
       "      <td>...</td>\n",
       "      <td>...</td>\n",
       "      <td>...</td>\n",
       "    </tr>\n",
       "    <tr>\n",
       "      <th>162</th>\n",
       "      <td>Chad</td>\n",
       "      <td>Authoritarian</td>\n",
       "      <td>1.55</td>\n",
       "      <td>0.00</td>\n",
       "      <td>0.00</td>\n",
       "      <td>1.67</td>\n",
       "      <td>3.75</td>\n",
       "      <td>2.35</td>\n",
       "      <td>The Republic of Chad</td>\n",
       "      <td>.td</td>\n",
       "      <td>TD</td>\n",
       "      <td>TCD</td>\n",
       "    </tr>\n",
       "    <tr>\n",
       "      <th>163</th>\n",
       "      <td>Syria</td>\n",
       "      <td>Authoritarian</td>\n",
       "      <td>1.43</td>\n",
       "      <td>0.00</td>\n",
       "      <td>0.00</td>\n",
       "      <td>2.78</td>\n",
       "      <td>4.38</td>\n",
       "      <td>0.00</td>\n",
       "      <td>The Syrian Arab Republic</td>\n",
       "      <td>.sy</td>\n",
       "      <td>SY</td>\n",
       "      <td>SYR</td>\n",
       "    </tr>\n",
       "    <tr>\n",
       "      <th>164</th>\n",
       "      <td>Central African Republic</td>\n",
       "      <td>Authoritarian</td>\n",
       "      <td>1.32</td>\n",
       "      <td>1.25</td>\n",
       "      <td>0.00</td>\n",
       "      <td>1.11</td>\n",
       "      <td>1.88</td>\n",
       "      <td>2.35</td>\n",
       "      <td>The Central African Republic</td>\n",
       "      <td>.cf</td>\n",
       "      <td>CF</td>\n",
       "      <td>CAF</td>\n",
       "    </tr>\n",
       "    <tr>\n",
       "      <th>165</th>\n",
       "      <td>Democratic Republic of the Congo</td>\n",
       "      <td>Authoritarian</td>\n",
       "      <td>1.13</td>\n",
       "      <td>0.00</td>\n",
       "      <td>0.00</td>\n",
       "      <td>1.67</td>\n",
       "      <td>3.13</td>\n",
       "      <td>0.88</td>\n",
       "      <td>The Democratic Republic of the Congo</td>\n",
       "      <td>.cd</td>\n",
       "      <td>CD</td>\n",
       "      <td>COD</td>\n",
       "    </tr>\n",
       "    <tr>\n",
       "      <th>166</th>\n",
       "      <td>North Korea</td>\n",
       "      <td>Authoritarian</td>\n",
       "      <td>1.08</td>\n",
       "      <td>0.00</td>\n",
       "      <td>2.50</td>\n",
       "      <td>1.67</td>\n",
       "      <td>1.25</td>\n",
       "      <td>0.00</td>\n",
       "      <td>The Democratic People's Republic of Korea</td>\n",
       "      <td>.kp</td>\n",
       "      <td>KP</td>\n",
       "      <td>PRK</td>\n",
       "    </tr>\n",
       "  </tbody>\n",
       "</table>\n",
       "<p>167 rows × 12 columns</p>\n",
       "</div>"
      ],
      "text/plain": [
       "                              Country      Regimetype Overallscore  \\\n",
       "0                              Norway  Full democracy         9.81   \n",
       "1                             Iceland  Full democracy         9.37   \n",
       "2                              Sweden  Full democracy         9.26   \n",
       "3                         New Zealand  Full democracy         9.25   \n",
       "4                              Canada  Full democracy         9.24   \n",
       "..                                ...             ...          ...   \n",
       "162                              Chad   Authoritarian         1.55   \n",
       "163                             Syria   Authoritarian         1.43   \n",
       "164          Central African Republic   Authoritarian         1.32   \n",
       "165  Democratic Republic of the Congo   Authoritarian         1.13   \n",
       "166                       North Korea   Authoritarian         1.08   \n",
       "\n",
       "    Electoralprocessandpluralism Functioningofgovernment  \\\n",
       "0                          10.00                    9.64   \n",
       "1                          10.00                    8.57   \n",
       "2                           9.58                    9.29   \n",
       "3                          10.00                    8.93   \n",
       "4                           9.58                    8.93   \n",
       "..                           ...                     ...   \n",
       "162                         0.00                    0.00   \n",
       "163                         0.00                    0.00   \n",
       "164                         1.25                    0.00   \n",
       "165                         0.00                    0.00   \n",
       "166                         0.00                    2.50   \n",
       "\n",
       "    Politicalparticipation Politicalculture Civilliberties  \\\n",
       "0                    10.00            10.00           9.41   \n",
       "1                     8.89            10.00           9.41   \n",
       "2                     8.33            10.00           9.12   \n",
       "3                     8.89             8.75           9.71   \n",
       "4                     8.89             9.38           9.41   \n",
       "..                     ...              ...            ...   \n",
       "162                   1.67             3.75           2.35   \n",
       "163                   2.78             4.38           0.00   \n",
       "164                   1.11             1.88           2.35   \n",
       "165                   1.67             3.13           0.88   \n",
       "166                   1.67             1.25           0.00   \n",
       "\n",
       "                             Officialstatename InternetccTLD iso2 iso3  \n",
       "0                        The Kingdom of Norway           .no   NO  NOR  \n",
       "1                                      Iceland           .is   IS  ISL  \n",
       "2                        The Kingdom of Sweden           .se   SE  SWE  \n",
       "3                                  New Zealand           .nz   NZ  NZL  \n",
       "4                                       Canada           .ca   CA  CAN  \n",
       "..                                         ...           ...  ...  ...  \n",
       "162                       The Republic of Chad           .td   TD  TCD  \n",
       "163                   The Syrian Arab Republic           .sy   SY  SYR  \n",
       "164               The Central African Republic           .cf   CF  CAF  \n",
       "165       The Democratic Republic of the Congo           .cd   CD  COD  \n",
       "166  The Democratic People's Republic of Korea           .kp   KP  PRK  \n",
       "\n",
       "[167 rows x 12 columns]"
      ]
     },
     "execution_count": 40,
     "metadata": {},
     "output_type": "execute_result"
    }
   ],
   "source": [
    "allData.drop([\"Countryname\"],axis=1,inplace=True)\n",
    "allData"
   ]
  },
  {
   "cell_type": "markdown",
   "metadata": {},
   "source": [
    "Let's save this merged data frame in CSV format:"
   ]
  },
  {
   "cell_type": "code",
   "execution_count": null,
   "metadata": {},
   "outputs": [],
   "source": [
    "allData.to_csv('allData.csv',index=False)"
   ]
  },
  {
   "cell_type": "markdown",
   "metadata": {},
   "source": [
    "## Exercise 2:\n",
    "\n",
    "- Go to this link: [https://en.wikipedia.org/wiki/List_of_countries_and_dependencies_by_population](https://en.wikipedia.org/wiki/List_of_countries_and_dependencies_by_population).\n",
    "- Scrap the table of countries, and keep country names, and region.\n",
    "- Make sure the country names match exactly the ones from the table of democracy index.\n",
    "- Merge this table with the allData data frame (just add the region)\n",
    "- Prepare a CSV file with the clean, formatted and merged data, and upload that file into GitHub."
   ]
  },
  {
   "cell_type": "markdown",
   "metadata": {},
   "source": [
    "# RESHAPING\n",
    "\n",
    "### Wide and Long format\n",
    "\n",
    "Let's open **allDataFull**, whose structure has the **WIDE** format. In this format, the variables are in every column, the most traditional one for spreadsheet users. "
   ]
  },
  {
   "cell_type": "code",
   "execution_count": null,
   "metadata": {},
   "outputs": [],
   "source": [
    "allDataFull=pd.read_csv('https://github.com/EvansDataScience/CTforGA_integrating/raw/main/allDataFull.csv')\n",
    "allDataFull"
   ]
  },
  {
   "cell_type": "markdown",
   "metadata": {},
   "source": [
    "This is the final dataframe, let's check the data types, in case they need formatting:"
   ]
  },
  {
   "cell_type": "code",
   "execution_count": null,
   "metadata": {},
   "outputs": [],
   "source": [
    "allDataFull.info()"
   ]
  },
  {
   "cell_type": "markdown",
   "metadata": {},
   "source": [
    "We should turn the texts of the regime type column into ordinal levels:"
   ]
  },
  {
   "cell_type": "code",
   "execution_count": null,
   "metadata": {},
   "outputs": [],
   "source": [
    "from pandas.api.types import CategoricalDtype\n",
    "\n",
    "# create data type - notice ascending order of levels\n",
    "levelsDemo = CategoricalDtype(categories=['Authoritarian', 'Hybrid regime', 'Flawed democracy', 'Full democracy'], \n",
    "                              ordered=True)\n",
    "\n",
    "# make the change:\n",
    "allDataFull.Regimetype=allDataFull.Regimetype.astype(levelsDemo)\n",
    "\n",
    "# see result:\n",
    "allDataFull.Regimetype"
   ]
  },
  {
   "cell_type": "markdown",
   "metadata": {},
   "source": [
    "Once you have the right data types, you can request stats:"
   ]
  },
  {
   "cell_type": "code",
   "execution_count": null,
   "metadata": {},
   "outputs": [],
   "source": [
    "allDataFull.describe(include='all')\n",
    "# try? \n",
    "# allDataFull.describe()"
   ]
  },
  {
   "cell_type": "markdown",
   "metadata": {},
   "source": [
    "Let's see turn it into a **LONG** format:"
   ]
  },
  {
   "cell_type": "code",
   "execution_count": null,
   "metadata": {},
   "outputs": [],
   "source": [
    "allDataFull_LONG=allDataFull.melt(id_vars=['Country','Region',\"Regimetype\",'iso3','iso2','InternetccTLD'])\n",
    "allDataFull_LONG"
   ]
  },
  {
   "cell_type": "markdown",
   "metadata": {},
   "source": [
    "The amount of of rows multiplies, but **some** codes are easier to implement with long format (or can only be implemented in that format), like plotting:"
   ]
  },
  {
   "cell_type": "code",
   "execution_count": null,
   "metadata": {},
   "outputs": [],
   "source": [
    "import plotnine as p9\n",
    "\n",
    "\n",
    "base=p9.ggplot(data=allDataFull_LONG)\n",
    "base + p9.geom_boxplot(p9.aes(x='variable',y='value')) + p9.coord_flip()"
   ]
  },
  {
   "cell_type": "markdown",
   "metadata": {},
   "source": [
    "Using the original format (wide), you could only ploy one bar using the previous *grammar*:"
   ]
  },
  {
   "cell_type": "code",
   "execution_count": null,
   "metadata": {},
   "outputs": [],
   "source": [
    "base=p9.ggplot(data=allDataFull)\n",
    "base + p9.geom_boxplot(p9.aes(x=1,y='Overallscore')) + p9.coord_flip()"
   ]
  },
  {
   "cell_type": "markdown",
   "metadata": {},
   "source": [
    "Nonetheless, there are packages in Python that use the wide format for plotting (i.e. _seaborn_):"
   ]
  },
  {
   "cell_type": "code",
   "execution_count": null,
   "metadata": {},
   "outputs": [],
   "source": [
    "import seaborn as sns\n",
    "  \n",
    "whatVars= ['Overallscore', 'Electoralprocessandpluralism',\n",
    "           'Functioningofgovernment', 'Politicalparticipation', 'Politicalculture',\n",
    "           'Civilliberties']\n",
    "sns.boxplot(data=allDataFull[whatVars], \n",
    "                 orient=\"h\",color='white')"
   ]
  },
  {
   "cell_type": "markdown",
   "metadata": {},
   "source": [
    "# Aggregating\n",
    "\n",
    "Sometimes you need to aggregate your original data frame, that is, aggregate using a particular function some columns by a particular group . \n",
    "\n",
    "For example, if we wanted the average of the overall score of democracy by region, and get the result as a data frame:"
   ]
  },
  {
   "cell_type": "code",
   "execution_count": null,
   "metadata": {},
   "outputs": [],
   "source": [
    "allDataFull.groupby(\"Region\")[['Overallscore']].agg('mean').reset_index()"
   ]
  },
  {
   "cell_type": "markdown",
   "metadata": {},
   "source": [
    "What if we wanted the average of the overall score of democracy by region and by regime type, and get the result as a data frame:"
   ]
  },
  {
   "cell_type": "code",
   "execution_count": null,
   "metadata": {},
   "outputs": [],
   "source": [
    "allDataFull.groupby([\"Region\",\"Regimetype\"])[['Overallscore']].agg('mean').reset_index()"
   ]
  },
  {
   "cell_type": "markdown",
   "metadata": {},
   "source": [
    "Notice the if you do not use _reset_index()_, you will not get the groups as columns, but as row indexes:"
   ]
  },
  {
   "cell_type": "code",
   "execution_count": null,
   "metadata": {},
   "outputs": [],
   "source": [
    "allDataFull.groupby([\"Region\",\"Regimetype\"])[['Overallscore']].agg('mean')"
   ]
  },
  {
   "cell_type": "markdown",
   "metadata": {},
   "source": [
    "You can also request more aggregative functions:"
   ]
  },
  {
   "cell_type": "code",
   "execution_count": null,
   "metadata": {},
   "outputs": [],
   "source": [
    "allDataFull.groupby([\"Region\",\"Regimetype\"])[['Overallscore']].agg(['min','max']).reset_index()"
   ]
  },
  {
   "cell_type": "markdown",
   "metadata": {},
   "source": [
    "And of course, more variables to aggregate:"
   ]
  },
  {
   "cell_type": "code",
   "execution_count": null,
   "metadata": {
    "scrolled": true
   },
   "outputs": [],
   "source": [
    "severalVars=['Electoralprocessandpluralism','Functioningofgovernment', 'Politicalparticipation']\n",
    "allDataFull.groupby([\"Region\",\"Regimetype\"])[severalVars].agg(['min','max']).reset_index()"
   ]
  },
  {
   "cell_type": "markdown",
   "metadata": {},
   "source": [
    "The previous column names look more complex:"
   ]
  },
  {
   "cell_type": "code",
   "execution_count": null,
   "metadata": {},
   "outputs": [],
   "source": [
    "multi=allDataFull.groupby([\"Region\",\"Regimetype\"])[severalVars].agg(['min','max']).reset_index()\n",
    "multi.columns"
   ]
  },
  {
   "cell_type": "markdown",
   "metadata": {},
   "source": [
    "The aggregation process can produce **multiIndex**. Most of the time you want to flatten the multiIndex. We could use some basic string operations for that:"
   ]
  },
  {
   "cell_type": "code",
   "execution_count": null,
   "metadata": {},
   "outputs": [],
   "source": [
    "# concatenating:\n",
    "[(col[0]+'_'+col[1]) for col in multi.columns ]"
   ]
  },
  {
   "cell_type": "code",
   "execution_count": null,
   "metadata": {},
   "outputs": [],
   "source": [
    "# concatenating if secind element is not '':\n",
    "[(col[0]+'_'+col[1]) if col[1]!='' else col[0] for col in multi.columns ]"
   ]
  },
  {
   "cell_type": "code",
   "execution_count": null,
   "metadata": {},
   "outputs": [],
   "source": [
    "# same as before, but using 'join' function: \n",
    "['_'.join(col).strip() if col[1]!='' else col[0] for col in multi.columns ]"
   ]
  },
  {
   "cell_type": "markdown",
   "metadata": {},
   "source": [
    "I will save the new column names:"
   ]
  },
  {
   "cell_type": "code",
   "execution_count": null,
   "metadata": {},
   "outputs": [],
   "source": [
    "multi.columns= ['_'.join(col).strip() if col[1]!='' else col[0] for col in multi.columns ]"
   ]
  },
  {
   "cell_type": "markdown",
   "metadata": {},
   "source": [
    "This is the current look:"
   ]
  },
  {
   "cell_type": "code",
   "execution_count": null,
   "metadata": {},
   "outputs": [],
   "source": [
    "multi"
   ]
  },
  {
   "cell_type": "markdown",
   "metadata": {},
   "source": [
    "The current result can also be used when melting to a long format:"
   ]
  },
  {
   "cell_type": "code",
   "execution_count": null,
   "metadata": {},
   "outputs": [],
   "source": [
    "multi.melt(id_vars=['Region','Regimetype'])"
   ]
  },
  {
   "cell_type": "markdown",
   "metadata": {},
   "source": [
    "____\n",
    "\n",
    "\n",
    "# <font color=\"red\">SAVING FILE</font>\n",
    "\n",
    "The current _allDataFull_ data frame is clean and formatted. We have used CSV files so far:"
   ]
  },
  {
   "cell_type": "code",
   "execution_count": null,
   "metadata": {},
   "outputs": [],
   "source": [
    "allDataFull.to_csv(\"allDataFull_OK.csv\",index=False)"
   ]
  },
  {
   "cell_type": "markdown",
   "metadata": {},
   "source": [
    "When we read back the file you may notice something wrong:"
   ]
  },
  {
   "cell_type": "code",
   "execution_count": null,
   "metadata": {},
   "outputs": [],
   "source": [
    "allDataFull_OK=pd.read_csv(\"allDataFull_OK.csv\")\n",
    "allDataFull_OK.info()"
   ]
  },
  {
   "cell_type": "markdown",
   "metadata": {},
   "source": [
    "We need a file that avoids we have to reformat the columns again and again. Let's see the choices:"
   ]
  },
  {
   "cell_type": "markdown",
   "metadata": {},
   "source": [
    "#### For future use in Python:"
   ]
  },
  {
   "cell_type": "code",
   "execution_count": null,
   "metadata": {},
   "outputs": [],
   "source": [
    "allDataFull.to_pickle(\"allDataFull_OK.pkl\")\n",
    "# you will need: DF=pd.read_pickle(\"allDataFull.pkl\")\n",
    "# or:\n",
    "# from urllib.request import urlopen\n",
    "# DF=pd.read_pickle(urlopen(\"https://..../allDataFull.pkl\"),compression=None)"
   ]
  },
  {
   "cell_type": "code",
   "execution_count": null,
   "metadata": {},
   "outputs": [],
   "source": [
    "allDataFull_OK=pd.read_pickle(\"allDataFull_OK.pkl\")\n",
    "allDataFull_OK.info()"
   ]
  },
  {
   "cell_type": "code",
   "execution_count": null,
   "metadata": {},
   "outputs": [],
   "source": [
    "allDataFull_OK.Regimetype"
   ]
  },
  {
   "cell_type": "markdown",
   "metadata": {},
   "source": [
    "#### For future  use in R:"
   ]
  },
  {
   "cell_type": "code",
   "execution_count": null,
   "metadata": {},
   "outputs": [],
   "source": [
    "from rpy2.robjects import pandas2ri\n",
    "pandas2ri.activate()\n",
    "\n",
    "from rpy2.robjects.packages import importr\n",
    "\n",
    "base = importr('base')\n",
    "base.saveRDS(allDataFull,file=\"allDataFull_OK.RDS\")\n",
    "\n",
    "#In R, you call it with: DF = readRDS(\"allDataFull.RDS\")\n",
    "#or, if iyou read from cloud: DF = readRDS(url(\"https://..../allDataFull.RDS\")"
   ]
  },
  {
   "cell_type": "code",
   "execution_count": null,
   "metadata": {},
   "outputs": [],
   "source": []
  }
 ],
 "metadata": {
  "hide_input": false,
  "kernelspec": {
   "display_name": "Python 3",
   "language": "python",
   "name": "python3"
  },
  "language_info": {
   "codemirror_mode": {
    "name": "ipython",
    "version": 3
   },
   "file_extension": ".py",
   "mimetype": "text/x-python",
   "name": "python",
   "nbconvert_exporter": "python",
   "pygments_lexer": "ipython3",
   "version": "3.7.5"
  }
 },
 "nbformat": 4,
 "nbformat_minor": 2
}
